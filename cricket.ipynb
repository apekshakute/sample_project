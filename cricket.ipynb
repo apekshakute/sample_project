{
 "cells": [
  {
   "cell_type": "code",
   "execution_count": 0,
   "metadata": {
    "application/vnd.databricks.v1+cell": {
     "cellMetadata": {},
     "inputWidgets": {},
     "nuid": "87cfd359-2bda-4ad5-8c35-fd8d220cf575",
     "showTitle": false,
     "title": ""
    }
   },
   "outputs": [
    {
     "data": {
      "text/plain": [
       "Lets start over\n"
      ]
     },
     "metadata": {
      "application/vnd.databricks.v1+output": {
       "addedWidgets": {},
       "arguments": {},
       "data": "Lets start over\n",
       "datasetInfos": [],
       "metadata": {},
       "removedWidgets": [],
       "type": "ansi"
      }
     },
     "output_type": "display_data"
    }
   ],
   "source": [
    "print(\"Lets start over\")"
   ]
  },
  {
   "cell_type": "code",
   "execution_count": 0,
   "metadata": {
    "application/vnd.databricks.v1+cell": {
     "cellMetadata": {},
     "inputWidgets": {},
     "nuid": "7d29f230-40bb-4f5c-b7dd-d75d7e39568b",
     "showTitle": false,
     "title": ""
    }
   },
   "outputs": [],
   "source": [
    "from pyspark.sql import SparkSession\n",
    "spark = SparkSession.builder.appName(\"rockstar\").getOrCreate()"
   ]
  },
  {
   "cell_type": "code",
   "execution_count": 0,
   "metadata": {
    "application/vnd.databricks.v1+cell": {
     "cellMetadata": {},
     "inputWidgets": {},
     "nuid": "3d4e5479-4a0a-46a5-9217-c63bb12ff25e",
     "showTitle": false,
     "title": ""
    }
   },
   "outputs": [],
   "source": [
    "dt=spark.read.option(\"header\",True).csv(\"/FileStore/tables/MS_Dhoni_ODI_record_test.csv\")"
   ]
  },
  {
   "cell_type": "code",
   "execution_count": 0,
   "metadata": {
    "application/vnd.databricks.v1+cell": {
     "cellMetadata": {},
     "inputWidgets": {},
     "nuid": "a326f6f8-2bb5-468b-9f17-c9be567c34a1",
     "showTitle": false,
     "title": ""
    }
   },
   "outputs": [
    {
     "data": {
      "text/plain": [
       "root\n",
       " |-- score: string (nullable = true)\n",
       " |-- runs_scored: string (nullable = true)\n",
       " |-- balls_faced: string (nullable = true)\n",
       " |-- strike_rate: string (nullable = true)\n",
       " |-- fours: string (nullable = true)\n",
       " |-- sixes: string (nullable = true)\n",
       " |-- opposition: string (nullable = true)\n",
       " |-- ground: string (nullable = true)\n",
       " |-- date: string (nullable = true)\n",
       " |-- odi_number: string (nullable = true)\n",
       "\n"
      ]
     },
     "metadata": {
      "application/vnd.databricks.v1+output": {
       "addedWidgets": {},
       "arguments": {},
       "data": "root\n |-- score: string (nullable = true)\n |-- runs_scored: string (nullable = true)\n |-- balls_faced: string (nullable = true)\n |-- strike_rate: string (nullable = true)\n |-- fours: string (nullable = true)\n |-- sixes: string (nullable = true)\n |-- opposition: string (nullable = true)\n |-- ground: string (nullable = true)\n |-- date: string (nullable = true)\n |-- odi_number: string (nullable = true)\n\n",
       "datasetInfos": [],
       "metadata": {},
       "removedWidgets": [],
       "type": "ansi"
      }
     },
     "output_type": "display_data"
    }
   ],
   "source": [
    "dt.printSchema()"
   ]
  },
  {
   "cell_type": "code",
   "execution_count": 0,
   "metadata": {
    "application/vnd.databricks.v1+cell": {
     "cellMetadata": {},
     "inputWidgets": {},
     "nuid": "feec5601-e95e-471a-acdd-ee6678ea11f7",
     "showTitle": false,
     "title": ""
    }
   },
   "outputs": [
    {
     "data": {
      "text/plain": [
       "Out[5]: 350"
      ]
     },
     "metadata": {
      "application/vnd.databricks.v1+output": {
       "addedWidgets": {},
       "arguments": {},
       "data": "Out[5]: 350",
       "datasetInfos": [],
       "metadata": {},
       "removedWidgets": [],
       "type": "ansi"
      }
     },
     "output_type": "display_data"
    }
   ],
   "source": [
    "dt.count()"
   ]
  },
  {
   "cell_type": "code",
   "execution_count": 0,
   "metadata": {
    "application/vnd.databricks.v1+cell": {
     "cellMetadata": {},
     "inputWidgets": {},
     "nuid": "279f935a-52a4-4919-981a-3ad41a3fffa5",
     "showTitle": false,
     "title": ""
    }
   },
   "outputs": [
    {
     "data": {
      "text/plain": [
       "Out[6]: [Row(score='0', runs_scored='0', balls_faced='1', strike_rate='0', fours='0', sixes='0', opposition='v Bangladesh', ground='Chattogram', date='12/23/2004', odi_number='ODI # 2199'),\n",
       " Row(score='12', runs_scored='12', balls_faced='11', strike_rate='109.09', fours='2', sixes='0', opposition='v Bangladesh', ground='Dhaka', date='12/26/2004', odi_number='ODI # 2201')]"
      ]
     },
     "metadata": {
      "application/vnd.databricks.v1+output": {
       "addedWidgets": {},
       "arguments": {},
       "data": "Out[6]: [Row(score='0', runs_scored='0', balls_faced='1', strike_rate='0', fours='0', sixes='0', opposition='v Bangladesh', ground='Chattogram', date='12/23/2004', odi_number='ODI # 2199'),\n Row(score='12', runs_scored='12', balls_faced='11', strike_rate='109.09', fours='2', sixes='0', opposition='v Bangladesh', ground='Dhaka', date='12/26/2004', odi_number='ODI # 2201')]",
       "datasetInfos": [],
       "metadata": {},
       "removedWidgets": [],
       "type": "ansi"
      }
     },
     "output_type": "display_data"
    }
   ],
   "source": [
    "dt.take(2)"
   ]
  },
  {
   "cell_type": "code",
   "execution_count": 0,
   "metadata": {
    "application/vnd.databricks.v1+cell": {
     "cellMetadata": {},
     "inputWidgets": {},
     "nuid": "ac48182b-419b-47e9-a4bc-b34bb38f3be6",
     "showTitle": false,
     "title": ""
    }
   },
   "outputs": [],
   "source": [
    "total_fours=dt.agg({'fours':'sum'})"
   ]
  },
  {
   "cell_type": "code",
   "execution_count": 0,
   "metadata": {
    "application/vnd.databricks.v1+cell": {
     "cellMetadata": {},
     "inputWidgets": {},
     "nuid": "bd6e785b-0149-45b2-b187-65cf976ee46f",
     "showTitle": false,
     "title": ""
    }
   },
   "outputs": [
    {
     "data": {
      "text/plain": [
       "+----------+\n",
       "|sum(fours)|\n",
       "+----------+\n",
       "|     826.0|\n",
       "+----------+\n",
       "\n",
       "Total fours None\n"
      ]
     },
     "metadata": {
      "application/vnd.databricks.v1+output": {
       "addedWidgets": {},
       "arguments": {},
       "data": "+----------+\n|sum(fours)|\n+----------+\n|     826.0|\n+----------+\n\nTotal fours None\n",
       "datasetInfos": [],
       "metadata": {},
       "removedWidgets": [],
       "type": "ansi"
      }
     },
     "output_type": "display_data"
    }
   ],
   "source": [
    "print(f\"Total fours {total_fours.show()}\")"
   ]
  },
  {
   "cell_type": "code",
   "execution_count": 0,
   "metadata": {
    "application/vnd.databricks.v1+cell": {
     "cellMetadata": {},
     "inputWidgets": {},
     "nuid": "8de0dbe1-535f-4ae0-befe-1a767751c9b6",
     "showTitle": false,
     "title": ""
    }
   },
   "outputs": [
    {
     "data": {
      "text/plain": [
       "+-----+-----------+-----------+-----------+-----+-----+------------+------+----------+----------+\n",
       "|score|runs_scored|balls_faced|strike_rate|fours|sixes|  opposition|ground|      date|odi_number|\n",
       "+-----+-----------+-----------+-----------+-----+-----+------------+------+----------+----------+\n",
       "|   12|         12|         11|     109.09|    2|    0|v Bangladesh| Dhaka|12/26/2004|ODI # 2201|\n",
       "|   7*|          7|          2|        350|    0|    1|v Bangladesh| Dhaka|12/27/2004|ODI # 2202|\n",
       "|  91*|         91|        106|      85.84|    7|    0|v Bangladesh| Dhaka| 5/10/2007|ODI # 2582|\n",
       "|   36|         36|         54|      66.66|    4|    0|v Bangladesh| Dhaka| 5/12/2007|ODI # 2583|\n",
       "|   24|         24|         23|     104.34|    5|    0|  v Pakistan| Dhaka| 6/10/2008|ODI # 2705|\n",
       "|  DNB|          -|          -|          -|    -|    -|v Bangladesh| Dhaka| 6/12/2008|ODI # 2706|\n",
       "|   64|         64|         59|     108.47|    3|    2|  v Pakistan| Dhaka| 6/14/2008|ODI # 2707|\n",
       "|   37|         37|         70|      52.85|    3|    0| v Sri Lanka| Dhaka|  1/5/2010|ODI # 2938|\n",
       "| 101*|        101|        107|      94.39|    9|    0|v Bangladesh| Dhaka|  1/7/2010|ODI # 2939|\n",
       "|  DNB|          -|          -|          -|    -|    -| v Sri Lanka| Dhaka| 1/10/2010|ODI # 2941|\n",
       "|   32|         32|         35|      91.42|    3|    0|v Bangladesh| Dhaka| 1/11/2010|ODI # 2942|\n",
       "|   14|         14|         19|      73.68|    3|    0| v Sri Lanka| Dhaka| 1/13/2010|ODI # 2943|\n",
       "|  DNB|          -|          -|          -|    -|    -|v Bangladesh| Dhaka| 2/19/2011|ODI # 3100|\n",
       "|  46*|         46|         26|     176.92|    6|    1| v Sri Lanka| Dhaka| 3/13/2012|ODI # 3259|\n",
       "|  21*|         21|         11|      190.9|    2|    0|v Bangladesh| Dhaka| 3/16/2012|ODI # 3261|\n",
       "|   4*|          4|          1|        400|    1|    0|  v Pakistan| Dhaka| 3/18/2012|ODI # 3263|\n",
       "|    5|          5|          7|      71.42|    0|    0|v Bangladesh| Dhaka| 6/18/2015|ODI # 3658|\n",
       "|   47|         47|         75|      62.66|    3|    0|v Bangladesh| Dhaka| 6/21/2015|ODI # 3660|\n",
       "|   69|         69|         77|      89.61|    6|    1|v Bangladesh| Dhaka| 6/24/2015|ODI # 3661|\n",
       "+-----+-----------+-----------+-----------+-----+-----+------------+------+----------+----------+\n",
       "\n"
      ]
     },
     "metadata": {
      "application/vnd.databricks.v1+output": {
       "addedWidgets": {},
       "arguments": {},
       "data": "+-----+-----------+-----------+-----------+-----+-----+------------+------+----------+----------+\n|score|runs_scored|balls_faced|strike_rate|fours|sixes|  opposition|ground|      date|odi_number|\n+-----+-----------+-----------+-----------+-----+-----+------------+------+----------+----------+\n|   12|         12|         11|     109.09|    2|    0|v Bangladesh| Dhaka|12/26/2004|ODI # 2201|\n|   7*|          7|          2|        350|    0|    1|v Bangladesh| Dhaka|12/27/2004|ODI # 2202|\n|  91*|         91|        106|      85.84|    7|    0|v Bangladesh| Dhaka| 5/10/2007|ODI # 2582|\n|   36|         36|         54|      66.66|    4|    0|v Bangladesh| Dhaka| 5/12/2007|ODI # 2583|\n|   24|         24|         23|     104.34|    5|    0|  v Pakistan| Dhaka| 6/10/2008|ODI # 2705|\n|  DNB|          -|          -|          -|    -|    -|v Bangladesh| Dhaka| 6/12/2008|ODI # 2706|\n|   64|         64|         59|     108.47|    3|    2|  v Pakistan| Dhaka| 6/14/2008|ODI # 2707|\n|   37|         37|         70|      52.85|    3|    0| v Sri Lanka| Dhaka|  1/5/2010|ODI # 2938|\n| 101*|        101|        107|      94.39|    9|    0|v Bangladesh| Dhaka|  1/7/2010|ODI # 2939|\n|  DNB|          -|          -|          -|    -|    -| v Sri Lanka| Dhaka| 1/10/2010|ODI # 2941|\n|   32|         32|         35|      91.42|    3|    0|v Bangladesh| Dhaka| 1/11/2010|ODI # 2942|\n|   14|         14|         19|      73.68|    3|    0| v Sri Lanka| Dhaka| 1/13/2010|ODI # 2943|\n|  DNB|          -|          -|          -|    -|    -|v Bangladesh| Dhaka| 2/19/2011|ODI # 3100|\n|  46*|         46|         26|     176.92|    6|    1| v Sri Lanka| Dhaka| 3/13/2012|ODI # 3259|\n|  21*|         21|         11|      190.9|    2|    0|v Bangladesh| Dhaka| 3/16/2012|ODI # 3261|\n|   4*|          4|          1|        400|    1|    0|  v Pakistan| Dhaka| 3/18/2012|ODI # 3263|\n|    5|          5|          7|      71.42|    0|    0|v Bangladesh| Dhaka| 6/18/2015|ODI # 3658|\n|   47|         47|         75|      62.66|    3|    0|v Bangladesh| Dhaka| 6/21/2015|ODI # 3660|\n|   69|         69|         77|      89.61|    6|    1|v Bangladesh| Dhaka| 6/24/2015|ODI # 3661|\n+-----+-----------+-----------+-----------+-----+-----+------------+------+----------+----------+\n\n",
       "datasetInfos": [],
       "metadata": {},
       "removedWidgets": [],
       "type": "ansi"
      }
     },
     "output_type": "display_data"
    }
   ],
   "source": [
    "#matches played in Dhaka\n",
    "dt.filter(dt.ground=='Dhaka').show()"
   ]
  },
  {
   "cell_type": "code",
   "execution_count": 0,
   "metadata": {
    "application/vnd.databricks.v1+cell": {
     "cellMetadata": {},
     "inputWidgets": {},
     "nuid": "46ba0d6b-f454-40d7-b952-893c6153aa4a",
     "showTitle": false,
     "title": ""
    }
   },
   "outputs": [
    {
     "data": {
      "text/plain": [
       "+--------------+-----+\n",
       "|    opposition|count|\n",
       "+--------------+-----+\n",
       "|   v Sri Lanka|   67|\n",
       "|   v Australia|   55|\n",
       "|     v England|   48|\n",
       "| v West Indies|   39|\n",
       "|v South Africa|   37|\n",
       "|    v Pakistan|   36|\n",
       "| v New Zealand|   28|\n",
       "|  v Bangladesh|   21|\n",
       "|    v Zimbabwe|    6|\n",
       "|   v Africa XI|    3|\n",
       "|     v Ireland|    2|\n",
       "|   v Hong Kong|    2|\n",
       "| v Afghanistan|    2|\n",
       "| v Netherlands|    1|\n",
       "|     v Bermuda|    1|\n",
       "|      v U.A.E.|    1|\n",
       "|    v Scotland|    1|\n",
       "+--------------+-----+\n",
       "\n"
      ]
     },
     "metadata": {
      "application/vnd.databricks.v1+output": {
       "addedWidgets": {},
       "arguments": {},
       "data": "+--------------+-----+\n|    opposition|count|\n+--------------+-----+\n|   v Sri Lanka|   67|\n|   v Australia|   55|\n|     v England|   48|\n| v West Indies|   39|\n|v South Africa|   37|\n|    v Pakistan|   36|\n| v New Zealand|   28|\n|  v Bangladesh|   21|\n|    v Zimbabwe|    6|\n|   v Africa XI|    3|\n|     v Ireland|    2|\n|   v Hong Kong|    2|\n| v Afghanistan|    2|\n| v Netherlands|    1|\n|     v Bermuda|    1|\n|      v U.A.E.|    1|\n|    v Scotland|    1|\n+--------------+-----+\n\n",
       "datasetInfos": [],
       "metadata": {},
       "removedWidgets": [],
       "type": "ansi"
      }
     },
     "output_type": "display_data"
    }
   ],
   "source": [
    "#count of matches played against opposition\n",
    "from pyspark.sql.functions import *\n",
    "dt.groupBy(\"opposition\").count().orderBy(col('count').desc()).show()"
   ]
  },
  {
   "cell_type": "code",
   "execution_count": 0,
   "metadata": {
    "application/vnd.databricks.v1+cell": {
     "cellMetadata": {},
     "inputWidgets": {},
     "nuid": "0e016aea-7181-48d8-966d-a80a01a397f0",
     "showTitle": false,
     "title": ""
    }
   },
   "outputs": [
    {
     "data": {
      "text/plain": [
       "Out[11]: Row(score='0', runs_scored='0', balls_faced='1', strike_rate='0', fours='0', sixes='0', opposition='v Bangladesh', ground='Chattogram', date='12/23/2004', odi_number='ODI # 2199')"
      ]
     },
     "metadata": {
      "application/vnd.databricks.v1+output": {
       "addedWidgets": {},
       "arguments": {},
       "data": "Out[11]: Row(score='0', runs_scored='0', balls_faced='1', strike_rate='0', fours='0', sixes='0', opposition='v Bangladesh', ground='Chattogram', date='12/23/2004', odi_number='ODI # 2199')",
       "datasetInfos": [],
       "metadata": {},
       "removedWidgets": [],
       "type": "ansi"
      }
     },
     "output_type": "display_data"
    }
   ],
   "source": [
    "dt.first()"
   ]
  },
  {
   "cell_type": "code",
   "execution_count": 0,
   "metadata": {
    "application/vnd.databricks.v1+cell": {
     "cellMetadata": {},
     "inputWidgets": {},
     "nuid": "49dc0d15-b335-4c3b-85a0-7daca95cf6a8",
     "showTitle": false,
     "title": ""
    }
   },
   "outputs": [
    {
     "data": {
      "text/plain": [
       "+-----+--------------+----------+\n",
       "|score|    opposition|      date|\n",
       "+-----+--------------+----------+\n",
       "|    0|  v Bangladesh|12/23/2004|\n",
       "|    0|   v Sri Lanka| 11/6/2005|\n",
       "|    0|  v Bangladesh| 3/17/2007|\n",
       "|    0|   v Sri Lanka| 3/23/2007|\n",
       "|    0|v South Africa| 6/29/2007|\n",
       "|    0|   v Australia|10/20/2010|\n",
       "|    0|     v England| 6/23/2013|\n",
       "|    0|   v Australia| 1/20/2016|\n",
       "|    0|   v Hong Kong| 9/18/2018|\n",
       "|    0|   v Australia|  3/5/2019|\n",
       "+-----+--------------+----------+\n",
       "\n"
      ]
     },
     "metadata": {
      "application/vnd.databricks.v1+output": {
       "addedWidgets": {},
       "arguments": {},
       "data": "+-----+--------------+----------+\n|score|    opposition|      date|\n+-----+--------------+----------+\n|    0|  v Bangladesh|12/23/2004|\n|    0|   v Sri Lanka| 11/6/2005|\n|    0|  v Bangladesh| 3/17/2007|\n|    0|   v Sri Lanka| 3/23/2007|\n|    0|v South Africa| 6/29/2007|\n|    0|   v Australia|10/20/2010|\n|    0|     v England| 6/23/2013|\n|    0|   v Australia| 1/20/2016|\n|    0|   v Hong Kong| 9/18/2018|\n|    0|   v Australia|  3/5/2019|\n+-----+--------------+----------+\n\n",
       "datasetInfos": [],
       "metadata": {},
       "removedWidgets": [],
       "type": "ansi"
      }
     },
     "output_type": "display_data"
    }
   ],
   "source": [
    "dt.filter(dt.score== 0).select('score','opposition','date').show()"
   ]
  },
  {
   "cell_type": "code",
   "execution_count": 0,
   "metadata": {
    "application/vnd.databricks.v1+cell": {
     "cellMetadata": {},
     "inputWidgets": {},
     "nuid": "76a85961-1d4e-4141-b20e-8ea8cde39540",
     "showTitle": false,
     "title": ""
    }
   },
   "outputs": [
    {
     "data": {
      "text/plain": [
       "+-----+-----------+-----------+-----------+-----+-----+-------------+-------------+----------+----------+-------+\n",
       "|score|runs_scored|balls_faced|strike_rate|fours|sixes|   opposition|       ground|      date|odi_number|country|\n",
       "+-----+-----------+-----------+-----------+-----+-----+-------------+-------------+----------+----------+-------+\n",
       "|    0|          0|          1|          0|    0|    0| v Bangladesh|   Chattogram|12/23/2004|ODI # 2199|  India|\n",
       "|   12|         12|         11|     109.09|    2|    0| v Bangladesh|        Dhaka|12/26/2004|ODI # 2201|  India|\n",
       "|   7*|          7|          2|        350|    0|    1| v Bangladesh|        Dhaka|12/27/2004|ODI # 2202|  India|\n",
       "|    3|          3|          7|      42.85|    0|    0|   v Pakistan|        Kochi|  4/2/2005|ODI # 2235|  India|\n",
       "|  148|        148|        123|     120.32|   15|    4|   v Pakistan|Visakhapatnam|  4/5/2005|ODI # 2236|  India|\n",
       "|   28|         28|         24|     116.66|    5|    0|   v Pakistan|   Jamshedpur|  4/9/2005|ODI # 2237|  India|\n",
       "|   47|         47|         64|      73.43|    4|    1|   v Pakistan|    Ahmedabad| 4/12/2005|ODI # 2238|  India|\n",
       "|   11|         11|         16|      68.75|    1|    0|   v Pakistan|       Kanpur| 4/15/2005|ODI # 2239|  India|\n",
       "|   24|         24|         38|      63.15|    2|    0|   v Pakistan|        Delhi| 4/17/2005|ODI # 2240|  India|\n",
       "|    2|          2|          7|      28.57|    0|    0|  v Sri Lanka|     Dambulla| 7/30/2005|ODI # 2262|  India|\n",
       "|  15*|         15|         11|     136.36|    1|    1|v West Indies|     Dambulla| 7/31/2005|ODI # 2263|  India|\n",
       "|   20|         20|         27|      74.07|    1|    0|  v Sri Lanka|     Dambulla|  8/3/2005|ODI # 2265|  India|\n",
       "|  28*|         28|         13|     215.38|    1|    2|v West Indies|Colombo (RPS)|  8/7/2005|ODI # 2267|  India|\n",
       "|    7|          7|         11|      63.63|    0|    0|  v Sri Lanka|Colombo (RPS)|  8/9/2005|ODI # 2268|  India|\n",
       "|    2|          2|          5|         40|    0|    0|v New Zealand|     Bulawayo| 8/26/2005|ODI # 2273|  India|\n",
       "|   56|         56|         46|     121.73|    2|    4|   v Zimbabwe|       Harare| 8/29/2005|ODI # 2274|  India|\n",
       "|  37*|         37|         27|     137.03|    3|    2|v New Zealand|       Harare|  9/2/2005|ODI # 2278|  India|\n",
       "|  67*|         67|         63|     106.34|    1|    3|   v Zimbabwe|       Harare|  9/4/2005|ODI # 2280|  India|\n",
       "|   11|         11|         16|      68.75|    1|    0|v New Zealand|       Harare|  9/6/2005|ODI # 2281|  India|\n",
       "|   38|         38|         28|     135.71|    3|    2|  v Sri Lanka|       Nagpur|10/25/2005|ODI # 2286|  India|\n",
       "+-----+-----------+-----------+-----------+-----+-----+-------------+-------------+----------+----------+-------+\n",
       "only showing top 20 rows\n",
       "\n"
      ]
     },
     "metadata": {
      "application/vnd.databricks.v1+output": {
       "addedWidgets": {},
       "arguments": {},
       "data": "+-----+-----------+-----------+-----------+-----+-----+-------------+-------------+----------+----------+-------+\n|score|runs_scored|balls_faced|strike_rate|fours|sixes|   opposition|       ground|      date|odi_number|country|\n+-----+-----------+-----------+-----------+-----+-----+-------------+-------------+----------+----------+-------+\n|    0|          0|          1|          0|    0|    0| v Bangladesh|   Chattogram|12/23/2004|ODI # 2199|  India|\n|   12|         12|         11|     109.09|    2|    0| v Bangladesh|        Dhaka|12/26/2004|ODI # 2201|  India|\n|   7*|          7|          2|        350|    0|    1| v Bangladesh|        Dhaka|12/27/2004|ODI # 2202|  India|\n|    3|          3|          7|      42.85|    0|    0|   v Pakistan|        Kochi|  4/2/2005|ODI # 2235|  India|\n|  148|        148|        123|     120.32|   15|    4|   v Pakistan|Visakhapatnam|  4/5/2005|ODI # 2236|  India|\n|   28|         28|         24|     116.66|    5|    0|   v Pakistan|   Jamshedpur|  4/9/2005|ODI # 2237|  India|\n|   47|         47|         64|      73.43|    4|    1|   v Pakistan|    Ahmedabad| 4/12/2005|ODI # 2238|  India|\n|   11|         11|         16|      68.75|    1|    0|   v Pakistan|       Kanpur| 4/15/2005|ODI # 2239|  India|\n|   24|         24|         38|      63.15|    2|    0|   v Pakistan|        Delhi| 4/17/2005|ODI # 2240|  India|\n|    2|          2|          7|      28.57|    0|    0|  v Sri Lanka|     Dambulla| 7/30/2005|ODI # 2262|  India|\n|  15*|         15|         11|     136.36|    1|    1|v West Indies|     Dambulla| 7/31/2005|ODI # 2263|  India|\n|   20|         20|         27|      74.07|    1|    0|  v Sri Lanka|     Dambulla|  8/3/2005|ODI # 2265|  India|\n|  28*|         28|         13|     215.38|    1|    2|v West Indies|Colombo (RPS)|  8/7/2005|ODI # 2267|  India|\n|    7|          7|         11|      63.63|    0|    0|  v Sri Lanka|Colombo (RPS)|  8/9/2005|ODI # 2268|  India|\n|    2|          2|          5|         40|    0|    0|v New Zealand|     Bulawayo| 8/26/2005|ODI # 2273|  India|\n|   56|         56|         46|     121.73|    2|    4|   v Zimbabwe|       Harare| 8/29/2005|ODI # 2274|  India|\n|  37*|         37|         27|     137.03|    3|    2|v New Zealand|       Harare|  9/2/2005|ODI # 2278|  India|\n|  67*|         67|         63|     106.34|    1|    3|   v Zimbabwe|       Harare|  9/4/2005|ODI # 2280|  India|\n|   11|         11|         16|      68.75|    1|    0|v New Zealand|       Harare|  9/6/2005|ODI # 2281|  India|\n|   38|         38|         28|     135.71|    3|    2|  v Sri Lanka|       Nagpur|10/25/2005|ODI # 2286|  India|\n+-----+-----------+-----------+-----------+-----+-----+-------------+-------------+----------+----------+-------+\nonly showing top 20 rows\n\n",
       "datasetInfos": [],
       "metadata": {},
       "removedWidgets": [],
       "type": "ansi"
      }
     },
     "output_type": "display_data"
    }
   ],
   "source": [
    "#add new col\n",
    "dt.withColumn(\"country\",lit('India')).show()"
   ]
  },
  {
   "cell_type": "code",
   "execution_count": 0,
   "metadata": {
    "application/vnd.databricks.v1+cell": {
     "cellMetadata": {},
     "inputWidgets": {},
     "nuid": "aae206c6-5e14-4efb-8450-fc1b973b55e0",
     "showTitle": false,
     "title": ""
    }
   },
   "outputs": [
    {
     "data": {
      "text/plain": [
       "+---------+\n",
       "|min(date)|\n",
       "+---------+\n",
       "|1/11/2010|\n",
       "+---------+\n",
       "\n"
      ]
     },
     "metadata": {
      "application/vnd.databricks.v1+output": {
       "addedWidgets": {},
       "arguments": {},
       "data": "+---------+\n|min(date)|\n+---------+\n|1/11/2010|\n+---------+\n\n",
       "datasetInfos": [],
       "metadata": {},
       "removedWidgets": [],
       "type": "ansi"
      }
     },
     "output_type": "display_data"
    }
   ],
   "source": [
    "dt.filter(dt.score != 'DNB').agg({'date':'min'}).show()"
   ]
  },
  {
   "cell_type": "code",
   "execution_count": 0,
   "metadata": {
    "application/vnd.databricks.v1+cell": {
     "cellMetadata": {},
     "inputWidgets": {},
     "nuid": "5144d986-ebb2-478a-b873-d9d29096cd89",
     "showTitle": false,
     "title": ""
    }
   },
   "outputs": [
    {
     "data": {
      "text/plain": [
       "+-----+-----------+-----------+-----------+-----+-----+------------+------+---------+----------+\n",
       "|score|runs_scored|balls_faced|strike_rate|fours|sixes|  opposition|ground|     date|odi_number|\n",
       "+-----+-----------+-----------+-----------+-----+-----+------------+------+---------+----------+\n",
       "|   32|         32|         35|      91.42|    3|    0|v Bangladesh| Dhaka|1/11/2010|ODI # 2942|\n",
       "+-----+-----------+-----------+-----------+-----+-----+------------+------+---------+----------+\n",
       "\n"
      ]
     },
     "metadata": {
      "application/vnd.databricks.v1+output": {
       "addedWidgets": {},
       "arguments": {},
       "data": "+-----+-----------+-----------+-----------+-----+-----+------------+------+---------+----------+\n|score|runs_scored|balls_faced|strike_rate|fours|sixes|  opposition|ground|     date|odi_number|\n+-----+-----------+-----------+-----------+-----+-----+------------+------+---------+----------+\n|   32|         32|         35|      91.42|    3|    0|v Bangladesh| Dhaka|1/11/2010|ODI # 2942|\n+-----+-----------+-----------+-----------+-----+-----+------------+------+---------+----------+\n\n",
       "datasetInfos": [],
       "metadata": {},
       "removedWidgets": [],
       "type": "ansi"
      }
     },
     "output_type": "display_data"
    }
   ],
   "source": [
    "dt.filter(dt.date == '1/11/2010').show()"
   ]
  },
  {
   "cell_type": "code",
   "execution_count": 0,
   "metadata": {
    "application/vnd.databricks.v1+cell": {
     "cellMetadata": {},
     "inputWidgets": {},
     "nuid": "2d55bf13-d38f-4c82-b60f-e4309c8817ae",
     "showTitle": false,
     "title": ""
    }
   },
   "outputs": [
    {
     "data": {
      "text/plain": [
       "+-----+-----------+-----------+-----------+-----+-----+-------------+-------------+----------+----------+-----+\n",
       "|score|runs_scored|balls_faced|strike_rate|fours|sixes|   opposition|       ground|      date|odi_number|Ddate|\n",
       "+-----+-----------+-----------+-----------+-----+-----+-------------+-------------+----------+----------+-----+\n",
       "|    0|          0|          1|          0|    0|    0| v Bangladesh|   Chattogram|12/23/2004|ODI # 2199| null|\n",
       "|   12|         12|         11|     109.09|    2|    0| v Bangladesh|        Dhaka|12/26/2004|ODI # 2201| null|\n",
       "|   7*|          7|          2|        350|    0|    1| v Bangladesh|        Dhaka|12/27/2004|ODI # 2202| null|\n",
       "|    3|          3|          7|      42.85|    0|    0|   v Pakistan|        Kochi|  4/2/2005|ODI # 2235| null|\n",
       "|  148|        148|        123|     120.32|   15|    4|   v Pakistan|Visakhapatnam|  4/5/2005|ODI # 2236| null|\n",
       "|   28|         28|         24|     116.66|    5|    0|   v Pakistan|   Jamshedpur|  4/9/2005|ODI # 2237| null|\n",
       "|   47|         47|         64|      73.43|    4|    1|   v Pakistan|    Ahmedabad| 4/12/2005|ODI # 2238| null|\n",
       "|   11|         11|         16|      68.75|    1|    0|   v Pakistan|       Kanpur| 4/15/2005|ODI # 2239| null|\n",
       "|   24|         24|         38|      63.15|    2|    0|   v Pakistan|        Delhi| 4/17/2005|ODI # 2240| null|\n",
       "|    2|          2|          7|      28.57|    0|    0|  v Sri Lanka|     Dambulla| 7/30/2005|ODI # 2262| null|\n",
       "|  15*|         15|         11|     136.36|    1|    1|v West Indies|     Dambulla| 7/31/2005|ODI # 2263| null|\n",
       "|   20|         20|         27|      74.07|    1|    0|  v Sri Lanka|     Dambulla|  8/3/2005|ODI # 2265| null|\n",
       "|  28*|         28|         13|     215.38|    1|    2|v West Indies|Colombo (RPS)|  8/7/2005|ODI # 2267| null|\n",
       "|    7|          7|         11|      63.63|    0|    0|  v Sri Lanka|Colombo (RPS)|  8/9/2005|ODI # 2268| null|\n",
       "|    2|          2|          5|         40|    0|    0|v New Zealand|     Bulawayo| 8/26/2005|ODI # 2273| null|\n",
       "|   56|         56|         46|     121.73|    2|    4|   v Zimbabwe|       Harare| 8/29/2005|ODI # 2274| null|\n",
       "|  37*|         37|         27|     137.03|    3|    2|v New Zealand|       Harare|  9/2/2005|ODI # 2278| null|\n",
       "|  67*|         67|         63|     106.34|    1|    3|   v Zimbabwe|       Harare|  9/4/2005|ODI # 2280| null|\n",
       "|   11|         11|         16|      68.75|    1|    0|v New Zealand|       Harare|  9/6/2005|ODI # 2281| null|\n",
       "|   38|         38|         28|     135.71|    3|    2|  v Sri Lanka|       Nagpur|10/25/2005|ODI # 2286| null|\n",
       "+-----+-----------+-----------+-----------+-----+-----+-------------+-------------+----------+----------+-----+\n",
       "only showing top 20 rows\n",
       "\n"
      ]
     },
     "metadata": {
      "application/vnd.databricks.v1+output": {
       "addedWidgets": {},
       "arguments": {},
       "data": "+-----+-----------+-----------+-----------+-----+-----+-------------+-------------+----------+----------+-----+\n|score|runs_scored|balls_faced|strike_rate|fours|sixes|   opposition|       ground|      date|odi_number|Ddate|\n+-----+-----------+-----------+-----------+-----+-----+-------------+-------------+----------+----------+-----+\n|    0|          0|          1|          0|    0|    0| v Bangladesh|   Chattogram|12/23/2004|ODI # 2199| null|\n|   12|         12|         11|     109.09|    2|    0| v Bangladesh|        Dhaka|12/26/2004|ODI # 2201| null|\n|   7*|          7|          2|        350|    0|    1| v Bangladesh|        Dhaka|12/27/2004|ODI # 2202| null|\n|    3|          3|          7|      42.85|    0|    0|   v Pakistan|        Kochi|  4/2/2005|ODI # 2235| null|\n|  148|        148|        123|     120.32|   15|    4|   v Pakistan|Visakhapatnam|  4/5/2005|ODI # 2236| null|\n|   28|         28|         24|     116.66|    5|    0|   v Pakistan|   Jamshedpur|  4/9/2005|ODI # 2237| null|\n|   47|         47|         64|      73.43|    4|    1|   v Pakistan|    Ahmedabad| 4/12/2005|ODI # 2238| null|\n|   11|         11|         16|      68.75|    1|    0|   v Pakistan|       Kanpur| 4/15/2005|ODI # 2239| null|\n|   24|         24|         38|      63.15|    2|    0|   v Pakistan|        Delhi| 4/17/2005|ODI # 2240| null|\n|    2|          2|          7|      28.57|    0|    0|  v Sri Lanka|     Dambulla| 7/30/2005|ODI # 2262| null|\n|  15*|         15|         11|     136.36|    1|    1|v West Indies|     Dambulla| 7/31/2005|ODI # 2263| null|\n|   20|         20|         27|      74.07|    1|    0|  v Sri Lanka|     Dambulla|  8/3/2005|ODI # 2265| null|\n|  28*|         28|         13|     215.38|    1|    2|v West Indies|Colombo (RPS)|  8/7/2005|ODI # 2267| null|\n|    7|          7|         11|      63.63|    0|    0|  v Sri Lanka|Colombo (RPS)|  8/9/2005|ODI # 2268| null|\n|    2|          2|          5|         40|    0|    0|v New Zealand|     Bulawayo| 8/26/2005|ODI # 2273| null|\n|   56|         56|         46|     121.73|    2|    4|   v Zimbabwe|       Harare| 8/29/2005|ODI # 2274| null|\n|  37*|         37|         27|     137.03|    3|    2|v New Zealand|       Harare|  9/2/2005|ODI # 2278| null|\n|  67*|         67|         63|     106.34|    1|    3|   v Zimbabwe|       Harare|  9/4/2005|ODI # 2280| null|\n|   11|         11|         16|      68.75|    1|    0|v New Zealand|       Harare|  9/6/2005|ODI # 2281| null|\n|   38|         38|         28|     135.71|    3|    2|  v Sri Lanka|       Nagpur|10/25/2005|ODI # 2286| null|\n+-----+-----------+-----------+-----------+-----+-----+-------------+-------------+----------+----------+-----+\nonly showing top 20 rows\n\n",
       "datasetInfos": [],
       "metadata": {},
       "removedWidgets": [],
       "type": "ansi"
      }
     },
     "output_type": "display_data"
    }
   ],
   "source": [
    "#dt.filter((dt.score != 'DNB') & (dt.score != 'TDNB')).agg({'date':'max'}).show()\n",
    "#dt.agg({to_date(col('date'),'dd-mm-yyyy'):'max'}).show()\n",
    "dt.withColumn(\"Ddate\",to_date(col('date'),'dd-MM-yyyy')).show()"
   ]
  },
  {
   "cell_type": "code",
   "execution_count": 0,
   "metadata": {
    "application/vnd.databricks.v1+cell": {
     "cellMetadata": {},
     "inputWidgets": {},
     "nuid": "91c6cb3e-0ff8-40f4-9ce7-71d20b1fbdff",
     "showTitle": false,
     "title": ""
    }
   },
   "outputs": [],
   "source": []
  },
  {
   "cell_type": "code",
   "execution_count": 0,
   "metadata": {
    "application/vnd.databricks.v1+cell": {
     "cellMetadata": {},
     "inputWidgets": {},
     "nuid": "553df8d1-f6fb-4122-adfc-9842b79c825b",
     "showTitle": false,
     "title": ""
    }
   },
   "outputs": [
    {
     "data": {
      "text/plain": [
       "+-----+-----------+-----------+-----------+-----+-----+----------+--------+--------+----------+\n",
       "|score|runs_scored|balls_faced|strike_rate|fours|sixes|opposition|  ground|    date|odi_number|\n",
       "+-----+-----------+-----------+-----------+-----+-----+----------+--------+--------+----------+\n",
       "|   69|         69|        103|      66.99|    5|    0| v England|The Oval|9/9/2011|ODI # 3189|\n",
       "+-----+-----------+-----------+-----------+-----+-----+----------+--------+--------+----------+\n",
       "\n"
      ]
     },
     "metadata": {
      "application/vnd.databricks.v1+output": {
       "addedWidgets": {},
       "arguments": {},
       "data": "+-----+-----------+-----------+-----------+-----+-----+----------+--------+--------+----------+\n|score|runs_scored|balls_faced|strike_rate|fours|sixes|opposition|  ground|    date|odi_number|\n+-----+-----------+-----------+-----------+-----+-----+----------+--------+--------+----------+\n|   69|         69|        103|      66.99|    5|    0| v England|The Oval|9/9/2011|ODI # 3189|\n+-----+-----------+-----------+-----------+-----+-----+----------+--------+--------+----------+\n\n",
       "datasetInfos": [],
       "metadata": {},
       "removedWidgets": [],
       "type": "ansi"
      }
     },
     "output_type": "display_data"
    }
   ],
   "source": [
    "dt.filter(dt.date == '9/9/2011').show()"
   ]
  },
  {
   "cell_type": "code",
   "execution_count": 0,
   "metadata": {
    "application/vnd.databricks.v1+cell": {
     "cellMetadata": {},
     "inputWidgets": {},
     "nuid": "eb22b4e8-b580-460e-b292-b48c7e75915e",
     "showTitle": false,
     "title": ""
    }
   },
   "outputs": [
    {
     "data": {
      "text/plain": [
       "+----------------+\n",
       "|sum(runs_scored)|\n",
       "+----------------+\n",
       "|         10773.0|\n",
       "+----------------+\n",
       "\n"
      ]
     },
     "metadata": {
      "application/vnd.databricks.v1+output": {
       "addedWidgets": {},
       "arguments": {},
       "data": "+----------------+\n|sum(runs_scored)|\n+----------------+\n|         10773.0|\n+----------------+\n\n",
       "datasetInfos": [],
       "metadata": {},
       "removedWidgets": [],
       "type": "ansi"
      }
     },
     "output_type": "display_data"
    }
   ],
   "source": [
    "total_runs=dt.agg({'runs_scored':'sum'}).show()"
   ]
  },
  {
   "cell_type": "code",
   "execution_count": 0,
   "metadata": {
    "application/vnd.databricks.v1+cell": {
     "cellMetadata": {},
     "inputWidgets": {},
     "nuid": "2ba8689a-d4ae-41a0-b4c8-a2bb6adadf89",
     "showTitle": false,
     "title": ""
    }
   },
   "outputs": [
    {
     "data": {
      "text/plain": [
       "+----------------+\n",
       "|sum(balls_faced)|\n",
       "+----------------+\n",
       "|         12303.0|\n",
       "+----------------+\n",
       "\n"
      ]
     },
     "metadata": {
      "application/vnd.databricks.v1+output": {
       "addedWidgets": {},
       "arguments": {},
       "data": "+----------------+\n|sum(balls_faced)|\n+----------------+\n|         12303.0|\n+----------------+\n\n",
       "datasetInfos": [],
       "metadata": {},
       "removedWidgets": [],
       "type": "ansi"
      }
     },
     "output_type": "display_data"
    }
   ],
   "source": [
    "total_ball_faced=dt.agg({'balls_faced':'sum'}).show()"
   ]
  },
  {
   "cell_type": "code",
   "execution_count": 0,
   "metadata": {
    "application/vnd.databricks.v1+cell": {
     "cellMetadata": {},
     "inputWidgets": {},
     "nuid": "18fcbb2a-3ee8-4416-9809-631c45fdd318",
     "showTitle": false,
     "title": ""
    }
   },
   "outputs": [
    {
     "data": {
      "text/plain": [
       "+-----------------+\n",
       "| avg(strike_rate)|\n",
       "+-----------------+\n",
       "|87.93996632996635|\n",
       "+-----------------+\n",
       "\n"
      ]
     },
     "metadata": {
      "application/vnd.databricks.v1+output": {
       "addedWidgets": {},
       "arguments": {},
       "data": "+-----------------+\n| avg(strike_rate)|\n+-----------------+\n|87.93996632996635|\n+-----------------+\n\n",
       "datasetInfos": [],
       "metadata": {},
       "removedWidgets": [],
       "type": "ansi"
      }
     },
     "output_type": "display_data"
    }
   ],
   "source": [
    "career_strike_rate=dt.agg({'strike_rate':'avg'}).show()"
   ]
  },
  {
   "cell_type": "code",
   "execution_count": 0,
   "metadata": {
    "application/vnd.databricks.v1+cell": {
     "cellMetadata": {},
     "inputWidgets": {},
     "nuid": "60c46d6a-af18-491c-bc9a-cb58fc320f8a",
     "showTitle": false,
     "title": ""
    }
   },
   "outputs": [
    {
     "data": {
      "text/plain": [
       "Out[25]: 84"
      ]
     },
     "metadata": {
      "application/vnd.databricks.v1+output": {
       "addedWidgets": {},
       "arguments": {},
       "data": "Out[25]: 84",
       "datasetInfos": [],
       "metadata": {},
       "removedWidgets": [],
       "type": "ansi"
      }
     },
     "output_type": "display_data"
    }
   ],
   "source": [
    "dt.filter(dt.score.contains(\"*\")).count()"
   ]
  },
  {
   "cell_type": "code",
   "execution_count": 0,
   "metadata": {
    "application/vnd.databricks.v1+cell": {
     "cellMetadata": {},
     "inputWidgets": {},
     "nuid": "a93f5c5f-20ad-4fc1-8a65-5b241255bbe9",
     "showTitle": false,
     "title": ""
    }
   },
   "outputs": [
    {
     "data": {
      "text/plain": [
       "Out[30]: 10"
      ]
     },
     "metadata": {
      "application/vnd.databricks.v1+output": {
       "addedWidgets": {},
       "arguments": {},
       "data": "Out[30]: 10",
       "datasetInfos": [],
       "metadata": {},
       "removedWidgets": [],
       "type": "ansi"
      }
     },
     "output_type": "display_data"
    }
   ],
   "source": [
    "dt.filter(dt.runs_scored >= 100).count()"
   ]
  },
  {
   "cell_type": "code",
   "execution_count": 0,
   "metadata": {
    "application/vnd.databricks.v1+cell": {
     "cellMetadata": {},
     "inputWidgets": {},
     "nuid": "e1c09842-f2b5-4624-8297-189375b7d0a1",
     "showTitle": false,
     "title": ""
    }
   },
   "outputs": [
    {
     "data": {
      "text/plain": [
       "83\n"
      ]
     },
     "metadata": {
      "application/vnd.databricks.v1+output": {
       "addedWidgets": {},
       "arguments": {},
       "data": "83\n",
       "datasetInfos": [],
       "metadata": {},
       "removedWidgets": [],
       "type": "ansi"
      }
     },
     "output_type": "display_data"
    }
   ],
   "source": [
    "runs_scored_50s=dt.filter(dt.runs_scored >= 50).count()\n",
    "print(runs_scored_50s)"
   ]
  },
  {
   "cell_type": "code",
   "execution_count": 0,
   "metadata": {
    "application/vnd.databricks.v1+cell": {
     "cellMetadata": {},
     "inputWidgets": {},
     "nuid": "7cd4ba41-4ceb-409d-8e69-16825b2deca5",
     "showTitle": false,
     "title": ""
    }
   },
   "outputs": [
    {
     "data": {
      "text/plain": [
       "Out[37]: 297"
      ]
     },
     "metadata": {
      "application/vnd.databricks.v1+output": {
       "addedWidgets": {},
       "arguments": {},
       "data": "Out[37]: 297",
       "datasetInfos": [],
       "metadata": {},
       "removedWidgets": [],
       "type": "ansi"
      }
     },
     "output_type": "display_data"
    }
   ],
   "source": [
    "dt.filter((dt.score != 'DNB') & (dt.score != 'TDNB')).count()"
   ]
  },
  {
   "cell_type": "code",
   "execution_count": 0,
   "metadata": {
    "application/vnd.databricks.v1+cell": {
     "cellMetadata": {},
     "inputWidgets": {},
     "nuid": "925d7741-5386-4687-b725-197d5472c269",
     "showTitle": false,
     "title": ""
    }
   },
   "outputs": [
    {
     "data": {
      "text/plain": [
       "Out[38]: 350"
      ]
     },
     "metadata": {
      "application/vnd.databricks.v1+output": {
       "addedWidgets": {},
       "arguments": {},
       "data": "Out[38]: 350",
       "datasetInfos": [],
       "metadata": {},
       "removedWidgets": [],
       "type": "ansi"
      }
     },
     "output_type": "display_data"
    }
   ],
   "source": [
    "dt.count()"
   ]
  },
  {
   "cell_type": "code",
   "execution_count": 0,
   "metadata": {
    "application/vnd.databricks.v1+cell": {
     "cellMetadata": {},
     "inputWidgets": {},
     "nuid": "6c30715d-49c0-449f-80fc-1a6f52e83d50",
     "showTitle": false,
     "title": ""
    }
   },
   "outputs": [
    {
     "data": {
      "text/plain": [
       "Out[48]: [Row(score='0', runs_scored='0', balls_faced='1', strike_rate='0', fours='0', sixes='0', opposition='v Bangladesh', ground='Chattogram', date='12/23/2004', odi_number='ODI # 2199'),\n",
       " Row(score='12', runs_scored='12', balls_faced='11', strike_rate='109.09', fours='2', sixes='0', opposition='v Bangladesh', ground='Dhaka', date='12/26/2004', odi_number='ODI # 2201')]"
      ]
     },
     "metadata": {
      "application/vnd.databricks.v1+output": {
       "addedWidgets": {},
       "arguments": {},
       "data": "Out[48]: [Row(score='0', runs_scored='0', balls_faced='1', strike_rate='0', fours='0', sixes='0', opposition='v Bangladesh', ground='Chattogram', date='12/23/2004', odi_number='ODI # 2199'),\n Row(score='12', runs_scored='12', balls_faced='11', strike_rate='109.09', fours='2', sixes='0', opposition='v Bangladesh', ground='Dhaka', date='12/26/2004', odi_number='ODI # 2201')]",
       "datasetInfos": [],
       "metadata": {},
       "removedWidgets": [],
       "type": "ansi"
      }
     },
     "output_type": "display_data"
    }
   ],
   "source": [
    "dt.take(2)"
   ]
  },
  {
   "cell_type": "code",
   "execution_count": 0,
   "metadata": {
    "application/vnd.databricks.v1+cell": {
     "cellMetadata": {},
     "inputWidgets": {},
     "nuid": "8af733f4-1a0e-4ac7-9fe6-9b69bec0e739",
     "showTitle": false,
     "title": ""
    }
   },
   "outputs": [
    {
     "data": {
      "text/html": [
       "<style scoped>\n",
       "  .table-result-container {\n",
       "    max-height: 300px;\n",
       "    overflow: auto;\n",
       "  }\n",
       "  table, th, td {\n",
       "    border: 1px solid black;\n",
       "    border-collapse: collapse;\n",
       "  }\n",
       "  th, td {\n",
       "    padding: 5px;\n",
       "  }\n",
       "  th {\n",
       "    text-align: left;\n",
       "  }\n",
       "</style><div class='table-result-container'><table class='table-result'><thead style='background-color: white'><tr><th>odi_number</th><th>date</th><th>ground</th><th>opposition</th></tr></thead><tbody><tr><td>ODI # 2199</td><td>12/23/2004</td><td>Chattogram</td><td>v Bangladesh</td></tr><tr><td>ODI # 2201</td><td>12/26/2004</td><td>Dhaka</td><td>v Bangladesh</td></tr><tr><td>ODI # 2202</td><td>12/27/2004</td><td>Dhaka</td><td>v Bangladesh</td></tr><tr><td>ODI # 2235</td><td>4/2/2005</td><td>Kochi</td><td>v Pakistan</td></tr><tr><td>ODI # 2236</td><td>4/5/2005</td><td>Visakhapatnam</td><td>v Pakistan</td></tr><tr><td>ODI # 2237</td><td>4/9/2005</td><td>Jamshedpur</td><td>v Pakistan</td></tr><tr><td>ODI # 2238</td><td>4/12/2005</td><td>Ahmedabad</td><td>v Pakistan</td></tr><tr><td>ODI # 2239</td><td>4/15/2005</td><td>Kanpur</td><td>v Pakistan</td></tr><tr><td>ODI # 2240</td><td>4/17/2005</td><td>Delhi</td><td>v Pakistan</td></tr><tr><td>ODI # 2262</td><td>7/30/2005</td><td>Dambulla</td><td>v Sri Lanka</td></tr><tr><td>ODI # 2263</td><td>7/31/2005</td><td>Dambulla</td><td>v West Indies</td></tr><tr><td>ODI # 2265</td><td>8/3/2005</td><td>Dambulla</td><td>v Sri Lanka</td></tr><tr><td>ODI # 2267</td><td>8/7/2005</td><td>Colombo (RPS)</td><td>v West Indies</td></tr><tr><td>ODI # 2268</td><td>8/9/2005</td><td>Colombo (RPS)</td><td>v Sri Lanka</td></tr><tr><td>ODI # 2273</td><td>8/26/2005</td><td>Bulawayo</td><td>v New Zealand</td></tr><tr><td>ODI # 2274</td><td>8/29/2005</td><td>Harare</td><td>v Zimbabwe</td></tr><tr><td>ODI # 2278</td><td>9/2/2005</td><td>Harare</td><td>v New Zealand</td></tr><tr><td>ODI # 2280</td><td>9/4/2005</td><td>Harare</td><td>v Zimbabwe</td></tr><tr><td>ODI # 2281</td><td>9/6/2005</td><td>Harare</td><td>v New Zealand</td></tr><tr><td>ODI # 2286</td><td>10/25/2005</td><td>Nagpur</td><td>v Sri Lanka</td></tr><tr><td>ODI # 2287</td><td>10/28/2005</td><td>Mohali</td><td>v Sri Lanka</td></tr><tr><td>ODI # 2290</td><td>10/31/2005</td><td>Jaipur</td><td>v Sri Lanka</td></tr><tr><td>ODI # 2291</td><td>11/3/2005</td><td>Pune</td><td>v Sri Lanka</td></tr><tr><td>ODI # 2294</td><td>11/6/2005</td><td>Ahmedabad</td><td>v Sri Lanka</td></tr><tr><td>ODI # 2295</td><td>11/9/2005</td><td>Rajkot</td><td>v Sri Lanka</td></tr><tr><td>ODI # 2296</td><td>11/12/2005</td><td>Vadodara</td><td>v Sri Lanka</td></tr><tr><td>ODI # 2297</td><td>11/16/2005</td><td>Hyderabad (Deccan)</td><td>v South Africa</td></tr><tr><td>ODI # 2298</td><td>11/19/2005</td><td>Bengaluru</td><td>v South Africa</td></tr><tr><td>ODI # 2299</td><td>11/25/2005</td><td>Kolkata</td><td>v South Africa</td></tr><tr><td>ODI # 2300</td><td>11/28/2005</td><td>Mumbai</td><td>v South Africa</td></tr><tr><td>ODI # 2324</td><td>2/6/2006</td><td>Peshawar</td><td>v Pakistan</td></tr><tr><td>ODI # 2327</td><td>2/11/2006</td><td>Rawalpindi</td><td>v Pakistan</td></tr><tr><td>ODI # 2329</td><td>2/13/2006</td><td>Lahore</td><td>v Pakistan</td></tr><tr><td>ODI # 2331</td><td>2/16/2006</td><td>Multan</td><td>v Pakistan</td></tr><tr><td>ODI # 2333</td><td>2/19/2006</td><td>Karachi</td><td>v Pakistan</td></tr><tr><td>ODI # 2357</td><td>3/28/2006</td><td>Delhi</td><td>v England</td></tr><tr><td>ODI # 2358</td><td>3/31/2006</td><td>Faridabad</td><td>v England</td></tr><tr><td>ODI # 2359</td><td>4/3/2006</td><td>Margao</td><td>v England</td></tr><tr><td>ODI # 2360</td><td>4/6/2006</td><td>Kochi</td><td>v England</td></tr><tr><td>ODI # 2361</td><td>4/12/2006</td><td>Jamshedpur</td><td>v England</td></tr><tr><td>ODI # 2363</td><td>4/18/2006</td><td>Abu Dhabi</td><td>v Pakistan</td></tr><tr><td>ODI # 2364</td><td>4/19/2006</td><td>Abu Dhabi</td><td>v Pakistan</td></tr><tr><td>ODI # 2377</td><td>5/18/2006</td><td>Kingston</td><td>v West Indies</td></tr><tr><td>ODI # 2379</td><td>5/20/2006</td><td>Kingston</td><td>v West Indies</td></tr><tr><td>ODI # 2380</td><td>5/23/2006</td><td>Basseterre</td><td>v West Indies</td></tr><tr><td>ODI # 2381</td><td>5/26/2006</td><td>Port of Spain</td><td>v West Indies</td></tr><tr><td>ODI # 2382</td><td>5/28/2006</td><td>Port of Spain</td><td>v West Indies</td></tr><tr><td>ODI # 2405</td><td>8/18/2006</td><td>Colombo (SSC)</td><td>v Sri Lanka</td></tr><tr><td>ODI # 2414</td><td>9/14/2006</td><td>Kuala Lumpur</td><td>v West Indies</td></tr><tr><td>ODI # 2416</td><td>9/16/2006</td><td>Kuala Lumpur</td><td>v Australia</td></tr><tr><td>ODI # 2419</td><td>9/20/2006</td><td>Kuala Lumpur</td><td>v West Indies</td></tr><tr><td>ODI # 2421</td><td>9/22/2006</td><td>Kuala Lumpur</td><td>v Australia</td></tr><tr><td>ODI # 2429</td><td>10/15/2006</td><td>Jaipur</td><td>v England</td></tr><tr><td>ODI # 2437</td><td>10/26/2006</td><td>Ahmedabad</td><td>v West Indies</td></tr><tr><td>ODI # 2440</td><td>10/29/2006</td><td>Mohali</td><td>v Australia</td></tr><tr><td>ODI # 2447</td><td>11/22/2006</td><td>Durban</td><td>v South Africa</td></tr><tr><td>ODI # 2449</td><td>11/26/2006</td><td>Cape Town</td><td>v South Africa</td></tr><tr><td>ODI # 2452</td><td>11/29/2006</td><td>Port Elizabeth</td><td>v South Africa</td></tr><tr><td>ODI # 2458</td><td>12/3/2006</td><td>Centurion</td><td>v South Africa</td></tr><tr><td>ODI # 2480</td><td>1/21/2007</td><td>Nagpur</td><td>v West Indies</td></tr><tr><td>ODI # 2485</td><td>1/24/2007</td><td>Cuttack</td><td>v West Indies</td></tr><tr><td>ODI # 2493</td><td>1/31/2007</td><td>Vadodara</td><td>v West Indies</td></tr><tr><td>ODI # 2514</td><td>2/8/2007</td><td>Kolkata</td><td>v Sri Lanka</td></tr><tr><td>ODI # 2520</td><td>2/11/2007</td><td>Rajkot</td><td>v Sri Lanka</td></tr><tr><td>ODI # 2522</td><td>2/14/2007</td><td>Margao</td><td>v Sri Lanka</td></tr><tr><td>ODI # 2525</td><td>2/17/2007</td><td>Visakhapatnam</td><td>v Sri Lanka</td></tr><tr><td>ODI # 2538</td><td>3/17/2007</td><td>Port of Spain</td><td>v Bangladesh</td></tr><tr><td>ODI # 2542</td><td>3/19/2007</td><td>Port of Spain</td><td>v Bermuda</td></tr><tr><td>ODI # 2550</td><td>3/23/2007</td><td>Port of Spain</td><td>v Sri Lanka</td></tr><tr><td>ODI # 2582</td><td>5/10/2007</td><td>Dhaka</td><td>v Bangladesh</td></tr><tr><td>ODI # 2583</td><td>5/12/2007</td><td>Dhaka</td><td>v Bangladesh</td></tr><tr><td>ODI # 2587</td><td>6/6/2007</td><td>Bengaluru</td><td>v Africa XI</td></tr><tr><td>ODI # 2588</td><td>6/9/2007</td><td>Chennai</td><td>v Africa XI</td></tr><tr><td>ODI # 2589</td><td>6/10/2007</td><td>Chennai</td><td>v Africa XI</td></tr><tr><td>ODI # 2593</td><td>6/29/2007</td><td>Belfast</td><td>v South Africa</td></tr><tr><td>ODI # 2595</td><td>7/1/2007</td><td>Belfast</td><td>v South Africa</td></tr><tr><td>ODI # 2608</td><td>8/16/2007</td><td>Glasgow</td><td>v Scotland</td></tr><tr><td>ODI # 2611</td><td>8/21/2007</td><td>Southampton</td><td>v England</td></tr><tr><td>ODI # 2613</td><td>8/24/2007</td><td>Bristol</td><td>v England</td></tr><tr><td>ODI # 2616</td><td>8/27/2007</td><td>Birmingham</td><td>v England</td></tr><tr><td>ODI # 2617</td><td>8/30/2007</td><td>Manchester</td><td>v England</td></tr><tr><td>ODI # 2618</td><td>9/2/2007</td><td>Leeds</td><td>v England</td></tr><tr><td>ODI # 2619</td><td>9/5/2007</td><td>The Oval</td><td>v England</td></tr><tr><td>ODI # 2620</td><td>9/8/2007</td><td>Lord's</td><td>v England</td></tr><tr><td>ODI # 2621</td><td>9/29/2007</td><td>Bengaluru</td><td>v Australia</td></tr><tr><td>ODI # 2623</td><td>10/2/2007</td><td>Kochi</td><td>v Australia</td></tr><tr><td>ODI # 2625</td><td>10/5/2007</td><td>Hyderabad (Deccan)</td><td>v Australia</td></tr><tr><td>ODI # 2627</td><td>10/8/2007</td><td>Chandigarh</td><td>v Australia</td></tr><tr><td>ODI # 2629</td><td>10/11/2007</td><td>Vadodara</td><td>v Australia</td></tr><tr><td>ODI # 2631</td><td>10/14/2007</td><td>Nagpur</td><td>v Australia</td></tr><tr><td>ODI # 2632</td><td>10/17/2007</td><td>Mumbai</td><td>v Australia</td></tr><tr><td>ODI # 2643</td><td>11/5/2007</td><td>Guwahati</td><td>v Pakistan</td></tr><tr><td>ODI # 2644</td><td>11/8/2007</td><td>Mohali</td><td>v Pakistan</td></tr><tr><td>ODI # 2645</td><td>11/11/2007</td><td>Kanpur</td><td>v Pakistan</td></tr><tr><td>ODI # 2646</td><td>11/15/2007</td><td>Gwalior</td><td>v Pakistan</td></tr><tr><td>ODI # 2647</td><td>11/18/2007</td><td>Jaipur</td><td>v Pakistan</td></tr><tr><td>ODI # 2670</td><td>2/3/2008</td><td>Brisbane</td><td>v Australia</td></tr><tr><td>ODI # 2672</td><td>2/5/2008</td><td>Brisbane</td><td>v Sri Lanka</td></tr><tr><td>ODI # 2675</td><td>2/10/2008</td><td>Melbourne</td><td>v Australia</td></tr><tr><td>ODI # 2676</td><td>2/12/2008</td><td>Canberra</td><td>v Sri Lanka</td></tr><tr><td>ODI # 2680</td><td>2/17/2008</td><td>Adelaide</td><td>v Australia</td></tr><tr><td>ODI # 2681</td><td>2/19/2008</td><td>Adelaide</td><td>v Sri Lanka</td></tr><tr><td>ODI # 2685</td><td>2/24/2008</td><td>Sydney</td><td>v Australia</td></tr><tr><td>ODI # 2686</td><td>2/26/2008</td><td>Hobart</td><td>v Sri Lanka</td></tr><tr><td>ODI # 2688</td><td>3/2/2008</td><td>Sydney</td><td>v Australia</td></tr><tr><td>ODI # 2689</td><td>3/4/2008</td><td>Brisbane</td><td>v Australia</td></tr><tr><td>ODI # 2705</td><td>6/10/2008</td><td>Dhaka</td><td>v Pakistan</td></tr><tr><td>ODI # 2706</td><td>6/12/2008</td><td>Dhaka</td><td>v Bangladesh</td></tr><tr><td>ODI # 2707</td><td>6/14/2008</td><td>Dhaka</td><td>v Pakistan</td></tr><tr><td>ODI # 2716</td><td>6/25/2008</td><td>Karachi</td><td>v Hong Kong</td></tr><tr><td>ODI # 2717</td><td>6/26/2008</td><td>Karachi</td><td>v Pakistan</td></tr><tr><td>ODI # 2721</td><td>6/28/2008</td><td>Karachi</td><td>v Bangladesh</td></tr><tr><td>ODI # 2730</td><td>7/2/2008</td><td>Karachi</td><td>v Pakistan</td></tr><tr><td>ODI # 2732</td><td>7/3/2008</td><td>Karachi</td><td>v Sri Lanka</td></tr><tr><td>ODI # 2735</td><td>7/6/2008</td><td>Karachi</td><td>v Sri Lanka</td></tr><tr><td>ODI # 2742</td><td>8/18/2008</td><td>Dambulla</td><td>v Sri Lanka</td></tr><tr><td>ODI # 2745</td><td>8/20/2008</td><td>Dambulla</td><td>v Sri Lanka</td></tr><tr><td>ODI # 2750</td><td>8/24/2008</td><td>Colombo (RPS)</td><td>v Sri Lanka</td></tr><tr><td>ODI # 2755</td><td>8/27/2008</td><td>Colombo (RPS)</td><td>v Sri Lanka</td></tr><tr><td>ODI # 2756</td><td>8/29/2008</td><td>Colombo (RPS)</td><td>v Sri Lanka</td></tr><tr><td>ODI # 2774</td><td>11/14/2008</td><td>Rajkot</td><td>v England</td></tr><tr><td>ODI # 2777</td><td>11/17/2008</td><td>Indore</td><td>v England</td></tr><tr><td>ODI # 2778</td><td>11/20/2008</td><td>Kanpur</td><td>v England</td></tr><tr><td>ODI # 2781</td><td>11/23/2008</td><td>Bengaluru</td><td>v England</td></tr><tr><td>ODI # 2783</td><td>11/26/2008</td><td>Cuttack</td><td>v England</td></tr><tr><td>ODI # 2806</td><td>1/28/2009</td><td>Dambulla</td><td>v Sri Lanka</td></tr><tr><td>ODI # 2810</td><td>1/31/2009</td><td>Colombo (RPS)</td><td>v Sri Lanka</td></tr><tr><td>ODI # 2813</td><td>2/3/2009</td><td>Colombo (RPS)</td><td>v Sri Lanka</td></tr><tr><td>ODI # 2815</td><td>2/5/2009</td><td>Colombo (RPS)</td><td>v Sri Lanka</td></tr><tr><td>ODI # 2818</td><td>2/8/2009</td><td>Colombo (RPS)</td><td>v Sri Lanka</td></tr><tr><td>ODI # 2821</td><td>3/3/2009</td><td>Napier</td><td>v New Zealand</td></tr><tr><td>ODI # 2822</td><td>3/6/2009</td><td>Wellington</td><td>v New Zealand</td></tr><tr><td>ODI # 2823</td><td>3/8/2009</td><td>Christchurch</td><td>v New Zealand</td></tr><tr><td>ODI # 2824</td><td>3/11/2009</td><td>Hamilton</td><td>v New Zealand</td></tr><tr><td>ODI # 2825</td><td>3/14/2009</td><td>Auckland</td><td>v New Zealand</td></tr><tr><td>ODI # 2852</td><td>6/26/2009</td><td>Kingston</td><td>v West Indies</td></tr><tr><td>ODI # 2853</td><td>6/28/2009</td><td>Kingston</td><td>v West Indies</td></tr><tr><td>ODI # 2854</td><td>7/3/2009</td><td>Gros Islet</td><td>v West Indies</td></tr><tr><td>ODI # 2855</td><td>7/5/2009</td><td>Gros Islet</td><td>v West Indies</td></tr><tr><td>ODI # 2886</td><td>9/11/2009</td><td>Colombo (RPS)</td><td>v New Zealand</td></tr><tr><td>ODI # 2887</td><td>9/12/2009</td><td>Colombo (RPS)</td><td>v Sri Lanka</td></tr><tr><td>ODI # 2889</td><td>9/14/2009</td><td>Colombo (RPS)</td><td>v Sri Lanka</td></tr><tr><td>ODI # 2898</td><td>9/26/2009</td><td>Centurion</td><td>v Pakistan</td></tr><tr><td>ODI # 2901</td><td>9/28/2009</td><td>Centurion</td><td>v Australia</td></tr><tr><td>ODI # 2904</td><td>9/30/2009</td><td>Johannesburg</td><td>v West Indies</td></tr><tr><td>ODI # 2913</td><td>10/25/2009</td><td>Vadodara</td><td>v Australia</td></tr><tr><td>ODI # 2915</td><td>10/28/2009</td><td>Nagpur</td><td>v Australia</td></tr><tr><td>ODI # 2918</td><td>10/31/2009</td><td>Delhi</td><td>v Australia</td></tr><tr><td>ODI # 2919</td><td>11/2/2009</td><td>Mohali</td><td>v Australia</td></tr><tr><td>ODI # 2923</td><td>11/5/2009</td><td>Hyderabad (Deccan)</td><td>v Australia</td></tr><tr><td>ODI # 2925</td><td>11/8/2009</td><td>Guwahati</td><td>v Australia</td></tr><tr><td>ODI # 2932</td><td>12/15/2009</td><td>Rajkot</td><td>v Sri Lanka</td></tr><tr><td>ODI # 2933</td><td>12/18/2009</td><td>Nagpur</td><td>v Sri Lanka</td></tr><tr><td>ODI # 2936</td><td>12/27/2009</td><td>Delhi</td><td>v Sri Lanka</td></tr><tr><td>ODI # 2938</td><td>1/5/2010</td><td>Dhaka</td><td>v Sri Lanka</td></tr><tr><td>ODI # 2939</td><td>1/7/2010</td><td>Dhaka</td><td>v Bangladesh</td></tr><tr><td>ODI # 2941</td><td>1/10/2010</td><td>Dhaka</td><td>v Sri Lanka</td></tr><tr><td>ODI # 2942</td><td>1/11/2010</td><td>Dhaka</td><td>v Bangladesh</td></tr><tr><td>ODI # 2943</td><td>1/13/2010</td><td>Dhaka</td><td>v Sri Lanka</td></tr><tr><td>ODI # 2961</td><td>2/21/2010</td><td>Jaipur</td><td>v South Africa</td></tr><tr><td>ODI # 2962</td><td>2/24/2010</td><td>Gwalior</td><td>v South Africa</td></tr><tr><td>ODI # 2963</td><td>2/27/2010</td><td>Ahmedabad</td><td>v South Africa</td></tr><tr><td>ODI # 2993</td><td>6/16/2010</td><td>Dambulla</td><td>v Bangladesh</td></tr><tr><td>ODI # 2996</td><td>6/19/2010</td><td>Dambulla</td><td>v Pakistan</td></tr><tr><td>ODI # 2999</td><td>6/22/2010</td><td>Dambulla</td><td>v Sri Lanka</td></tr><tr><td>ODI # 3001</td><td>6/24/2010</td><td>Dambulla</td><td>v Sri Lanka</td></tr><tr><td>ODI # 3030</td><td>8/10/2010</td><td>Dambulla</td><td>v New Zealand</td></tr><tr><td>ODI # 3032</td><td>8/16/2010</td><td>Dambulla</td><td>v Sri Lanka</td></tr><tr><td>ODI # 3038</td><td>8/22/2010</td><td>Dambulla</td><td>v Sri Lanka</td></tr><tr><td>ODI # 3039</td><td>8/25/2010</td><td>Dambulla</td><td>v New Zealand</td></tr><tr><td>ODI # 3040</td><td>8/28/2010</td><td>Dambulla</td><td>v Sri Lanka</td></tr><tr><td>ODI # 3060</td><td>10/20/2010</td><td>Visakhapatnam</td><td>v Australia</td></tr><tr><td>ODI # 3079</td><td>1/12/2011</td><td>Durban</td><td>v South Africa</td></tr><tr><td>ODI # 3080</td><td>1/15/2011</td><td>Johannesburg</td><td>v South Africa</td></tr><tr><td>ODI # 3082</td><td>1/18/2011</td><td>Cape Town</td><td>v South Africa</td></tr><tr><td>ODI # 3084</td><td>1/21/2011</td><td>Port Elizabeth</td><td>v South Africa</td></tr><tr><td>ODI # 3087</td><td>1/23/2011</td><td>Centurion</td><td>v South Africa</td></tr><tr><td>ODI # 3100</td><td>2/19/2011</td><td>Dhaka</td><td>v Bangladesh</td></tr><tr><td>ODI # 3110</td><td>2/27/2011</td><td>Bengaluru</td><td>v England</td></tr><tr><td>ODI # 3121</td><td>3/6/2011</td><td>Bengaluru</td><td>v Ireland</td></tr><tr><td>ODI # 3124</td><td>3/9/2011</td><td>Delhi</td><td>v Netherlands</td></tr><tr><td>ODI # 3128</td><td>3/12/2011</td><td>Nagpur</td><td>v South Africa</td></tr><tr><td>ODI # 3141</td><td>3/20/2011</td><td>Chennai</td><td>v West Indies</td></tr><tr><td>ODI # 3143</td><td>3/24/2011</td><td>Ahmedabad</td><td>v Australia</td></tr><tr><td>ODI # 3147</td><td>3/30/2011</td><td>Mohali</td><td>v Pakistan</td></tr><tr><td>ODI # 3148</td><td>4/2/2011</td><td>Mumbai</td><td>v Sri Lanka</td></tr><tr><td>ODI # 3186</td><td>9/3/2011</td><td>Chester-le-Street</td><td>v England</td></tr><tr><td>ODI # 3187</td><td>9/6/2011</td><td>Southampton</td><td>v England</td></tr><tr><td>ODI # 3189</td><td>9/9/2011</td><td>The Oval</td><td>v England</td></tr><tr><td>ODI # 3191</td><td>9/11/2011</td><td>Lord's</td><td>v England</td></tr><tr><td>ODI # 3195</td><td>9/16/2011</td><td>Cardiff</td><td>v England</td></tr><tr><td>ODI # 3199</td><td>10/14/2011</td><td>Hyderabad (Deccan)</td><td>v England</td></tr><tr><td>ODI # 3201</td><td>10/17/2011</td><td>Delhi</td><td>v England</td></tr><tr><td>ODI # 3205</td><td>10/20/2011</td><td>Mohali</td><td>v England</td></tr><tr><td>ODI # 3207</td><td>10/23/2011</td><td>Mumbai</td><td>v England</td></tr><tr><td>ODI # 3210</td><td>10/25/2011</td><td>Kolkata</td><td>v England</td></tr><tr><td>ODI # 3231</td><td>2/5/2012</td><td>Melbourne</td><td>v Australia</td></tr><tr><td>ODI # 3233</td><td>2/8/2012</td><td>Perth</td><td>v Sri Lanka</td></tr><tr><td>ODI # 3237</td><td>2/12/2012</td><td>Adelaide</td><td>v Australia</td></tr><tr><td>ODI # 3239</td><td>2/14/2012</td><td>Adelaide</td><td>v Sri Lanka</td></tr><tr><td>ODI # 3244</td><td>2/19/2012</td><td>Brisbane</td><td>v Australia</td></tr><tr><td>ODI # 3250</td><td>2/26/2012</td><td>Sydney</td><td>v Australia</td></tr><tr><td>ODI # 3251</td><td>2/28/2012</td><td>Hobart</td><td>v Sri Lanka</td></tr><tr><td>ODI # 3259</td><td>3/13/2012</td><td>Dhaka</td><td>v Sri Lanka</td></tr><tr><td>ODI # 3261</td><td>3/16/2012</td><td>Dhaka</td><td>v Bangladesh</td></tr><tr><td>ODI # 3263</td><td>3/18/2012</td><td>Dhaka</td><td>v Pakistan</td></tr><tr><td>ODI # 3291</td><td>7/21/2012</td><td>Hambantota</td><td>v Sri Lanka</td></tr><tr><td>ODI # 3292</td><td>7/24/2012</td><td>Hambantota</td><td>v Sri Lanka</td></tr><tr><td>ODI # 3293</td><td>7/28/2012</td><td>Colombo (RPS)</td><td>v Sri Lanka</td></tr><tr><td>ODI # 3294</td><td>7/31/2012</td><td>Colombo (RPS)</td><td>v Sri Lanka</td></tr><tr><td>ODI # 3295</td><td>8/4/2012</td><td>Pallekele</td><td>v Sri Lanka</td></tr><tr><td>ODI # 3314</td><td>12/30/2012</td><td>Chennai</td><td>v Pakistan</td></tr><tr><td>ODI # 3315</td><td>1/3/2013</td><td>Kolkata</td><td>v Pakistan</td></tr><tr><td>ODI # 3316</td><td>1/6/2013</td><td>Delhi</td><td>v Pakistan</td></tr><tr><td>ODI # 3318</td><td>1/11/2013</td><td>Rajkot</td><td>v England</td></tr><tr><td>ODI # 3320</td><td>1/15/2013</td><td>Kochi</td><td>v England</td></tr><tr><td>ODI # 3322</td><td>1/19/2013</td><td>Ranchi</td><td>v England</td></tr><tr><td>ODI # 3327</td><td>1/23/2013</td><td>Mohali</td><td>v England</td></tr><tr><td>ODI # 3329</td><td>1/27/2013</td><td>Dharamsala</td><td>v England</td></tr><tr><td>ODI # 3363</td><td>6/6/2013</td><td>Cardiff</td><td>v South Africa</td></tr><tr><td>ODI # 3368</td><td>6/11/2013</td><td>The Oval</td><td>v West Indies</td></tr><tr><td>ODI # 3372</td><td>6/15/2013</td><td>Birmingham</td><td>v Pakistan</td></tr><tr><td>ODI # 3376</td><td>6/20/2013</td><td>Cardiff</td><td>v Sri Lanka</td></tr><tr><td>ODI # 3377</td><td>6/23/2013</td><td>Birmingham</td><td>v England</td></tr><tr><td>ODI # 3380</td><td>6/30/2013</td><td>Kingston</td><td>v West Indies</td></tr><tr><td>ODI # 3388</td><td>7/11/2013</td><td>Port of Spain</td><td>v Sri Lanka</td></tr><tr><td>ODI # 3419</td><td>10/13/2013</td><td>Pune</td><td>v Australia</td></tr><tr><td>ODI # 3420</td><td>10/16/2013</td><td>Jaipur</td><td>v Australia</td></tr><tr><td>ODI # 3421</td><td>10/19/2013</td><td>Mohali</td><td>v Australia</td></tr><tr><td>ODI # 3422</td><td>10/23/2013</td><td>Ranchi</td><td>v Australia</td></tr><tr><td>ODI # 3424</td><td>10/30/2013</td><td>Nagpur</td><td>v Australia</td></tr><tr><td>ODI # 3428</td><td>11/2/2013</td><td>Bengaluru</td><td>v Australia</td></tr><tr><td>ODI # 3436</td><td>11/21/2013</td><td>Kochi</td><td>v West Indies</td></tr><tr><td>ODI # 3437</td><td>11/24/2013</td><td>Visakhapatnam</td><td>v West Indies</td></tr><tr><td>ODI # 3439</td><td>11/27/2013</td><td>Kanpur</td><td>v West Indies</td></tr><tr><td>ODI # 3442</td><td>12/5/2013</td><td>Johannesburg</td><td>v South Africa</td></tr><tr><td>ODI # 3443</td><td>12/8/2013</td><td>Durban</td><td>v South Africa</td></tr><tr><td>ODI # 3444</td><td>12/11/2013</td><td>Centurion</td><td>v South Africa</td></tr><tr><td>ODI # 3456</td><td>1/19/2014</td><td>Napier</td><td>v New Zealand</td></tr><tr><td>ODI # 3458</td><td>1/22/2014</td><td>Hamilton</td><td>v New Zealand</td></tr><tr><td>ODI # 3462</td><td>1/25/2014</td><td>Auckland</td><td>v New Zealand</td></tr><tr><td>ODI # 3465</td><td>1/28/2014</td><td>Hamilton</td><td>v New Zealand</td></tr><tr><td>ODI # 3467</td><td>1/31/2014</td><td>Wellington</td><td>v New Zealand</td></tr><tr><td>ODI # 3517</td><td>8/27/2014</td><td>Cardiff</td><td>v England</td></tr><tr><td>ODI # 3520</td><td>8/30/2014</td><td>Nottingham</td><td>v England</td></tr><tr><td>ODI # 3523</td><td>9/2/2014</td><td>Birmingham</td><td>v England</td></tr><tr><td>ODI # 3525</td><td>9/5/2014</td><td>Leeds</td><td>v England</td></tr><tr><td>ODI # 3531</td><td>10/8/2014</td><td>Kochi</td><td>v West Indies</td></tr><tr><td>ODI # 3533</td><td>10/11/2014</td><td>Delhi</td><td>v West Indies</td></tr><tr><td>ODI # 3535</td><td>10/17/2014</td><td>Dharamsala</td><td>v West Indies</td></tr><tr><td>ODI # 3582</td><td>1/18/2015</td><td>Melbourne</td><td>v Australia</td></tr><tr><td>ODI # 3586</td><td>1/20/2015</td><td>Brisbane</td><td>v England</td></tr><tr><td>ODI # 3592</td><td>1/26/2015</td><td>Sydney</td><td>v Australia</td></tr><tr><td>ODI # 3595</td><td>1/30/2015</td><td>Perth</td><td>v England</td></tr><tr><td>ODI # 3602</td><td>2/15/2015</td><td>Adelaide</td><td>v Pakistan</td></tr><tr><td>ODI # 3610</td><td>2/22/2015</td><td>Melbourne</td><td>v South Africa</td></tr><tr><td>ODI # 3618</td><td>2/28/2015</td><td>Perth</td><td>v U.A.E.</td></tr><tr><td>ODI # 3625</td><td>3/6/2015</td><td>Perth</td><td>v West Indies</td></tr><tr><td>ODI # 3631</td><td>3/10/2015</td><td>Hamilton</td><td>v Ireland</td></tr><tr><td>ODI # 3636</td><td>3/14/2015</td><td>Auckland</td><td>v Zimbabwe</td></tr><tr><td>ODI # 3641</td><td>3/19/2015</td><td>Melbourne</td><td>v Bangladesh</td></tr><tr><td>ODI # 3645</td><td>3/26/2015</td><td>Sydney</td><td>v Australia</td></tr><tr><td>ODI # 3658</td><td>6/18/2015</td><td>Dhaka</td><td>v Bangladesh</td></tr><tr><td>ODI # 3660</td><td>6/21/2015</td><td>Dhaka</td><td>v Bangladesh</td></tr><tr><td>ODI # 3661</td><td>6/24/2015</td><td>Dhaka</td><td>v Bangladesh</td></tr><tr><td>ODI # 3689</td><td>10/11/2015</td><td>Kanpur</td><td>v South Africa</td></tr><tr><td>ODI # 3692</td><td>10/14/2015</td><td>Indore</td><td>v South Africa</td></tr><tr><td>ODI # 3695</td><td>10/18/2015</td><td>Rajkot</td><td>v South Africa</td></tr><tr><td>ODI # 3698</td><td>10/22/2015</td><td>Chennai</td><td>v South Africa</td></tr><tr><td>ODI # 3700</td><td>10/25/2015</td><td>Mumbai</td><td>v South Africa</td></tr><tr><td>ODI # 3723</td><td>1/12/2016</td><td>Perth</td><td>v Australia</td></tr><tr><td>ODI # 3724</td><td>1/15/2016</td><td>Brisbane</td><td>v Australia</td></tr><tr><td>ODI # 3725</td><td>1/17/2016</td><td>Melbourne</td><td>v Australia</td></tr><tr><td>ODI # 3726</td><td>1/20/2016</td><td>Canberra</td><td>v Australia</td></tr><tr><td>ODI # 3727</td><td>1/23/2016</td><td>Sydney</td><td>v Australia</td></tr><tr><td>ODI # 3742</td><td>6/11/2016</td><td>Harare</td><td>v Zimbabwe</td></tr><tr><td>ODI # 3744</td><td>6/13/2016</td><td>Harare</td><td>v Zimbabwe</td></tr><tr><td>ODI # 3746</td><td>6/15/2016</td><td>Harare</td><td>v Zimbabwe</td></tr><tr><td>ODI # 3796</td><td>10/16/2016</td><td>Dharamsala</td><td>v New Zealand</td></tr><tr><td>ODI # 3797</td><td>10/20/2016</td><td>Delhi</td><td>v New Zealand</td></tr><tr><td>ODI # 3798</td><td>10/23/2016</td><td>Mohali</td><td>v New Zealand</td></tr><tr><td>ODI # 3799</td><td>10/26/2016</td><td>Ranchi</td><td>v New Zealand</td></tr><tr><td>ODI # 3800</td><td>10/29/2016</td><td>Visakhapatnam</td><td>v New Zealand</td></tr><tr><td>ODI # 3819</td><td>1/15/2017</td><td>Pune</td><td>v England</td></tr><tr><td>ODI # 3821</td><td>1/19/2017</td><td>Cuttack</td><td>v England</td></tr><tr><td>ODI # 3824</td><td>1/22/2017</td><td>Kolkata</td><td>v England</td></tr><tr><td>ODI # 3878</td><td>6/4/2017</td><td>Birmingham</td><td>v Pakistan</td></tr><tr><td>ODI # 3882</td><td>6/8/2017</td><td>The Oval</td><td>v Sri Lanka</td></tr><tr><td>ODI # 3886</td><td>6/11/2017</td><td>The Oval</td><td>v South Africa</td></tr><tr><td>ODI # 3891</td><td>6/15/2017</td><td>Birmingham</td><td>v Bangladesh</td></tr><tr><td>ODI # 3894</td><td>6/18/2017</td><td>The Oval</td><td>v Pakistan</td></tr><tr><td>ODI # 3895</td><td>6/23/2017</td><td>Port of Spain</td><td>v West Indies</td></tr><tr><td>ODI # 3896</td><td>6/25/2017</td><td>Port of Spain</td><td>v West Indies</td></tr><tr><td>ODI # 3898</td><td>6/30/2017</td><td>North Sound</td><td>v West Indies</td></tr><tr><td>ODI # 3900</td><td>7/2/2017</td><td>North Sound</td><td>v West Indies</td></tr><tr><td>ODI # 3902</td><td>7/6/2017</td><td>Kingston</td><td>v West Indies</td></tr><tr><td>ODI # 3905</td><td>8/20/2017</td><td>Dambulla</td><td>v Sri Lanka</td></tr><tr><td>ODI # 3906</td><td>8/24/2017</td><td>Pallekele</td><td>v Sri Lanka</td></tr><tr><td>ODI # 3907</td><td>8/27/2017</td><td>Pallekele</td><td>v Sri Lanka</td></tr><tr><td>ODI # 3908</td><td>8/31/2017</td><td>Colombo (RPS)</td><td>v Sri Lanka</td></tr><tr><td>ODI # 3909</td><td>9/3/2017</td><td>Colombo (RPS)</td><td>v Sri Lanka</td></tr><tr><td>ODI # 3910</td><td>9/17/2017</td><td>Chennai</td><td>v Australia</td></tr><tr><td>ODI # 3912</td><td>9/21/2017</td><td>Kolkata</td><td>v Australia</td></tr><tr><td>ODI # 3914</td><td>9/24/2017</td><td>Indore</td><td>v Australia</td></tr><tr><td>ODI # 3917</td><td>9/28/2017</td><td>Bengaluru</td><td>v Australia</td></tr><tr><td>ODI # 3919</td><td>10/1/2017</td><td>Nagpur</td><td>v Australia</td></tr><tr><td>ODI # 3928</td><td>10/22/2017</td><td>Mumbai</td><td>v New Zealand</td></tr><tr><td>ODI # 3931</td><td>10/25/2017</td><td>Pune</td><td>v New Zealand</td></tr><tr><td>ODI # 3932</td><td>10/29/2017</td><td>Kanpur</td><td>v New Zealand</td></tr><tr><td>ODI # 3939</td><td>12/10/2017</td><td>Dharamsala</td><td>v Sri Lanka</td></tr><tr><td>ODI # 3941</td><td>12/13/2017</td><td>Mohali</td><td>v Sri Lanka</td></tr><tr><td>ODI # 3942</td><td>12/17/2017</td><td>Visakhapatnam</td><td>v Sri Lanka</td></tr><tr><td>ODI # 3969</td><td>2/1/2018</td><td>Durban</td><td>v South Africa</td></tr><tr><td>ODI # 3970</td><td>2/4/2018</td><td>Centurion</td><td>v South Africa</td></tr><tr><td>ODI # 3971</td><td>2/7/2018</td><td>Cape Town</td><td>v South Africa</td></tr><tr><td>ODI # 3973</td><td>2/10/2018</td><td>Johannesburg</td><td>v South Africa</td></tr><tr><td>ODI # 3976</td><td>2/13/2018</td><td>Port Elizabeth</td><td>v South Africa</td></tr><tr><td>ODI # 3978</td><td>2/16/2018</td><td>Centurion</td><td>v South Africa</td></tr><tr><td>ODI # 4014</td><td>7/12/2018</td><td>Nottingham</td><td>v England</td></tr><tr><td>ODI # 4016</td><td>7/14/2018</td><td>Lord's</td><td>v England</td></tr><tr><td>ODI # 4018</td><td>7/17/2018</td><td>Leeds</td><td>v England</td></tr><tr><td>ODI # 4039</td><td>9/18/2018</td><td>Dubai (DSC)</td><td>v Hong Kong</td></tr><tr><td>ODI # 4040</td><td>9/19/2018</td><td>Dubai (DSC)</td><td>v Pakistan</td></tr><tr><td>ODI # 4042</td><td>9/21/2018</td><td>Dubai (DSC)</td><td>v Bangladesh</td></tr><tr><td>ODI # 4044</td><td>9/23/2018</td><td>Dubai (DSC)</td><td>v Pakistan</td></tr><tr><td>ODI # 4046</td><td>9/25/2018</td><td>Dubai (DSC)</td><td>v Afghanistan</td></tr><tr><td>ODI # 4048</td><td>9/28/2018</td><td>Dubai (DSC)</td><td>v Bangladesh</td></tr><tr><td>ODI # 4056</td><td>10/21/2018</td><td>Guwahati</td><td>v West Indies</td></tr><tr><td>ODI # 4059</td><td>10/24/2018</td><td>Visakhapatnam</td><td>v West Indies</td></tr><tr><td>ODI # 4062</td><td>10/27/2018</td><td>Pune</td><td>v West Indies</td></tr><tr><td>ODI # 4063</td><td>10/29/2018</td><td>Mumbai (BS)</td><td>v West Indies</td></tr><tr><td>ODI # 4064</td><td>11/1/2018</td><td>Thiruvananthapuram</td><td>v West Indies</td></tr><tr><td>ODI # 4077</td><td>1/12/2019</td><td>Sydney</td><td>v Australia</td></tr><tr><td>ODI # 4078</td><td>1/15/2019</td><td>Adelaide</td><td>v Australia</td></tr><tr><td>ODI # 4079</td><td>1/18/2019</td><td>Melbourne</td><td>v Australia</td></tr><tr><td>ODI # 4082</td><td>1/23/2019</td><td>Napier</td><td>v New Zealand</td></tr><tr><td>ODI # 4085</td><td>1/26/2019</td><td>Mount Maunganui</td><td>v New Zealand</td></tr><tr><td>ODI # 4092</td><td>2/3/2019</td><td>Wellington</td><td>v New Zealand</td></tr><tr><td>ODI # 4102</td><td>3/2/2019</td><td>Hyderabad (Deccan)</td><td>v Australia</td></tr><tr><td>ODI # 4106</td><td>3/5/2019</td><td>Nagpur</td><td>v Australia</td></tr><tr><td>ODI # 4109</td><td>3/8/2019</td><td>Ranchi</td><td>v Australia</td></tr><tr><td>ODI # 4150</td><td>6/5/2019</td><td>Southampton</td><td>v South Africa</td></tr><tr><td>ODI # 4155</td><td>6/9/2019</td><td>The Oval</td><td>v Australia</td></tr><tr><td>ODI # 4161</td><td>6/16/2019</td><td>Manchester</td><td>v Pakistan</td></tr><tr><td>ODI # 4169</td><td>6/22/2019</td><td>Southampton</td><td>v Afghanistan</td></tr><tr><td>ODI # 4175</td><td>6/27/2019</td><td>Manchester</td><td>v West Indies</td></tr><tr><td>ODI # 4179</td><td>6/30/2019</td><td>Birmingham</td><td>v England</td></tr><tr><td>ODI # 4182</td><td>7/2/2019</td><td>Birmingham</td><td>v Bangladesh</td></tr><tr><td>ODI # 4187</td><td>7/6/2019</td><td>Leeds</td><td>v Sri Lanka</td></tr><tr><td>ODI # 4190</td><td>7/9/2019</td><td>Manchester</td><td>v New Zealand</td></tr></tbody></table></div>"
      ]
     },
     "metadata": {
      "application/vnd.databricks.v1+output": {
       "addedWidgets": {},
       "aggData": [],
       "aggError": "",
       "aggOverflow": false,
       "aggSchema": [],
       "aggSeriesLimitReached": false,
       "aggType": "",
       "arguments": {},
       "columnCustomDisplayInfos": {},
       "data": [
        [
         "ODI # 2199",
         "12/23/2004",
         "Chattogram",
         "v Bangladesh"
        ],
        [
         "ODI # 2201",
         "12/26/2004",
         "Dhaka",
         "v Bangladesh"
        ],
        [
         "ODI # 2202",
         "12/27/2004",
         "Dhaka",
         "v Bangladesh"
        ],
        [
         "ODI # 2235",
         "4/2/2005",
         "Kochi",
         "v Pakistan"
        ],
        [
         "ODI # 2236",
         "4/5/2005",
         "Visakhapatnam",
         "v Pakistan"
        ],
        [
         "ODI # 2237",
         "4/9/2005",
         "Jamshedpur",
         "v Pakistan"
        ],
        [
         "ODI # 2238",
         "4/12/2005",
         "Ahmedabad",
         "v Pakistan"
        ],
        [
         "ODI # 2239",
         "4/15/2005",
         "Kanpur",
         "v Pakistan"
        ],
        [
         "ODI # 2240",
         "4/17/2005",
         "Delhi",
         "v Pakistan"
        ],
        [
         "ODI # 2262",
         "7/30/2005",
         "Dambulla",
         "v Sri Lanka"
        ],
        [
         "ODI # 2263",
         "7/31/2005",
         "Dambulla",
         "v West Indies"
        ],
        [
         "ODI # 2265",
         "8/3/2005",
         "Dambulla",
         "v Sri Lanka"
        ],
        [
         "ODI # 2267",
         "8/7/2005",
         "Colombo (RPS)",
         "v West Indies"
        ],
        [
         "ODI # 2268",
         "8/9/2005",
         "Colombo (RPS)",
         "v Sri Lanka"
        ],
        [
         "ODI # 2273",
         "8/26/2005",
         "Bulawayo",
         "v New Zealand"
        ],
        [
         "ODI # 2274",
         "8/29/2005",
         "Harare",
         "v Zimbabwe"
        ],
        [
         "ODI # 2278",
         "9/2/2005",
         "Harare",
         "v New Zealand"
        ],
        [
         "ODI # 2280",
         "9/4/2005",
         "Harare",
         "v Zimbabwe"
        ],
        [
         "ODI # 2281",
         "9/6/2005",
         "Harare",
         "v New Zealand"
        ],
        [
         "ODI # 2286",
         "10/25/2005",
         "Nagpur",
         "v Sri Lanka"
        ],
        [
         "ODI # 2287",
         "10/28/2005",
         "Mohali",
         "v Sri Lanka"
        ],
        [
         "ODI # 2290",
         "10/31/2005",
         "Jaipur",
         "v Sri Lanka"
        ],
        [
         "ODI # 2291",
         "11/3/2005",
         "Pune",
         "v Sri Lanka"
        ],
        [
         "ODI # 2294",
         "11/6/2005",
         "Ahmedabad",
         "v Sri Lanka"
        ],
        [
         "ODI # 2295",
         "11/9/2005",
         "Rajkot",
         "v Sri Lanka"
        ],
        [
         "ODI # 2296",
         "11/12/2005",
         "Vadodara",
         "v Sri Lanka"
        ],
        [
         "ODI # 2297",
         "11/16/2005",
         "Hyderabad (Deccan)",
         "v South Africa"
        ],
        [
         "ODI # 2298",
         "11/19/2005",
         "Bengaluru",
         "v South Africa"
        ],
        [
         "ODI # 2299",
         "11/25/2005",
         "Kolkata",
         "v South Africa"
        ],
        [
         "ODI # 2300",
         "11/28/2005",
         "Mumbai",
         "v South Africa"
        ],
        [
         "ODI # 2324",
         "2/6/2006",
         "Peshawar",
         "v Pakistan"
        ],
        [
         "ODI # 2327",
         "2/11/2006",
         "Rawalpindi",
         "v Pakistan"
        ],
        [
         "ODI # 2329",
         "2/13/2006",
         "Lahore",
         "v Pakistan"
        ],
        [
         "ODI # 2331",
         "2/16/2006",
         "Multan",
         "v Pakistan"
        ],
        [
         "ODI # 2333",
         "2/19/2006",
         "Karachi",
         "v Pakistan"
        ],
        [
         "ODI # 2357",
         "3/28/2006",
         "Delhi",
         "v England"
        ],
        [
         "ODI # 2358",
         "3/31/2006",
         "Faridabad",
         "v England"
        ],
        [
         "ODI # 2359",
         "4/3/2006",
         "Margao",
         "v England"
        ],
        [
         "ODI # 2360",
         "4/6/2006",
         "Kochi",
         "v England"
        ],
        [
         "ODI # 2361",
         "4/12/2006",
         "Jamshedpur",
         "v England"
        ],
        [
         "ODI # 2363",
         "4/18/2006",
         "Abu Dhabi",
         "v Pakistan"
        ],
        [
         "ODI # 2364",
         "4/19/2006",
         "Abu Dhabi",
         "v Pakistan"
        ],
        [
         "ODI # 2377",
         "5/18/2006",
         "Kingston",
         "v West Indies"
        ],
        [
         "ODI # 2379",
         "5/20/2006",
         "Kingston",
         "v West Indies"
        ],
        [
         "ODI # 2380",
         "5/23/2006",
         "Basseterre",
         "v West Indies"
        ],
        [
         "ODI # 2381",
         "5/26/2006",
         "Port of Spain",
         "v West Indies"
        ],
        [
         "ODI # 2382",
         "5/28/2006",
         "Port of Spain",
         "v West Indies"
        ],
        [
         "ODI # 2405",
         "8/18/2006",
         "Colombo (SSC)",
         "v Sri Lanka"
        ],
        [
         "ODI # 2414",
         "9/14/2006",
         "Kuala Lumpur",
         "v West Indies"
        ],
        [
         "ODI # 2416",
         "9/16/2006",
         "Kuala Lumpur",
         "v Australia"
        ],
        [
         "ODI # 2419",
         "9/20/2006",
         "Kuala Lumpur",
         "v West Indies"
        ],
        [
         "ODI # 2421",
         "9/22/2006",
         "Kuala Lumpur",
         "v Australia"
        ],
        [
         "ODI # 2429",
         "10/15/2006",
         "Jaipur",
         "v England"
        ],
        [
         "ODI # 2437",
         "10/26/2006",
         "Ahmedabad",
         "v West Indies"
        ],
        [
         "ODI # 2440",
         "10/29/2006",
         "Mohali",
         "v Australia"
        ],
        [
         "ODI # 2447",
         "11/22/2006",
         "Durban",
         "v South Africa"
        ],
        [
         "ODI # 2449",
         "11/26/2006",
         "Cape Town",
         "v South Africa"
        ],
        [
         "ODI # 2452",
         "11/29/2006",
         "Port Elizabeth",
         "v South Africa"
        ],
        [
         "ODI # 2458",
         "12/3/2006",
         "Centurion",
         "v South Africa"
        ],
        [
         "ODI # 2480",
         "1/21/2007",
         "Nagpur",
         "v West Indies"
        ],
        [
         "ODI # 2485",
         "1/24/2007",
         "Cuttack",
         "v West Indies"
        ],
        [
         "ODI # 2493",
         "1/31/2007",
         "Vadodara",
         "v West Indies"
        ],
        [
         "ODI # 2514",
         "2/8/2007",
         "Kolkata",
         "v Sri Lanka"
        ],
        [
         "ODI # 2520",
         "2/11/2007",
         "Rajkot",
         "v Sri Lanka"
        ],
        [
         "ODI # 2522",
         "2/14/2007",
         "Margao",
         "v Sri Lanka"
        ],
        [
         "ODI # 2525",
         "2/17/2007",
         "Visakhapatnam",
         "v Sri Lanka"
        ],
        [
         "ODI # 2538",
         "3/17/2007",
         "Port of Spain",
         "v Bangladesh"
        ],
        [
         "ODI # 2542",
         "3/19/2007",
         "Port of Spain",
         "v Bermuda"
        ],
        [
         "ODI # 2550",
         "3/23/2007",
         "Port of Spain",
         "v Sri Lanka"
        ],
        [
         "ODI # 2582",
         "5/10/2007",
         "Dhaka",
         "v Bangladesh"
        ],
        [
         "ODI # 2583",
         "5/12/2007",
         "Dhaka",
         "v Bangladesh"
        ],
        [
         "ODI # 2587",
         "6/6/2007",
         "Bengaluru",
         "v Africa XI"
        ],
        [
         "ODI # 2588",
         "6/9/2007",
         "Chennai",
         "v Africa XI"
        ],
        [
         "ODI # 2589",
         "6/10/2007",
         "Chennai",
         "v Africa XI"
        ],
        [
         "ODI # 2593",
         "6/29/2007",
         "Belfast",
         "v South Africa"
        ],
        [
         "ODI # 2595",
         "7/1/2007",
         "Belfast",
         "v South Africa"
        ],
        [
         "ODI # 2608",
         "8/16/2007",
         "Glasgow",
         "v Scotland"
        ],
        [
         "ODI # 2611",
         "8/21/2007",
         "Southampton",
         "v England"
        ],
        [
         "ODI # 2613",
         "8/24/2007",
         "Bristol",
         "v England"
        ],
        [
         "ODI # 2616",
         "8/27/2007",
         "Birmingham",
         "v England"
        ],
        [
         "ODI # 2617",
         "8/30/2007",
         "Manchester",
         "v England"
        ],
        [
         "ODI # 2618",
         "9/2/2007",
         "Leeds",
         "v England"
        ],
        [
         "ODI # 2619",
         "9/5/2007",
         "The Oval",
         "v England"
        ],
        [
         "ODI # 2620",
         "9/8/2007",
         "Lord's",
         "v England"
        ],
        [
         "ODI # 2621",
         "9/29/2007",
         "Bengaluru",
         "v Australia"
        ],
        [
         "ODI # 2623",
         "10/2/2007",
         "Kochi",
         "v Australia"
        ],
        [
         "ODI # 2625",
         "10/5/2007",
         "Hyderabad (Deccan)",
         "v Australia"
        ],
        [
         "ODI # 2627",
         "10/8/2007",
         "Chandigarh",
         "v Australia"
        ],
        [
         "ODI # 2629",
         "10/11/2007",
         "Vadodara",
         "v Australia"
        ],
        [
         "ODI # 2631",
         "10/14/2007",
         "Nagpur",
         "v Australia"
        ],
        [
         "ODI # 2632",
         "10/17/2007",
         "Mumbai",
         "v Australia"
        ],
        [
         "ODI # 2643",
         "11/5/2007",
         "Guwahati",
         "v Pakistan"
        ],
        [
         "ODI # 2644",
         "11/8/2007",
         "Mohali",
         "v Pakistan"
        ],
        [
         "ODI # 2645",
         "11/11/2007",
         "Kanpur",
         "v Pakistan"
        ],
        [
         "ODI # 2646",
         "11/15/2007",
         "Gwalior",
         "v Pakistan"
        ],
        [
         "ODI # 2647",
         "11/18/2007",
         "Jaipur",
         "v Pakistan"
        ],
        [
         "ODI # 2670",
         "2/3/2008",
         "Brisbane",
         "v Australia"
        ],
        [
         "ODI # 2672",
         "2/5/2008",
         "Brisbane",
         "v Sri Lanka"
        ],
        [
         "ODI # 2675",
         "2/10/2008",
         "Melbourne",
         "v Australia"
        ],
        [
         "ODI # 2676",
         "2/12/2008",
         "Canberra",
         "v Sri Lanka"
        ],
        [
         "ODI # 2680",
         "2/17/2008",
         "Adelaide",
         "v Australia"
        ],
        [
         "ODI # 2681",
         "2/19/2008",
         "Adelaide",
         "v Sri Lanka"
        ],
        [
         "ODI # 2685",
         "2/24/2008",
         "Sydney",
         "v Australia"
        ],
        [
         "ODI # 2686",
         "2/26/2008",
         "Hobart",
         "v Sri Lanka"
        ],
        [
         "ODI # 2688",
         "3/2/2008",
         "Sydney",
         "v Australia"
        ],
        [
         "ODI # 2689",
         "3/4/2008",
         "Brisbane",
         "v Australia"
        ],
        [
         "ODI # 2705",
         "6/10/2008",
         "Dhaka",
         "v Pakistan"
        ],
        [
         "ODI # 2706",
         "6/12/2008",
         "Dhaka",
         "v Bangladesh"
        ],
        [
         "ODI # 2707",
         "6/14/2008",
         "Dhaka",
         "v Pakistan"
        ],
        [
         "ODI # 2716",
         "6/25/2008",
         "Karachi",
         "v Hong Kong"
        ],
        [
         "ODI # 2717",
         "6/26/2008",
         "Karachi",
         "v Pakistan"
        ],
        [
         "ODI # 2721",
         "6/28/2008",
         "Karachi",
         "v Bangladesh"
        ],
        [
         "ODI # 2730",
         "7/2/2008",
         "Karachi",
         "v Pakistan"
        ],
        [
         "ODI # 2732",
         "7/3/2008",
         "Karachi",
         "v Sri Lanka"
        ],
        [
         "ODI # 2735",
         "7/6/2008",
         "Karachi",
         "v Sri Lanka"
        ],
        [
         "ODI # 2742",
         "8/18/2008",
         "Dambulla",
         "v Sri Lanka"
        ],
        [
         "ODI # 2745",
         "8/20/2008",
         "Dambulla",
         "v Sri Lanka"
        ],
        [
         "ODI # 2750",
         "8/24/2008",
         "Colombo (RPS)",
         "v Sri Lanka"
        ],
        [
         "ODI # 2755",
         "8/27/2008",
         "Colombo (RPS)",
         "v Sri Lanka"
        ],
        [
         "ODI # 2756",
         "8/29/2008",
         "Colombo (RPS)",
         "v Sri Lanka"
        ],
        [
         "ODI # 2774",
         "11/14/2008",
         "Rajkot",
         "v England"
        ],
        [
         "ODI # 2777",
         "11/17/2008",
         "Indore",
         "v England"
        ],
        [
         "ODI # 2778",
         "11/20/2008",
         "Kanpur",
         "v England"
        ],
        [
         "ODI # 2781",
         "11/23/2008",
         "Bengaluru",
         "v England"
        ],
        [
         "ODI # 2783",
         "11/26/2008",
         "Cuttack",
         "v England"
        ],
        [
         "ODI # 2806",
         "1/28/2009",
         "Dambulla",
         "v Sri Lanka"
        ],
        [
         "ODI # 2810",
         "1/31/2009",
         "Colombo (RPS)",
         "v Sri Lanka"
        ],
        [
         "ODI # 2813",
         "2/3/2009",
         "Colombo (RPS)",
         "v Sri Lanka"
        ],
        [
         "ODI # 2815",
         "2/5/2009",
         "Colombo (RPS)",
         "v Sri Lanka"
        ],
        [
         "ODI # 2818",
         "2/8/2009",
         "Colombo (RPS)",
         "v Sri Lanka"
        ],
        [
         "ODI # 2821",
         "3/3/2009",
         "Napier",
         "v New Zealand"
        ],
        [
         "ODI # 2822",
         "3/6/2009",
         "Wellington",
         "v New Zealand"
        ],
        [
         "ODI # 2823",
         "3/8/2009",
         "Christchurch",
         "v New Zealand"
        ],
        [
         "ODI # 2824",
         "3/11/2009",
         "Hamilton",
         "v New Zealand"
        ],
        [
         "ODI # 2825",
         "3/14/2009",
         "Auckland",
         "v New Zealand"
        ],
        [
         "ODI # 2852",
         "6/26/2009",
         "Kingston",
         "v West Indies"
        ],
        [
         "ODI # 2853",
         "6/28/2009",
         "Kingston",
         "v West Indies"
        ],
        [
         "ODI # 2854",
         "7/3/2009",
         "Gros Islet",
         "v West Indies"
        ],
        [
         "ODI # 2855",
         "7/5/2009",
         "Gros Islet",
         "v West Indies"
        ],
        [
         "ODI # 2886",
         "9/11/2009",
         "Colombo (RPS)",
         "v New Zealand"
        ],
        [
         "ODI # 2887",
         "9/12/2009",
         "Colombo (RPS)",
         "v Sri Lanka"
        ],
        [
         "ODI # 2889",
         "9/14/2009",
         "Colombo (RPS)",
         "v Sri Lanka"
        ],
        [
         "ODI # 2898",
         "9/26/2009",
         "Centurion",
         "v Pakistan"
        ],
        [
         "ODI # 2901",
         "9/28/2009",
         "Centurion",
         "v Australia"
        ],
        [
         "ODI # 2904",
         "9/30/2009",
         "Johannesburg",
         "v West Indies"
        ],
        [
         "ODI # 2913",
         "10/25/2009",
         "Vadodara",
         "v Australia"
        ],
        [
         "ODI # 2915",
         "10/28/2009",
         "Nagpur",
         "v Australia"
        ],
        [
         "ODI # 2918",
         "10/31/2009",
         "Delhi",
         "v Australia"
        ],
        [
         "ODI # 2919",
         "11/2/2009",
         "Mohali",
         "v Australia"
        ],
        [
         "ODI # 2923",
         "11/5/2009",
         "Hyderabad (Deccan)",
         "v Australia"
        ],
        [
         "ODI # 2925",
         "11/8/2009",
         "Guwahati",
         "v Australia"
        ],
        [
         "ODI # 2932",
         "12/15/2009",
         "Rajkot",
         "v Sri Lanka"
        ],
        [
         "ODI # 2933",
         "12/18/2009",
         "Nagpur",
         "v Sri Lanka"
        ],
        [
         "ODI # 2936",
         "12/27/2009",
         "Delhi",
         "v Sri Lanka"
        ],
        [
         "ODI # 2938",
         "1/5/2010",
         "Dhaka",
         "v Sri Lanka"
        ],
        [
         "ODI # 2939",
         "1/7/2010",
         "Dhaka",
         "v Bangladesh"
        ],
        [
         "ODI # 2941",
         "1/10/2010",
         "Dhaka",
         "v Sri Lanka"
        ],
        [
         "ODI # 2942",
         "1/11/2010",
         "Dhaka",
         "v Bangladesh"
        ],
        [
         "ODI # 2943",
         "1/13/2010",
         "Dhaka",
         "v Sri Lanka"
        ],
        [
         "ODI # 2961",
         "2/21/2010",
         "Jaipur",
         "v South Africa"
        ],
        [
         "ODI # 2962",
         "2/24/2010",
         "Gwalior",
         "v South Africa"
        ],
        [
         "ODI # 2963",
         "2/27/2010",
         "Ahmedabad",
         "v South Africa"
        ],
        [
         "ODI # 2993",
         "6/16/2010",
         "Dambulla",
         "v Bangladesh"
        ],
        [
         "ODI # 2996",
         "6/19/2010",
         "Dambulla",
         "v Pakistan"
        ],
        [
         "ODI # 2999",
         "6/22/2010",
         "Dambulla",
         "v Sri Lanka"
        ],
        [
         "ODI # 3001",
         "6/24/2010",
         "Dambulla",
         "v Sri Lanka"
        ],
        [
         "ODI # 3030",
         "8/10/2010",
         "Dambulla",
         "v New Zealand"
        ],
        [
         "ODI # 3032",
         "8/16/2010",
         "Dambulla",
         "v Sri Lanka"
        ],
        [
         "ODI # 3038",
         "8/22/2010",
         "Dambulla",
         "v Sri Lanka"
        ],
        [
         "ODI # 3039",
         "8/25/2010",
         "Dambulla",
         "v New Zealand"
        ],
        [
         "ODI # 3040",
         "8/28/2010",
         "Dambulla",
         "v Sri Lanka"
        ],
        [
         "ODI # 3060",
         "10/20/2010",
         "Visakhapatnam",
         "v Australia"
        ],
        [
         "ODI # 3079",
         "1/12/2011",
         "Durban",
         "v South Africa"
        ],
        [
         "ODI # 3080",
         "1/15/2011",
         "Johannesburg",
         "v South Africa"
        ],
        [
         "ODI # 3082",
         "1/18/2011",
         "Cape Town",
         "v South Africa"
        ],
        [
         "ODI # 3084",
         "1/21/2011",
         "Port Elizabeth",
         "v South Africa"
        ],
        [
         "ODI # 3087",
         "1/23/2011",
         "Centurion",
         "v South Africa"
        ],
        [
         "ODI # 3100",
         "2/19/2011",
         "Dhaka",
         "v Bangladesh"
        ],
        [
         "ODI # 3110",
         "2/27/2011",
         "Bengaluru",
         "v England"
        ],
        [
         "ODI # 3121",
         "3/6/2011",
         "Bengaluru",
         "v Ireland"
        ],
        [
         "ODI # 3124",
         "3/9/2011",
         "Delhi",
         "v Netherlands"
        ],
        [
         "ODI # 3128",
         "3/12/2011",
         "Nagpur",
         "v South Africa"
        ],
        [
         "ODI # 3141",
         "3/20/2011",
         "Chennai",
         "v West Indies"
        ],
        [
         "ODI # 3143",
         "3/24/2011",
         "Ahmedabad",
         "v Australia"
        ],
        [
         "ODI # 3147",
         "3/30/2011",
         "Mohali",
         "v Pakistan"
        ],
        [
         "ODI # 3148",
         "4/2/2011",
         "Mumbai",
         "v Sri Lanka"
        ],
        [
         "ODI # 3186",
         "9/3/2011",
         "Chester-le-Street",
         "v England"
        ],
        [
         "ODI # 3187",
         "9/6/2011",
         "Southampton",
         "v England"
        ],
        [
         "ODI # 3189",
         "9/9/2011",
         "The Oval",
         "v England"
        ],
        [
         "ODI # 3191",
         "9/11/2011",
         "Lord's",
         "v England"
        ],
        [
         "ODI # 3195",
         "9/16/2011",
         "Cardiff",
         "v England"
        ],
        [
         "ODI # 3199",
         "10/14/2011",
         "Hyderabad (Deccan)",
         "v England"
        ],
        [
         "ODI # 3201",
         "10/17/2011",
         "Delhi",
         "v England"
        ],
        [
         "ODI # 3205",
         "10/20/2011",
         "Mohali",
         "v England"
        ],
        [
         "ODI # 3207",
         "10/23/2011",
         "Mumbai",
         "v England"
        ],
        [
         "ODI # 3210",
         "10/25/2011",
         "Kolkata",
         "v England"
        ],
        [
         "ODI # 3231",
         "2/5/2012",
         "Melbourne",
         "v Australia"
        ],
        [
         "ODI # 3233",
         "2/8/2012",
         "Perth",
         "v Sri Lanka"
        ],
        [
         "ODI # 3237",
         "2/12/2012",
         "Adelaide",
         "v Australia"
        ],
        [
         "ODI # 3239",
         "2/14/2012",
         "Adelaide",
         "v Sri Lanka"
        ],
        [
         "ODI # 3244",
         "2/19/2012",
         "Brisbane",
         "v Australia"
        ],
        [
         "ODI # 3250",
         "2/26/2012",
         "Sydney",
         "v Australia"
        ],
        [
         "ODI # 3251",
         "2/28/2012",
         "Hobart",
         "v Sri Lanka"
        ],
        [
         "ODI # 3259",
         "3/13/2012",
         "Dhaka",
         "v Sri Lanka"
        ],
        [
         "ODI # 3261",
         "3/16/2012",
         "Dhaka",
         "v Bangladesh"
        ],
        [
         "ODI # 3263",
         "3/18/2012",
         "Dhaka",
         "v Pakistan"
        ],
        [
         "ODI # 3291",
         "7/21/2012",
         "Hambantota",
         "v Sri Lanka"
        ],
        [
         "ODI # 3292",
         "7/24/2012",
         "Hambantota",
         "v Sri Lanka"
        ],
        [
         "ODI # 3293",
         "7/28/2012",
         "Colombo (RPS)",
         "v Sri Lanka"
        ],
        [
         "ODI # 3294",
         "7/31/2012",
         "Colombo (RPS)",
         "v Sri Lanka"
        ],
        [
         "ODI # 3295",
         "8/4/2012",
         "Pallekele",
         "v Sri Lanka"
        ],
        [
         "ODI # 3314",
         "12/30/2012",
         "Chennai",
         "v Pakistan"
        ],
        [
         "ODI # 3315",
         "1/3/2013",
         "Kolkata",
         "v Pakistan"
        ],
        [
         "ODI # 3316",
         "1/6/2013",
         "Delhi",
         "v Pakistan"
        ],
        [
         "ODI # 3318",
         "1/11/2013",
         "Rajkot",
         "v England"
        ],
        [
         "ODI # 3320",
         "1/15/2013",
         "Kochi",
         "v England"
        ],
        [
         "ODI # 3322",
         "1/19/2013",
         "Ranchi",
         "v England"
        ],
        [
         "ODI # 3327",
         "1/23/2013",
         "Mohali",
         "v England"
        ],
        [
         "ODI # 3329",
         "1/27/2013",
         "Dharamsala",
         "v England"
        ],
        [
         "ODI # 3363",
         "6/6/2013",
         "Cardiff",
         "v South Africa"
        ],
        [
         "ODI # 3368",
         "6/11/2013",
         "The Oval",
         "v West Indies"
        ],
        [
         "ODI # 3372",
         "6/15/2013",
         "Birmingham",
         "v Pakistan"
        ],
        [
         "ODI # 3376",
         "6/20/2013",
         "Cardiff",
         "v Sri Lanka"
        ],
        [
         "ODI # 3377",
         "6/23/2013",
         "Birmingham",
         "v England"
        ],
        [
         "ODI # 3380",
         "6/30/2013",
         "Kingston",
         "v West Indies"
        ],
        [
         "ODI # 3388",
         "7/11/2013",
         "Port of Spain",
         "v Sri Lanka"
        ],
        [
         "ODI # 3419",
         "10/13/2013",
         "Pune",
         "v Australia"
        ],
        [
         "ODI # 3420",
         "10/16/2013",
         "Jaipur",
         "v Australia"
        ],
        [
         "ODI # 3421",
         "10/19/2013",
         "Mohali",
         "v Australia"
        ],
        [
         "ODI # 3422",
         "10/23/2013",
         "Ranchi",
         "v Australia"
        ],
        [
         "ODI # 3424",
         "10/30/2013",
         "Nagpur",
         "v Australia"
        ],
        [
         "ODI # 3428",
         "11/2/2013",
         "Bengaluru",
         "v Australia"
        ],
        [
         "ODI # 3436",
         "11/21/2013",
         "Kochi",
         "v West Indies"
        ],
        [
         "ODI # 3437",
         "11/24/2013",
         "Visakhapatnam",
         "v West Indies"
        ],
        [
         "ODI # 3439",
         "11/27/2013",
         "Kanpur",
         "v West Indies"
        ],
        [
         "ODI # 3442",
         "12/5/2013",
         "Johannesburg",
         "v South Africa"
        ],
        [
         "ODI # 3443",
         "12/8/2013",
         "Durban",
         "v South Africa"
        ],
        [
         "ODI # 3444",
         "12/11/2013",
         "Centurion",
         "v South Africa"
        ],
        [
         "ODI # 3456",
         "1/19/2014",
         "Napier",
         "v New Zealand"
        ],
        [
         "ODI # 3458",
         "1/22/2014",
         "Hamilton",
         "v New Zealand"
        ],
        [
         "ODI # 3462",
         "1/25/2014",
         "Auckland",
         "v New Zealand"
        ],
        [
         "ODI # 3465",
         "1/28/2014",
         "Hamilton",
         "v New Zealand"
        ],
        [
         "ODI # 3467",
         "1/31/2014",
         "Wellington",
         "v New Zealand"
        ],
        [
         "ODI # 3517",
         "8/27/2014",
         "Cardiff",
         "v England"
        ],
        [
         "ODI # 3520",
         "8/30/2014",
         "Nottingham",
         "v England"
        ],
        [
         "ODI # 3523",
         "9/2/2014",
         "Birmingham",
         "v England"
        ],
        [
         "ODI # 3525",
         "9/5/2014",
         "Leeds",
         "v England"
        ],
        [
         "ODI # 3531",
         "10/8/2014",
         "Kochi",
         "v West Indies"
        ],
        [
         "ODI # 3533",
         "10/11/2014",
         "Delhi",
         "v West Indies"
        ],
        [
         "ODI # 3535",
         "10/17/2014",
         "Dharamsala",
         "v West Indies"
        ],
        [
         "ODI # 3582",
         "1/18/2015",
         "Melbourne",
         "v Australia"
        ],
        [
         "ODI # 3586",
         "1/20/2015",
         "Brisbane",
         "v England"
        ],
        [
         "ODI # 3592",
         "1/26/2015",
         "Sydney",
         "v Australia"
        ],
        [
         "ODI # 3595",
         "1/30/2015",
         "Perth",
         "v England"
        ],
        [
         "ODI # 3602",
         "2/15/2015",
         "Adelaide",
         "v Pakistan"
        ],
        [
         "ODI # 3610",
         "2/22/2015",
         "Melbourne",
         "v South Africa"
        ],
        [
         "ODI # 3618",
         "2/28/2015",
         "Perth",
         "v U.A.E."
        ],
        [
         "ODI # 3625",
         "3/6/2015",
         "Perth",
         "v West Indies"
        ],
        [
         "ODI # 3631",
         "3/10/2015",
         "Hamilton",
         "v Ireland"
        ],
        [
         "ODI # 3636",
         "3/14/2015",
         "Auckland",
         "v Zimbabwe"
        ],
        [
         "ODI # 3641",
         "3/19/2015",
         "Melbourne",
         "v Bangladesh"
        ],
        [
         "ODI # 3645",
         "3/26/2015",
         "Sydney",
         "v Australia"
        ],
        [
         "ODI # 3658",
         "6/18/2015",
         "Dhaka",
         "v Bangladesh"
        ],
        [
         "ODI # 3660",
         "6/21/2015",
         "Dhaka",
         "v Bangladesh"
        ],
        [
         "ODI # 3661",
         "6/24/2015",
         "Dhaka",
         "v Bangladesh"
        ],
        [
         "ODI # 3689",
         "10/11/2015",
         "Kanpur",
         "v South Africa"
        ],
        [
         "ODI # 3692",
         "10/14/2015",
         "Indore",
         "v South Africa"
        ],
        [
         "ODI # 3695",
         "10/18/2015",
         "Rajkot",
         "v South Africa"
        ],
        [
         "ODI # 3698",
         "10/22/2015",
         "Chennai",
         "v South Africa"
        ],
        [
         "ODI # 3700",
         "10/25/2015",
         "Mumbai",
         "v South Africa"
        ],
        [
         "ODI # 3723",
         "1/12/2016",
         "Perth",
         "v Australia"
        ],
        [
         "ODI # 3724",
         "1/15/2016",
         "Brisbane",
         "v Australia"
        ],
        [
         "ODI # 3725",
         "1/17/2016",
         "Melbourne",
         "v Australia"
        ],
        [
         "ODI # 3726",
         "1/20/2016",
         "Canberra",
         "v Australia"
        ],
        [
         "ODI # 3727",
         "1/23/2016",
         "Sydney",
         "v Australia"
        ],
        [
         "ODI # 3742",
         "6/11/2016",
         "Harare",
         "v Zimbabwe"
        ],
        [
         "ODI # 3744",
         "6/13/2016",
         "Harare",
         "v Zimbabwe"
        ],
        [
         "ODI # 3746",
         "6/15/2016",
         "Harare",
         "v Zimbabwe"
        ],
        [
         "ODI # 3796",
         "10/16/2016",
         "Dharamsala",
         "v New Zealand"
        ],
        [
         "ODI # 3797",
         "10/20/2016",
         "Delhi",
         "v New Zealand"
        ],
        [
         "ODI # 3798",
         "10/23/2016",
         "Mohali",
         "v New Zealand"
        ],
        [
         "ODI # 3799",
         "10/26/2016",
         "Ranchi",
         "v New Zealand"
        ],
        [
         "ODI # 3800",
         "10/29/2016",
         "Visakhapatnam",
         "v New Zealand"
        ],
        [
         "ODI # 3819",
         "1/15/2017",
         "Pune",
         "v England"
        ],
        [
         "ODI # 3821",
         "1/19/2017",
         "Cuttack",
         "v England"
        ],
        [
         "ODI # 3824",
         "1/22/2017",
         "Kolkata",
         "v England"
        ],
        [
         "ODI # 3878",
         "6/4/2017",
         "Birmingham",
         "v Pakistan"
        ],
        [
         "ODI # 3882",
         "6/8/2017",
         "The Oval",
         "v Sri Lanka"
        ],
        [
         "ODI # 3886",
         "6/11/2017",
         "The Oval",
         "v South Africa"
        ],
        [
         "ODI # 3891",
         "6/15/2017",
         "Birmingham",
         "v Bangladesh"
        ],
        [
         "ODI # 3894",
         "6/18/2017",
         "The Oval",
         "v Pakistan"
        ],
        [
         "ODI # 3895",
         "6/23/2017",
         "Port of Spain",
         "v West Indies"
        ],
        [
         "ODI # 3896",
         "6/25/2017",
         "Port of Spain",
         "v West Indies"
        ],
        [
         "ODI # 3898",
         "6/30/2017",
         "North Sound",
         "v West Indies"
        ],
        [
         "ODI # 3900",
         "7/2/2017",
         "North Sound",
         "v West Indies"
        ],
        [
         "ODI # 3902",
         "7/6/2017",
         "Kingston",
         "v West Indies"
        ],
        [
         "ODI # 3905",
         "8/20/2017",
         "Dambulla",
         "v Sri Lanka"
        ],
        [
         "ODI # 3906",
         "8/24/2017",
         "Pallekele",
         "v Sri Lanka"
        ],
        [
         "ODI # 3907",
         "8/27/2017",
         "Pallekele",
         "v Sri Lanka"
        ],
        [
         "ODI # 3908",
         "8/31/2017",
         "Colombo (RPS)",
         "v Sri Lanka"
        ],
        [
         "ODI # 3909",
         "9/3/2017",
         "Colombo (RPS)",
         "v Sri Lanka"
        ],
        [
         "ODI # 3910",
         "9/17/2017",
         "Chennai",
         "v Australia"
        ],
        [
         "ODI # 3912",
         "9/21/2017",
         "Kolkata",
         "v Australia"
        ],
        [
         "ODI # 3914",
         "9/24/2017",
         "Indore",
         "v Australia"
        ],
        [
         "ODI # 3917",
         "9/28/2017",
         "Bengaluru",
         "v Australia"
        ],
        [
         "ODI # 3919",
         "10/1/2017",
         "Nagpur",
         "v Australia"
        ],
        [
         "ODI # 3928",
         "10/22/2017",
         "Mumbai",
         "v New Zealand"
        ],
        [
         "ODI # 3931",
         "10/25/2017",
         "Pune",
         "v New Zealand"
        ],
        [
         "ODI # 3932",
         "10/29/2017",
         "Kanpur",
         "v New Zealand"
        ],
        [
         "ODI # 3939",
         "12/10/2017",
         "Dharamsala",
         "v Sri Lanka"
        ],
        [
         "ODI # 3941",
         "12/13/2017",
         "Mohali",
         "v Sri Lanka"
        ],
        [
         "ODI # 3942",
         "12/17/2017",
         "Visakhapatnam",
         "v Sri Lanka"
        ],
        [
         "ODI # 3969",
         "2/1/2018",
         "Durban",
         "v South Africa"
        ],
        [
         "ODI # 3970",
         "2/4/2018",
         "Centurion",
         "v South Africa"
        ],
        [
         "ODI # 3971",
         "2/7/2018",
         "Cape Town",
         "v South Africa"
        ],
        [
         "ODI # 3973",
         "2/10/2018",
         "Johannesburg",
         "v South Africa"
        ],
        [
         "ODI # 3976",
         "2/13/2018",
         "Port Elizabeth",
         "v South Africa"
        ],
        [
         "ODI # 3978",
         "2/16/2018",
         "Centurion",
         "v South Africa"
        ],
        [
         "ODI # 4014",
         "7/12/2018",
         "Nottingham",
         "v England"
        ],
        [
         "ODI # 4016",
         "7/14/2018",
         "Lord's",
         "v England"
        ],
        [
         "ODI # 4018",
         "7/17/2018",
         "Leeds",
         "v England"
        ],
        [
         "ODI # 4039",
         "9/18/2018",
         "Dubai (DSC)",
         "v Hong Kong"
        ],
        [
         "ODI # 4040",
         "9/19/2018",
         "Dubai (DSC)",
         "v Pakistan"
        ],
        [
         "ODI # 4042",
         "9/21/2018",
         "Dubai (DSC)",
         "v Bangladesh"
        ],
        [
         "ODI # 4044",
         "9/23/2018",
         "Dubai (DSC)",
         "v Pakistan"
        ],
        [
         "ODI # 4046",
         "9/25/2018",
         "Dubai (DSC)",
         "v Afghanistan"
        ],
        [
         "ODI # 4048",
         "9/28/2018",
         "Dubai (DSC)",
         "v Bangladesh"
        ],
        [
         "ODI # 4056",
         "10/21/2018",
         "Guwahati",
         "v West Indies"
        ],
        [
         "ODI # 4059",
         "10/24/2018",
         "Visakhapatnam",
         "v West Indies"
        ],
        [
         "ODI # 4062",
         "10/27/2018",
         "Pune",
         "v West Indies"
        ],
        [
         "ODI # 4063",
         "10/29/2018",
         "Mumbai (BS)",
         "v West Indies"
        ],
        [
         "ODI # 4064",
         "11/1/2018",
         "Thiruvananthapuram",
         "v West Indies"
        ],
        [
         "ODI # 4077",
         "1/12/2019",
         "Sydney",
         "v Australia"
        ],
        [
         "ODI # 4078",
         "1/15/2019",
         "Adelaide",
         "v Australia"
        ],
        [
         "ODI # 4079",
         "1/18/2019",
         "Melbourne",
         "v Australia"
        ],
        [
         "ODI # 4082",
         "1/23/2019",
         "Napier",
         "v New Zealand"
        ],
        [
         "ODI # 4085",
         "1/26/2019",
         "Mount Maunganui",
         "v New Zealand"
        ],
        [
         "ODI # 4092",
         "2/3/2019",
         "Wellington",
         "v New Zealand"
        ],
        [
         "ODI # 4102",
         "3/2/2019",
         "Hyderabad (Deccan)",
         "v Australia"
        ],
        [
         "ODI # 4106",
         "3/5/2019",
         "Nagpur",
         "v Australia"
        ],
        [
         "ODI # 4109",
         "3/8/2019",
         "Ranchi",
         "v Australia"
        ],
        [
         "ODI # 4150",
         "6/5/2019",
         "Southampton",
         "v South Africa"
        ],
        [
         "ODI # 4155",
         "6/9/2019",
         "The Oval",
         "v Australia"
        ],
        [
         "ODI # 4161",
         "6/16/2019",
         "Manchester",
         "v Pakistan"
        ],
        [
         "ODI # 4169",
         "6/22/2019",
         "Southampton",
         "v Afghanistan"
        ],
        [
         "ODI # 4175",
         "6/27/2019",
         "Manchester",
         "v West Indies"
        ],
        [
         "ODI # 4179",
         "6/30/2019",
         "Birmingham",
         "v England"
        ],
        [
         "ODI # 4182",
         "7/2/2019",
         "Birmingham",
         "v Bangladesh"
        ],
        [
         "ODI # 4187",
         "7/6/2019",
         "Leeds",
         "v Sri Lanka"
        ],
        [
         "ODI # 4190",
         "7/9/2019",
         "Manchester",
         "v New Zealand"
        ]
       ],
       "datasetInfos": [],
       "dbfsResultPath": null,
       "isJsonSchema": true,
       "metadata": {},
       "overflow": false,
       "plotOptions": {
        "customPlotOptions": {},
        "displayType": "table",
        "pivotAggregation": null,
        "pivotColumns": null,
        "xColumns": null,
        "yColumns": null
       },
       "removedWidgets": [],
       "schema": [
        {
         "metadata": "{}",
         "name": "odi_number",
         "type": "\"string\""
        },
        {
         "metadata": "{}",
         "name": "date",
         "type": "\"string\""
        },
        {
         "metadata": "{}",
         "name": "ground",
         "type": "\"string\""
        },
        {
         "metadata": "{}",
         "name": "opposition",
         "type": "\"string\""
        }
       ],
       "type": "table"
      }
     },
     "output_type": "display_data"
    }
   ],
   "source": [
    "left_dt=dt.select('odi_number','date','ground','opposition')\n",
    "display(left_dt)"
   ]
  },
  {
   "cell_type": "code",
   "execution_count": 0,
   "metadata": {
    "application/vnd.databricks.v1+cell": {
     "cellMetadata": {},
     "inputWidgets": {},
     "nuid": "562fc934-cf73-4c67-a282-900851000631",
     "showTitle": false,
     "title": ""
    }
   },
   "outputs": [
    {
     "data": {
      "text/html": [
       "<style scoped>\n",
       "  .table-result-container {\n",
       "    max-height: 300px;\n",
       "    overflow: auto;\n",
       "  }\n",
       "  table, th, td {\n",
       "    border: 1px solid black;\n",
       "    border-collapse: collapse;\n",
       "  }\n",
       "  th, td {\n",
       "    padding: 5px;\n",
       "  }\n",
       "  th {\n",
       "    text-align: left;\n",
       "  }\n",
       "</style><div class='table-result-container'><table class='table-result'><thead style='background-color: white'><tr><th>odi_number</th><th>score</th><th>runs_scored</th><th>balls_faced</th><th>fours</th><th>sixes</th></tr></thead><tbody><tr><td>ODI # 2199</td><td>0</td><td>0</td><td>1</td><td>0</td><td>0</td></tr><tr><td>ODI # 2201</td><td>12</td><td>12</td><td>11</td><td>2</td><td>0</td></tr><tr><td>ODI # 2202</td><td>7*</td><td>7</td><td>2</td><td>0</td><td>1</td></tr><tr><td>ODI # 2235</td><td>3</td><td>3</td><td>7</td><td>0</td><td>0</td></tr><tr><td>ODI # 2236</td><td>148</td><td>148</td><td>123</td><td>15</td><td>4</td></tr><tr><td>ODI # 2237</td><td>28</td><td>28</td><td>24</td><td>5</td><td>0</td></tr><tr><td>ODI # 2238</td><td>47</td><td>47</td><td>64</td><td>4</td><td>1</td></tr><tr><td>ODI # 2239</td><td>11</td><td>11</td><td>16</td><td>1</td><td>0</td></tr><tr><td>ODI # 2240</td><td>24</td><td>24</td><td>38</td><td>2</td><td>0</td></tr><tr><td>ODI # 2262</td><td>2</td><td>2</td><td>7</td><td>0</td><td>0</td></tr><tr><td>ODI # 2263</td><td>15*</td><td>15</td><td>11</td><td>1</td><td>1</td></tr><tr><td>ODI # 2265</td><td>20</td><td>20</td><td>27</td><td>1</td><td>0</td></tr><tr><td>ODI # 2267</td><td>28*</td><td>28</td><td>13</td><td>1</td><td>2</td></tr><tr><td>ODI # 2268</td><td>7</td><td>7</td><td>11</td><td>0</td><td>0</td></tr><tr><td>ODI # 2273</td><td>2</td><td>2</td><td>5</td><td>0</td><td>0</td></tr><tr><td>ODI # 2274</td><td>56</td><td>56</td><td>46</td><td>2</td><td>4</td></tr><tr><td>ODI # 2278</td><td>37*</td><td>37</td><td>27</td><td>3</td><td>2</td></tr><tr><td>ODI # 2280</td><td>67*</td><td>67</td><td>63</td><td>1</td><td>3</td></tr><tr><td>ODI # 2281</td><td>11</td><td>11</td><td>16</td><td>1</td><td>0</td></tr><tr><td>ODI # 2286</td><td>38</td><td>38</td><td>28</td><td>3</td><td>2</td></tr><tr><td>ODI # 2287</td><td>DNB</td><td>-</td><td>-</td><td>-</td><td>-</td></tr><tr><td>ODI # 2290</td><td>183*</td><td>183</td><td>145</td><td>15</td><td>10</td></tr><tr><td>ODI # 2291</td><td>45*</td><td>45</td><td>43</td><td>1</td><td>2</td></tr><tr><td>ODI # 2294</td><td>0</td><td>0</td><td>1</td><td>0</td><td>0</td></tr><tr><td>ODI # 2295</td><td>DNB</td><td>-</td><td>-</td><td>-</td><td>-</td></tr><tr><td>ODI # 2296</td><td>80</td><td>80</td><td>73</td><td>9</td><td>3</td></tr><tr><td>ODI # 2297</td><td>17</td><td>17</td><td>28</td><td>1</td><td>0</td></tr><tr><td>ODI # 2298</td><td>DNB</td><td>-</td><td>-</td><td>-</td><td>-</td></tr><tr><td>ODI # 2299</td><td>14</td><td>14</td><td>26</td><td>0</td><td>0</td></tr><tr><td>ODI # 2300</td><td>12</td><td>12</td><td>26</td><td>1</td><td>0</td></tr><tr><td>ODI # 2324</td><td>68</td><td>68</td><td>53</td><td>11</td><td>1</td></tr><tr><td>ODI # 2327</td><td>DNB</td><td>-</td><td>-</td><td>-</td><td>-</td></tr><tr><td>ODI # 2329</td><td>72*</td><td>72</td><td>46</td><td>13</td><td>0</td></tr><tr><td>ODI # 2331</td><td>2*</td><td>2</td><td>5</td><td>0</td><td>0</td></tr><tr><td>ODI # 2333</td><td>77*</td><td>77</td><td>56</td><td>6</td><td>4</td></tr><tr><td>ODI # 2357</td><td>20</td><td>20</td><td>28</td><td>2</td><td>0</td></tr><tr><td>ODI # 2358</td><td>38</td><td>38</td><td>55</td><td>2</td><td>0</td></tr><tr><td>ODI # 2359</td><td>13*</td><td>13</td><td>6</td><td>1</td><td>1</td></tr><tr><td>ODI # 2360</td><td>10*</td><td>10</td><td>13</td><td>1</td><td>0</td></tr><tr><td>ODI # 2361</td><td>96</td><td>96</td><td>106</td><td>10</td><td>3</td></tr><tr><td>ODI # 2363</td><td>3</td><td>3</td><td>10</td><td>0</td><td>0</td></tr><tr><td>ODI # 2364</td><td>59</td><td>59</td><td>72</td><td>5</td><td>0</td></tr><tr><td>ODI # 2377</td><td>18</td><td>18</td><td>11</td><td>2</td><td>1</td></tr><tr><td>ODI # 2379</td><td>2</td><td>2</td><td>7</td><td>0</td><td>0</td></tr><tr><td>ODI # 2380</td><td>15</td><td>15</td><td>26</td><td>1</td><td>0</td></tr><tr><td>ODI # 2381</td><td>46*</td><td>46</td><td>58</td><td>6</td><td>0</td></tr><tr><td>ODI # 2382</td><td>14</td><td>14</td><td>19</td><td>2</td><td>0</td></tr><tr><td>ODI # 2405</td><td>DNB</td><td>-</td><td>-</td><td>-</td><td>-</td></tr><tr><td>ODI # 2414</td><td>2</td><td>2</td><td>10</td><td>0</td><td>0</td></tr><tr><td>ODI # 2416</td><td>DNB</td><td>-</td><td>-</td><td>-</td><td>-</td></tr><tr><td>ODI # 2419</td><td>18</td><td>18</td><td>13</td><td>4</td><td>0</td></tr><tr><td>ODI # 2421</td><td>23</td><td>23</td><td>34</td><td>0</td><td>1</td></tr><tr><td>ODI # 2429</td><td>7</td><td>7</td><td>22</td><td>0</td><td>0</td></tr><tr><td>ODI # 2437</td><td>51</td><td>51</td><td>65</td><td>1</td><td>2</td></tr><tr><td>ODI # 2440</td><td>28</td><td>28</td><td>23</td><td>2</td><td>0</td></tr><tr><td>ODI # 2447</td><td>14</td><td>14</td><td>27</td><td>3</td><td>0</td></tr><tr><td>ODI # 2449</td><td>55</td><td>55</td><td>48</td><td>3</td><td>4</td></tr><tr><td>ODI # 2452</td><td>26</td><td>26</td><td>21</td><td>4</td><td>1</td></tr><tr><td>ODI # 2458</td><td>44</td><td>44</td><td>49</td><td>2</td><td>2</td></tr><tr><td>ODI # 2480</td><td>62*</td><td>62</td><td>42</td><td>3</td><td>4</td></tr><tr><td>ODI # 2485</td><td>6</td><td>6</td><td>19</td><td>0</td><td>0</td></tr><tr><td>ODI # 2493</td><td>40*</td><td>40</td><td>20</td><td>1</td><td>3</td></tr><tr><td>ODI # 2514</td><td>TDNB</td><td>-</td><td>-</td><td>-</td><td>-</td></tr><tr><td>ODI # 2520</td><td>48</td><td>48</td><td>68</td><td>1</td><td>0</td></tr><tr><td>ODI # 2522</td><td>67*</td><td>67</td><td>74</td><td>4</td><td>0</td></tr><tr><td>ODI # 2525</td><td>DNB</td><td>-</td><td>-</td><td>-</td><td>-</td></tr><tr><td>ODI # 2538</td><td>0</td><td>0</td><td>3</td><td>0</td><td>0</td></tr><tr><td>ODI # 2542</td><td>29</td><td>29</td><td>25</td><td>2</td><td>1</td></tr><tr><td>ODI # 2550</td><td>0</td><td>0</td><td>1</td><td>0</td><td>0</td></tr><tr><td>ODI # 2582</td><td>91*</td><td>91</td><td>106</td><td>7</td><td>0</td></tr><tr><td>ODI # 2583</td><td>36</td><td>36</td><td>54</td><td>4</td><td>0</td></tr><tr><td>ODI # 2587</td><td>2</td><td>2</td><td>4</td><td>0</td><td>0</td></tr><tr><td>ODI # 2588</td><td>33</td><td>33</td><td>38</td><td>2</td><td>2</td></tr><tr><td>ODI # 2589</td><td>139*</td><td>139</td><td>97</td><td>15</td><td>5</td></tr><tr><td>ODI # 2593</td><td>0</td><td>0</td><td>4</td><td>0</td><td>0</td></tr><tr><td>ODI # 2595</td><td>14*</td><td>14</td><td>11</td><td>2</td><td>0</td></tr><tr><td>ODI # 2608</td><td>DNB</td><td>-</td><td>-</td><td>-</td><td>-</td></tr><tr><td>ODI # 2611</td><td>19</td><td>19</td><td>60</td><td>1</td><td>0</td></tr><tr><td>ODI # 2613</td><td>21</td><td>21</td><td>18</td><td>3</td><td>0</td></tr><tr><td>ODI # 2616</td><td>13</td><td>13</td><td>20</td><td>0</td><td>0</td></tr><tr><td>ODI # 2617</td><td>13</td><td>13</td><td>18</td><td>1</td><td>0</td></tr><tr><td>ODI # 2618</td><td>24</td><td>24</td><td>17</td><td>3</td><td>0</td></tr><tr><td>ODI # 2619</td><td>35</td><td>35</td><td>37</td><td>3</td><td>0</td></tr><tr><td>ODI # 2620</td><td>50</td><td>50</td><td>72</td><td>4</td><td>1</td></tr><tr><td>ODI # 2621</td><td>DNB</td><td>-</td><td>-</td><td>-</td><td>-</td></tr><tr><td>ODI # 2623</td><td>58</td><td>58</td><td>88</td><td>2</td><td>2</td></tr><tr><td>ODI # 2625</td><td>33</td><td>33</td><td>37</td><td>4</td><td>0</td></tr><tr><td>ODI # 2627</td><td>50*</td><td>50</td><td>35</td><td>5</td><td>1</td></tr><tr><td>ODI # 2629</td><td>4</td><td>4</td><td>7</td><td>1</td><td>0</td></tr><tr><td>ODI # 2631</td><td>26</td><td>26</td><td>29</td><td>2</td><td>1</td></tr><tr><td>ODI # 2632</td><td>5</td><td>5</td><td>11</td><td>1</td><td>0</td></tr><tr><td>ODI # 2643</td><td>63</td><td>63</td><td>77</td><td>8</td><td>0</td></tr><tr><td>ODI # 2644</td><td>4</td><td>4</td><td>10</td><td>0</td><td>0</td></tr><tr><td>ODI # 2645</td><td>49</td><td>49</td><td>52</td><td>4</td><td>2</td></tr><tr><td>ODI # 2646</td><td>45*</td><td>45</td><td>45</td><td>3</td><td>1</td></tr><tr><td>ODI # 2647</td><td>24</td><td>24</td><td>32</td><td>1</td><td>0</td></tr><tr><td>ODI # 2670</td><td>37</td><td>37</td><td>61</td><td>1</td><td>0</td></tr><tr><td>ODI # 2672</td><td>88*</td><td>88</td><td>95</td><td>5</td><td>1</td></tr><tr><td>ODI # 2675</td><td>17*</td><td>17</td><td>54</td><td>0</td><td>0</td></tr><tr><td>ODI # 2676</td><td>31</td><td>31</td><td>26</td><td>3</td><td>0</td></tr><tr><td>ODI # 2680</td><td>37</td><td>37</td><td>50</td><td>1</td><td>0</td></tr><tr><td>ODI # 2681</td><td>50*</td><td>50</td><td>68</td><td>0</td><td>0</td></tr><tr><td>ODI # 2685</td><td>36</td><td>36</td><td>66</td><td>4</td><td>0</td></tr><tr><td>ODI # 2686</td><td>DNB</td><td>-</td><td>-</td><td>-</td><td>-</td></tr><tr><td>ODI # 2688</td><td>15*</td><td>15</td><td>12</td><td>3</td><td>0</td></tr><tr><td>ODI # 2689</td><td>36</td><td>36</td><td>37</td><td>2</td><td>1</td></tr><tr><td>ODI # 2705</td><td>24</td><td>24</td><td>23</td><td>5</td><td>0</td></tr><tr><td>ODI # 2706</td><td>DNB</td><td>-</td><td>-</td><td>-</td><td>-</td></tr><tr><td>ODI # 2707</td><td>64</td><td>64</td><td>59</td><td>3</td><td>2</td></tr><tr><td>ODI # 2716</td><td>109*</td><td>109</td><td>96</td><td>6</td><td>6</td></tr><tr><td>ODI # 2717</td><td>26*</td><td>26</td><td>30</td><td>0</td><td>1</td></tr><tr><td>ODI # 2721</td><td>DNB</td><td>-</td><td>-</td><td>-</td><td>-</td></tr><tr><td>ODI # 2730</td><td>76</td><td>76</td><td>96</td><td>4</td><td>0</td></tr><tr><td>ODI # 2732</td><td>67</td><td>67</td><td>62</td><td>5</td><td>1</td></tr><tr><td>ODI # 2735</td><td>49</td><td>49</td><td>74</td><td>4</td><td>0</td></tr><tr><td>ODI # 2742</td><td>6</td><td>6</td><td>28</td><td>0</td><td>0</td></tr><tr><td>ODI # 2745</td><td>39</td><td>39</td><td>54</td><td>3</td><td>0</td></tr><tr><td>ODI # 2750</td><td>76</td><td>76</td><td>80</td><td>8</td><td>0</td></tr><tr><td>ODI # 2755</td><td>71</td><td>71</td><td>80</td><td>4</td><td>0</td></tr><tr><td>ODI # 2756</td><td>1</td><td>1</td><td>7</td><td>0</td><td>0</td></tr><tr><td>ODI # 2774</td><td>39</td><td>39</td><td>32</td><td>3</td><td>1</td></tr><tr><td>ODI # 2777</td><td>15</td><td>15</td><td>26</td><td>1</td><td>0</td></tr><tr><td>ODI # 2778</td><td>29*</td><td>29</td><td>51</td><td>4</td><td>0</td></tr><tr><td>ODI # 2781</td><td>9</td><td>9</td><td>5</td><td>0</td><td>1</td></tr><tr><td>ODI # 2783</td><td>50</td><td>50</td><td>61</td><td>5</td><td>0</td></tr><tr><td>ODI # 2806</td><td>61*</td><td>61</td><td>65</td><td>5</td><td>0</td></tr><tr><td>ODI # 2810</td><td>23</td><td>23</td><td>35</td><td>0</td><td>0</td></tr><tr><td>ODI # 2813</td><td>35*</td><td>35</td><td>45</td><td>1</td><td>0</td></tr><tr><td>ODI # 2815</td><td>94</td><td>94</td><td>96</td><td>4</td><td>2</td></tr><tr><td>ODI # 2818</td><td>53</td><td>53</td><td>58</td><td>1</td><td>2</td></tr><tr><td>ODI # 2821</td><td>84*</td><td>84</td><td>89</td><td>6</td><td>0</td></tr><tr><td>ODI # 2822</td><td>23*</td><td>23</td><td>19</td><td>2</td><td>0</td></tr><tr><td>ODI # 2823</td><td>68</td><td>68</td><td>58</td><td>5</td><td>2</td></tr><tr><td>ODI # 2824</td><td>DNB</td><td>-</td><td>-</td><td>-</td><td>-</td></tr><tr><td>ODI # 2825</td><td>9</td><td>9</td><td>21</td><td>1</td><td>0</td></tr><tr><td>ODI # 2852</td><td>41</td><td>41</td><td>46</td><td>2</td><td>1</td></tr><tr><td>ODI # 2853</td><td>95</td><td>95</td><td>130</td><td>6</td><td>2</td></tr><tr><td>ODI # 2854</td><td>46*</td><td>46</td><td>34</td><td>2</td><td>1</td></tr><tr><td>ODI # 2855</td><td>TDNB</td><td>-</td><td>-</td><td>-</td><td>-</td></tr><tr><td>ODI # 2886</td><td>35*</td><td>35</td><td>65</td><td>4</td><td>0</td></tr><tr><td>ODI # 2887</td><td>8</td><td>8</td><td>18</td><td>0</td><td>0</td></tr><tr><td>ODI # 2889</td><td>56</td><td>56</td><td>62</td><td>3</td><td>0</td></tr><tr><td>ODI # 2898</td><td>3</td><td>3</td><td>9</td><td>0</td><td>0</td></tr><tr><td>ODI # 2901</td><td>TDNB</td><td>-</td><td>-</td><td>-</td><td>-</td></tr><tr><td>ODI # 2904</td><td>DNB</td><td>-</td><td>-</td><td>-</td><td>-</td></tr><tr><td>ODI # 2913</td><td>34</td><td>34</td><td>46</td><td>4</td><td>0</td></tr><tr><td>ODI # 2915</td><td>124</td><td>124</td><td>107</td><td>9</td><td>3</td></tr><tr><td>ODI # 2918</td><td>71*</td><td>71</td><td>95</td><td>6</td><td>0</td></tr><tr><td>ODI # 2919</td><td>26</td><td>26</td><td>46</td><td>2</td><td>0</td></tr><tr><td>ODI # 2923</td><td>6</td><td>6</td><td>15</td><td>0</td><td>0</td></tr><tr><td>ODI # 2925</td><td>24</td><td>24</td><td>77</td><td>1</td><td>0</td></tr><tr><td>ODI # 2932</td><td>72</td><td>72</td><td>53</td><td>7</td><td>3</td></tr><tr><td>ODI # 2933</td><td>107</td><td>107</td><td>111</td><td>8</td><td>2</td></tr><tr><td>ODI # 2936</td><td>TDNB</td><td>-</td><td>-</td><td>-</td><td>-</td></tr><tr><td>ODI # 2938</td><td>37</td><td>37</td><td>70</td><td>3</td><td>0</td></tr><tr><td>ODI # 2939</td><td>101*</td><td>101</td><td>107</td><td>9</td><td>0</td></tr><tr><td>ODI # 2941</td><td>DNB</td><td>-</td><td>-</td><td>-</td><td>-</td></tr><tr><td>ODI # 2942</td><td>32</td><td>32</td><td>35</td><td>3</td><td>0</td></tr><tr><td>ODI # 2943</td><td>14</td><td>14</td><td>19</td><td>3</td><td>0</td></tr><tr><td>ODI # 2961</td><td>26</td><td>26</td><td>29</td><td>2</td><td>0</td></tr><tr><td>ODI # 2962</td><td>68*</td><td>68</td><td>35</td><td>7</td><td>4</td></tr><tr><td>ODI # 2963</td><td>9</td><td>9</td><td>7</td><td>0</td><td>1</td></tr><tr><td>ODI # 2993</td><td>38*</td><td>38</td><td>45</td><td>3</td><td>1</td></tr><tr><td>ODI # 2996</td><td>56</td><td>56</td><td>71</td><td>2</td><td>1</td></tr><tr><td>ODI # 2999</td><td>41</td><td>41</td><td>53</td><td>6</td><td>0</td></tr><tr><td>ODI # 3001</td><td>38</td><td>38</td><td>50</td><td>2</td><td>1</td></tr><tr><td>ODI # 3030</td><td>2</td><td>2</td><td>9</td><td>0</td><td>0</td></tr><tr><td>ODI # 3032</td><td>23*</td><td>23</td><td>38</td><td>2</td><td>0</td></tr><tr><td>ODI # 3038</td><td>10</td><td>10</td><td>16</td><td>2</td><td>0</td></tr><tr><td>ODI # 3039</td><td>38</td><td>38</td><td>75</td><td>3</td><td>0</td></tr><tr><td>ODI # 3040</td><td>67</td><td>67</td><td>100</td><td>5</td><td>1</td></tr><tr><td>ODI # 3060</td><td>0</td><td>0</td><td>1</td><td>0</td><td>0</td></tr><tr><td>ODI # 3079</td><td>25</td><td>25</td><td>35</td><td>1</td><td>0</td></tr><tr><td>ODI # 3080</td><td>38</td><td>38</td><td>61</td><td>1</td><td>0</td></tr><tr><td>ODI # 3082</td><td>5</td><td>5</td><td>12</td><td>1</td><td>0</td></tr><tr><td>ODI # 3084</td><td>2</td><td>2</td><td>8</td><td>0</td><td>0</td></tr><tr><td>ODI # 3087</td><td>5</td><td>5</td><td>10</td><td>1</td><td>0</td></tr><tr><td>ODI # 3100</td><td>DNB</td><td>-</td><td>-</td><td>-</td><td>-</td></tr><tr><td>ODI # 3110</td><td>31</td><td>31</td><td>25</td><td>3</td><td>1</td></tr><tr><td>ODI # 3121</td><td>34</td><td>34</td><td>50</td><td>2</td><td>0</td></tr><tr><td>ODI # 3124</td><td>19*</td><td>19</td><td>40</td><td>2</td><td>0</td></tr><tr><td>ODI # 3128</td><td>12*</td><td>12</td><td>21</td><td>0</td><td>0</td></tr><tr><td>ODI # 3141</td><td>22</td><td>22</td><td>30</td><td>1</td><td>0</td></tr><tr><td>ODI # 3143</td><td>7</td><td>7</td><td>8</td><td>1</td><td>0</td></tr><tr><td>ODI # 3147</td><td>25</td><td>25</td><td>42</td><td>2</td><td>0</td></tr><tr><td>ODI # 3148</td><td>91*</td><td>91</td><td>79</td><td>8</td><td>2</td></tr><tr><td>ODI # 3186</td><td>33</td><td>33</td><td>36</td><td>2</td><td>0</td></tr><tr><td>ODI # 3187</td><td>6</td><td>6</td><td>5</td><td>1</td><td>0</td></tr><tr><td>ODI # 3189</td><td>69</td><td>69</td><td>103</td><td>5</td><td>0</td></tr><tr><td>ODI # 3191</td><td>78*</td><td>78</td><td>71</td><td>6</td><td>3</td></tr><tr><td>ODI # 3195</td><td>50*</td><td>50</td><td>26</td><td>5</td><td>2</td></tr><tr><td>ODI # 3199</td><td>87*</td><td>87</td><td>70</td><td>10</td><td>1</td></tr><tr><td>ODI # 3201</td><td>DNB</td><td>-</td><td>-</td><td>-</td><td>-</td></tr><tr><td>ODI # 3205</td><td>35*</td><td>35</td><td>31</td><td>3</td><td>0</td></tr><tr><td>ODI # 3207</td><td>15*</td><td>15</td><td>18</td><td>1</td><td>1</td></tr><tr><td>ODI # 3210</td><td>75*</td><td>75</td><td>69</td><td>3</td><td>4</td></tr><tr><td>ODI # 3231</td><td>29</td><td>29</td><td>38</td><td>1</td><td>0</td></tr><tr><td>ODI # 3233</td><td>4</td><td>4</td><td>5</td><td>1</td><td>0</td></tr><tr><td>ODI # 3237</td><td>44*</td><td>44</td><td>58</td><td>0</td><td>1</td></tr><tr><td>ODI # 3239</td><td>58*</td><td>58</td><td>69</td><td>3</td><td>1</td></tr><tr><td>ODI # 3244</td><td>56</td><td>56</td><td>84</td><td>2</td><td>1</td></tr><tr><td>ODI # 3250</td><td>14</td><td>14</td><td>49</td><td>0</td><td>0</td></tr><tr><td>ODI # 3251</td><td>DNB</td><td>-</td><td>-</td><td>-</td><td>-</td></tr><tr><td>ODI # 3259</td><td>46*</td><td>46</td><td>26</td><td>6</td><td>1</td></tr><tr><td>ODI # 3261</td><td>21*</td><td>21</td><td>11</td><td>2</td><td>0</td></tr><tr><td>ODI # 3263</td><td>4*</td><td>4</td><td>1</td><td>1</td><td>0</td></tr><tr><td>ODI # 3291</td><td>35</td><td>35</td><td>29</td><td>3</td><td>1</td></tr><tr><td>ODI # 3292</td><td>11</td><td>11</td><td>16</td><td>2</td><td>0</td></tr><tr><td>ODI # 3293</td><td>31</td><td>31</td><td>49</td><td>1</td><td>0</td></tr><tr><td>ODI # 3294</td><td>DNB</td><td>-</td><td>-</td><td>-</td><td>-</td></tr><tr><td>ODI # 3295</td><td>58</td><td>58</td><td>38</td><td>8</td><td>1</td></tr><tr><td>ODI # 3314</td><td>113*</td><td>113</td><td>125</td><td>7</td><td>3</td></tr><tr><td>ODI # 3315</td><td>54*</td><td>54</td><td>89</td><td>4</td><td>1</td></tr><tr><td>ODI # 3316</td><td>36</td><td>36</td><td>55</td><td>1</td><td>3</td></tr><tr><td>ODI # 3318</td><td>32</td><td>32</td><td>25</td><td>0</td><td>4</td></tr><tr><td>ODI # 3320</td><td>72</td><td>72</td><td>66</td><td>7</td><td>2</td></tr><tr><td>ODI # 3322</td><td>10*</td><td>10</td><td>12</td><td>2</td><td>0</td></tr><tr><td>ODI # 3327</td><td>19</td><td>19</td><td>21</td><td>2</td><td>0</td></tr><tr><td>ODI # 3329</td><td>15</td><td>15</td><td>23</td><td>2</td><td>0</td></tr><tr><td>ODI # 3363</td><td>27</td><td>27</td><td>26</td><td>3</td><td>0</td></tr><tr><td>ODI # 3368</td><td>DNB</td><td>-</td><td>-</td><td>-</td><td>-</td></tr><tr><td>ODI # 3372</td><td>DNB</td><td>-</td><td>-</td><td>-</td><td>-</td></tr><tr><td>ODI # 3376</td><td>DNB</td><td>-</td><td>-</td><td>-</td><td>-</td></tr><tr><td>ODI # 3377</td><td>0</td><td>0</td><td>4</td><td>0</td><td>0</td></tr><tr><td>ODI # 3380</td><td>27</td><td>27</td><td>35</td><td>1</td><td>0</td></tr><tr><td>ODI # 3388</td><td>45*</td><td>45</td><td>52</td><td>5</td><td>2</td></tr><tr><td>ODI # 3419</td><td>19</td><td>19</td><td>22</td><td>2</td><td>0</td></tr><tr><td>ODI # 3420</td><td>DNB</td><td>-</td><td>-</td><td>-</td><td>-</td></tr><tr><td>ODI # 3421</td><td>139*</td><td>139</td><td>121</td><td>12</td><td>5</td></tr><tr><td>ODI # 3422</td><td>DNB</td><td>-</td><td>-</td><td>-</td><td>-</td></tr><tr><td>ODI # 3424</td><td>25*</td><td>25</td><td>23</td><td>2</td><td>0</td></tr><tr><td>ODI # 3428</td><td>62</td><td>62</td><td>38</td><td>7</td><td>2</td></tr><tr><td>ODI # 3436</td><td>13*</td><td>13</td><td>7</td><td>3</td><td>0</td></tr><tr><td>ODI # 3437</td><td>51*</td><td>51</td><td>40</td><td>3</td><td>4</td></tr><tr><td>ODI # 3439</td><td>23*</td><td>23</td><td>23</td><td>3</td><td>0</td></tr><tr><td>ODI # 3442</td><td>65</td><td>65</td><td>71</td><td>8</td><td>1</td></tr><tr><td>ODI # 3443</td><td>19</td><td>19</td><td>31</td><td>0</td><td>0</td></tr><tr><td>ODI # 3444</td><td>TDNB</td><td>-</td><td>-</td><td>-</td><td>-</td></tr><tr><td>ODI # 3456</td><td>40</td><td>40</td><td>46</td><td>2</td><td>2</td></tr><tr><td>ODI # 3458</td><td>56</td><td>56</td><td>44</td><td>7</td><td>1</td></tr><tr><td>ODI # 3462</td><td>50</td><td>50</td><td>60</td><td>2</td><td>3</td></tr><tr><td>ODI # 3465</td><td>79*</td><td>79</td><td>73</td><td>6</td><td>3</td></tr><tr><td>ODI # 3467</td><td>47</td><td>47</td><td>72</td><td>3</td><td>0</td></tr><tr><td>ODI # 3517</td><td>52</td><td>52</td><td>51</td><td>6</td><td>0</td></tr><tr><td>ODI # 3520</td><td>DNB</td><td>-</td><td>-</td><td>-</td><td>-</td></tr><tr><td>ODI # 3523</td><td>DNB</td><td>-</td><td>-</td><td>-</td><td>-</td></tr><tr><td>ODI # 3525</td><td>29</td><td>29</td><td>42</td><td>1</td><td>1</td></tr><tr><td>ODI # 3531</td><td>8</td><td>8</td><td>21</td><td>0</td><td>0</td></tr><tr><td>ODI # 3533</td><td>51*</td><td>51</td><td>40</td><td>5</td><td>1</td></tr><tr><td>ODI # 3535</td><td>6</td><td>6</td><td>5</td><td>0</td><td>0</td></tr><tr><td>ODI # 3582</td><td>19</td><td>19</td><td>31</td><td>2</td><td>0</td></tr><tr><td>ODI # 3586</td><td>34</td><td>34</td><td>61</td><td>1</td><td>0</td></tr><tr><td>ODI # 3592</td><td>DNB</td><td>-</td><td>-</td><td>-</td><td>-</td></tr><tr><td>ODI # 3595</td><td>17</td><td>17</td><td>32</td><td>3</td><td>0</td></tr><tr><td>ODI # 3602</td><td>18</td><td>18</td><td>13</td><td>1</td><td>1</td></tr><tr><td>ODI # 3610</td><td>18</td><td>18</td><td>11</td><td>3</td><td>0</td></tr><tr><td>ODI # 3618</td><td>DNB</td><td>-</td><td>-</td><td>-</td><td>-</td></tr><tr><td>ODI # 3625</td><td>45*</td><td>45</td><td>56</td><td>3</td><td>1</td></tr><tr><td>ODI # 3631</td><td>DNB</td><td>-</td><td>-</td><td>-</td><td>-</td></tr><tr><td>ODI # 3636</td><td>85*</td><td>85</td><td>76</td><td>8</td><td>2</td></tr><tr><td>ODI # 3641</td><td>6</td><td>6</td><td>11</td><td>0</td><td>0</td></tr><tr><td>ODI # 3645</td><td>65</td><td>65</td><td>65</td><td>3</td><td>2</td></tr><tr><td>ODI # 3658</td><td>5</td><td>5</td><td>7</td><td>0</td><td>0</td></tr><tr><td>ODI # 3660</td><td>47</td><td>47</td><td>75</td><td>3</td><td>0</td></tr><tr><td>ODI # 3661</td><td>69</td><td>69</td><td>77</td><td>6</td><td>1</td></tr><tr><td>ODI # 3689</td><td>31</td><td>31</td><td>30</td><td>1</td><td>0</td></tr><tr><td>ODI # 3692</td><td>92*</td><td>92</td><td>86</td><td>7</td><td>4</td></tr><tr><td>ODI # 3695</td><td>47</td><td>47</td><td>61</td><td>5</td><td>0</td></tr><tr><td>ODI # 3698</td><td>15</td><td>15</td><td>16</td><td>1</td><td>0</td></tr><tr><td>ODI # 3700</td><td>27</td><td>27</td><td>29</td><td>3</td><td>0</td></tr><tr><td>ODI # 3723</td><td>18</td><td>18</td><td>13</td><td>1</td><td>1</td></tr><tr><td>ODI # 3724</td><td>11</td><td>11</td><td>10</td><td>0</td><td>0</td></tr><tr><td>ODI # 3725</td><td>23</td><td>23</td><td>9</td><td>2</td><td>2</td></tr><tr><td>ODI # 3726</td><td>0</td><td>0</td><td>3</td><td>0</td><td>0</td></tr><tr><td>ODI # 3727</td><td>34</td><td>34</td><td>42</td><td>1</td><td>1</td></tr><tr><td>ODI # 3742</td><td>DNB</td><td>-</td><td>-</td><td>-</td><td>-</td></tr><tr><td>ODI # 3744</td><td>DNB</td><td>-</td><td>-</td><td>-</td><td>-</td></tr><tr><td>ODI # 3746</td><td>DNB</td><td>-</td><td>-</td><td>-</td><td>-</td></tr><tr><td>ODI # 3796</td><td>21</td><td>21</td><td>24</td><td>1</td><td>1</td></tr><tr><td>ODI # 3797</td><td>39</td><td>39</td><td>65</td><td>3</td><td>0</td></tr><tr><td>ODI # 3798</td><td>80</td><td>80</td><td>91</td><td>6</td><td>3</td></tr><tr><td>ODI # 3799</td><td>11</td><td>11</td><td>31</td><td>0</td><td>0</td></tr><tr><td>ODI # 3800</td><td>41</td><td>41</td><td>59</td><td>4</td><td>1</td></tr><tr><td>ODI # 3819</td><td>6</td><td>6</td><td>6</td><td>1</td><td>0</td></tr><tr><td>ODI # 3821</td><td>134</td><td>134</td><td>122</td><td>10</td><td>6</td></tr><tr><td>ODI # 3824</td><td>25</td><td>25</td><td>36</td><td>1</td><td>1</td></tr><tr><td>ODI # 3878</td><td>DNB</td><td>-</td><td>-</td><td>-</td><td>-</td></tr><tr><td>ODI # 3882</td><td>63</td><td>63</td><td>52</td><td>7</td><td>2</td></tr><tr><td>ODI # 3886</td><td>DNB</td><td>-</td><td>-</td><td>-</td><td>-</td></tr><tr><td>ODI # 3891</td><td>DNB</td><td>-</td><td>-</td><td>-</td><td>-</td></tr><tr><td>ODI # 3894</td><td>4</td><td>4</td><td>16</td><td>0</td><td>0</td></tr><tr><td>ODI # 3895</td><td>9*</td><td>9</td><td>9</td><td>1</td><td>0</td></tr><tr><td>ODI # 3896</td><td>13*</td><td>13</td><td>13</td><td>1</td><td>0</td></tr><tr><td>ODI # 3898</td><td>78*</td><td>78</td><td>79</td><td>4</td><td>2</td></tr><tr><td>ODI # 3900</td><td>54</td><td>54</td><td>114</td><td>1</td><td>0</td></tr><tr><td>ODI # 3902</td><td>DNB</td><td>-</td><td>-</td><td>-</td><td>-</td></tr><tr><td>ODI # 3905</td><td>DNB</td><td>-</td><td>-</td><td>-</td><td>-</td></tr><tr><td>ODI # 3906</td><td>45*</td><td>45</td><td>68</td><td>1</td><td>0</td></tr><tr><td>ODI # 3907</td><td>67*</td><td>67</td><td>86</td><td>4</td><td>1</td></tr><tr><td>ODI # 3908</td><td>49*</td><td>49</td><td>42</td><td>5</td><td>1</td></tr><tr><td>ODI # 3909</td><td>1*</td><td>1</td><td>1</td><td>0</td><td>0</td></tr><tr><td>ODI # 3910</td><td>79</td><td>79</td><td>88</td><td>4</td><td>2</td></tr><tr><td>ODI # 3912</td><td>5</td><td>5</td><td>10</td><td>1</td><td>0</td></tr><tr><td>ODI # 3914</td><td>3*</td><td>3</td><td>6</td><td>0</td><td>0</td></tr><tr><td>ODI # 3917</td><td>13</td><td>13</td><td>10</td><td>1</td><td>1</td></tr><tr><td>ODI # 3919</td><td>DNB</td><td>-</td><td>-</td><td>-</td><td>-</td></tr><tr><td>ODI # 3928</td><td>25</td><td>25</td><td>42</td><td>2</td><td>0</td></tr><tr><td>ODI # 3931</td><td>18*</td><td>18</td><td>21</td><td>3</td><td>0</td></tr><tr><td>ODI # 3932</td><td>25</td><td>25</td><td>17</td><td>3</td><td>0</td></tr><tr><td>ODI # 3939</td><td>65</td><td>65</td><td>87</td><td>10</td><td>2</td></tr><tr><td>ODI # 3941</td><td>7</td><td>7</td><td>5</td><td>0</td><td>1</td></tr><tr><td>ODI # 3942</td><td>DNB</td><td>-</td><td>-</td><td>-</td><td>-</td></tr><tr><td>ODI # 3969</td><td>4*</td><td>4</td><td>3</td><td>1</td><td>0</td></tr><tr><td>ODI # 3970</td><td>DNB</td><td>-</td><td>-</td><td>-</td><td>-</td></tr><tr><td>ODI # 3971</td><td>10</td><td>10</td><td>22</td><td>0</td><td>0</td></tr><tr><td>ODI # 3973</td><td>42*</td><td>42</td><td>43</td><td>3</td><td>1</td></tr><tr><td>ODI # 3976</td><td>13</td><td>13</td><td>17</td><td>1</td><td>0</td></tr><tr><td>ODI # 3978</td><td>DNB</td><td>-</td><td>-</td><td>-</td><td>-</td></tr><tr><td>ODI # 4014</td><td>DNB</td><td>-</td><td>-</td><td>-</td><td>-</td></tr><tr><td>ODI # 4016</td><td>37</td><td>37</td><td>59</td><td>2</td><td>0</td></tr><tr><td>ODI # 4018</td><td>42</td><td>42</td><td>66</td><td>4</td><td>0</td></tr><tr><td>ODI # 4039</td><td>0</td><td>0</td><td>3</td><td>0</td><td>0</td></tr><tr><td>ODI # 4040</td><td>DNB</td><td>-</td><td>-</td><td>-</td><td>-</td></tr><tr><td>ODI # 4042</td><td>33</td><td>33</td><td>37</td><td>3</td><td>0</td></tr><tr><td>ODI # 4044</td><td>DNB</td><td>-</td><td>-</td><td>-</td><td>-</td></tr><tr><td>ODI # 4046</td><td>8</td><td>8</td><td>17</td><td>0</td><td>0</td></tr><tr><td>ODI # 4048</td><td>36</td><td>36</td><td>67</td><td>3</td><td>0</td></tr><tr><td>ODI # 4056</td><td>DNB</td><td>-</td><td>-</td><td>-</td><td>-</td></tr><tr><td>ODI # 4059</td><td>20</td><td>20</td><td>25</td><td>0</td><td>1</td></tr><tr><td>ODI # 4062</td><td>7</td><td>7</td><td>11</td><td>0</td><td>0</td></tr><tr><td>ODI # 4063</td><td>23</td><td>23</td><td>15</td><td>2</td><td>0</td></tr><tr><td>ODI # 4064</td><td>DNB</td><td>-</td><td>-</td><td>-</td><td>-</td></tr><tr><td>ODI # 4077</td><td>51</td><td>51</td><td>96</td><td>3</td><td>1</td></tr><tr><td>ODI # 4078</td><td>55*</td><td>55</td><td>54</td><td>0</td><td>2</td></tr><tr><td>ODI # 4079</td><td>87*</td><td>87</td><td>114</td><td>6</td><td>0</td></tr><tr><td>ODI # 4082</td><td>DNB</td><td>-</td><td>-</td><td>-</td><td>-</td></tr><tr><td>ODI # 4085</td><td>48*</td><td>48</td><td>33</td><td>5</td><td>1</td></tr><tr><td>ODI # 4092</td><td>1</td><td>1</td><td>6</td><td>0</td><td>0</td></tr><tr><td>ODI # 4102</td><td>59*</td><td>59</td><td>72</td><td>6</td><td>1</td></tr><tr><td>ODI # 4106</td><td>0</td><td>0</td><td>1</td><td>0</td><td>0</td></tr><tr><td>ODI # 4109</td><td>26</td><td>26</td><td>42</td><td>2</td><td>1</td></tr><tr><td>ODI # 4150</td><td>34</td><td>34</td><td>46</td><td>2</td><td>0</td></tr><tr><td>ODI # 4155</td><td>27</td><td>27</td><td>14</td><td>3</td><td>1</td></tr><tr><td>ODI # 4161</td><td>1</td><td>1</td><td>2</td><td>0</td><td>0</td></tr><tr><td>ODI # 4169</td><td>28</td><td>28</td><td>52</td><td>3</td><td>0</td></tr><tr><td>ODI # 4175</td><td>56*</td><td>56</td><td>61</td><td>3</td><td>2</td></tr><tr><td>ODI # 4179</td><td>42*</td><td>42</td><td>31</td><td>4</td><td>1</td></tr><tr><td>ODI # 4182</td><td>35</td><td>35</td><td>33</td><td>4</td><td>0</td></tr><tr><td>ODI # 4187</td><td>DNB</td><td>-</td><td>-</td><td>-</td><td>-</td></tr><tr><td>ODI # 4190</td><td>50</td><td>50</td><td>72</td><td>1</td><td>1</td></tr></tbody></table></div>"
      ]
     },
     "metadata": {
      "application/vnd.databricks.v1+output": {
       "addedWidgets": {},
       "aggData": [],
       "aggError": "",
       "aggOverflow": false,
       "aggSchema": [],
       "aggSeriesLimitReached": false,
       "aggType": "",
       "arguments": {},
       "columnCustomDisplayInfos": {},
       "data": [
        [
         "ODI # 2199",
         "0",
         "0",
         "1",
         "0",
         "0"
        ],
        [
         "ODI # 2201",
         "12",
         "12",
         "11",
         "2",
         "0"
        ],
        [
         "ODI # 2202",
         "7*",
         "7",
         "2",
         "0",
         "1"
        ],
        [
         "ODI # 2235",
         "3",
         "3",
         "7",
         "0",
         "0"
        ],
        [
         "ODI # 2236",
         "148",
         "148",
         "123",
         "15",
         "4"
        ],
        [
         "ODI # 2237",
         "28",
         "28",
         "24",
         "5",
         "0"
        ],
        [
         "ODI # 2238",
         "47",
         "47",
         "64",
         "4",
         "1"
        ],
        [
         "ODI # 2239",
         "11",
         "11",
         "16",
         "1",
         "0"
        ],
        [
         "ODI # 2240",
         "24",
         "24",
         "38",
         "2",
         "0"
        ],
        [
         "ODI # 2262",
         "2",
         "2",
         "7",
         "0",
         "0"
        ],
        [
         "ODI # 2263",
         "15*",
         "15",
         "11",
         "1",
         "1"
        ],
        [
         "ODI # 2265",
         "20",
         "20",
         "27",
         "1",
         "0"
        ],
        [
         "ODI # 2267",
         "28*",
         "28",
         "13",
         "1",
         "2"
        ],
        [
         "ODI # 2268",
         "7",
         "7",
         "11",
         "0",
         "0"
        ],
        [
         "ODI # 2273",
         "2",
         "2",
         "5",
         "0",
         "0"
        ],
        [
         "ODI # 2274",
         "56",
         "56",
         "46",
         "2",
         "4"
        ],
        [
         "ODI # 2278",
         "37*",
         "37",
         "27",
         "3",
         "2"
        ],
        [
         "ODI # 2280",
         "67*",
         "67",
         "63",
         "1",
         "3"
        ],
        [
         "ODI # 2281",
         "11",
         "11",
         "16",
         "1",
         "0"
        ],
        [
         "ODI # 2286",
         "38",
         "38",
         "28",
         "3",
         "2"
        ],
        [
         "ODI # 2287",
         "DNB",
         "-",
         "-",
         "-",
         "-"
        ],
        [
         "ODI # 2290",
         "183*",
         "183",
         "145",
         "15",
         "10"
        ],
        [
         "ODI # 2291",
         "45*",
         "45",
         "43",
         "1",
         "2"
        ],
        [
         "ODI # 2294",
         "0",
         "0",
         "1",
         "0",
         "0"
        ],
        [
         "ODI # 2295",
         "DNB",
         "-",
         "-",
         "-",
         "-"
        ],
        [
         "ODI # 2296",
         "80",
         "80",
         "73",
         "9",
         "3"
        ],
        [
         "ODI # 2297",
         "17",
         "17",
         "28",
         "1",
         "0"
        ],
        [
         "ODI # 2298",
         "DNB",
         "-",
         "-",
         "-",
         "-"
        ],
        [
         "ODI # 2299",
         "14",
         "14",
         "26",
         "0",
         "0"
        ],
        [
         "ODI # 2300",
         "12",
         "12",
         "26",
         "1",
         "0"
        ],
        [
         "ODI # 2324",
         "68",
         "68",
         "53",
         "11",
         "1"
        ],
        [
         "ODI # 2327",
         "DNB",
         "-",
         "-",
         "-",
         "-"
        ],
        [
         "ODI # 2329",
         "72*",
         "72",
         "46",
         "13",
         "0"
        ],
        [
         "ODI # 2331",
         "2*",
         "2",
         "5",
         "0",
         "0"
        ],
        [
         "ODI # 2333",
         "77*",
         "77",
         "56",
         "6",
         "4"
        ],
        [
         "ODI # 2357",
         "20",
         "20",
         "28",
         "2",
         "0"
        ],
        [
         "ODI # 2358",
         "38",
         "38",
         "55",
         "2",
         "0"
        ],
        [
         "ODI # 2359",
         "13*",
         "13",
         "6",
         "1",
         "1"
        ],
        [
         "ODI # 2360",
         "10*",
         "10",
         "13",
         "1",
         "0"
        ],
        [
         "ODI # 2361",
         "96",
         "96",
         "106",
         "10",
         "3"
        ],
        [
         "ODI # 2363",
         "3",
         "3",
         "10",
         "0",
         "0"
        ],
        [
         "ODI # 2364",
         "59",
         "59",
         "72",
         "5",
         "0"
        ],
        [
         "ODI # 2377",
         "18",
         "18",
         "11",
         "2",
         "1"
        ],
        [
         "ODI # 2379",
         "2",
         "2",
         "7",
         "0",
         "0"
        ],
        [
         "ODI # 2380",
         "15",
         "15",
         "26",
         "1",
         "0"
        ],
        [
         "ODI # 2381",
         "46*",
         "46",
         "58",
         "6",
         "0"
        ],
        [
         "ODI # 2382",
         "14",
         "14",
         "19",
         "2",
         "0"
        ],
        [
         "ODI # 2405",
         "DNB",
         "-",
         "-",
         "-",
         "-"
        ],
        [
         "ODI # 2414",
         "2",
         "2",
         "10",
         "0",
         "0"
        ],
        [
         "ODI # 2416",
         "DNB",
         "-",
         "-",
         "-",
         "-"
        ],
        [
         "ODI # 2419",
         "18",
         "18",
         "13",
         "4",
         "0"
        ],
        [
         "ODI # 2421",
         "23",
         "23",
         "34",
         "0",
         "1"
        ],
        [
         "ODI # 2429",
         "7",
         "7",
         "22",
         "0",
         "0"
        ],
        [
         "ODI # 2437",
         "51",
         "51",
         "65",
         "1",
         "2"
        ],
        [
         "ODI # 2440",
         "28",
         "28",
         "23",
         "2",
         "0"
        ],
        [
         "ODI # 2447",
         "14",
         "14",
         "27",
         "3",
         "0"
        ],
        [
         "ODI # 2449",
         "55",
         "55",
         "48",
         "3",
         "4"
        ],
        [
         "ODI # 2452",
         "26",
         "26",
         "21",
         "4",
         "1"
        ],
        [
         "ODI # 2458",
         "44",
         "44",
         "49",
         "2",
         "2"
        ],
        [
         "ODI # 2480",
         "62*",
         "62",
         "42",
         "3",
         "4"
        ],
        [
         "ODI # 2485",
         "6",
         "6",
         "19",
         "0",
         "0"
        ],
        [
         "ODI # 2493",
         "40*",
         "40",
         "20",
         "1",
         "3"
        ],
        [
         "ODI # 2514",
         "TDNB",
         "-",
         "-",
         "-",
         "-"
        ],
        [
         "ODI # 2520",
         "48",
         "48",
         "68",
         "1",
         "0"
        ],
        [
         "ODI # 2522",
         "67*",
         "67",
         "74",
         "4",
         "0"
        ],
        [
         "ODI # 2525",
         "DNB",
         "-",
         "-",
         "-",
         "-"
        ],
        [
         "ODI # 2538",
         "0",
         "0",
         "3",
         "0",
         "0"
        ],
        [
         "ODI # 2542",
         "29",
         "29",
         "25",
         "2",
         "1"
        ],
        [
         "ODI # 2550",
         "0",
         "0",
         "1",
         "0",
         "0"
        ],
        [
         "ODI # 2582",
         "91*",
         "91",
         "106",
         "7",
         "0"
        ],
        [
         "ODI # 2583",
         "36",
         "36",
         "54",
         "4",
         "0"
        ],
        [
         "ODI # 2587",
         "2",
         "2",
         "4",
         "0",
         "0"
        ],
        [
         "ODI # 2588",
         "33",
         "33",
         "38",
         "2",
         "2"
        ],
        [
         "ODI # 2589",
         "139*",
         "139",
         "97",
         "15",
         "5"
        ],
        [
         "ODI # 2593",
         "0",
         "0",
         "4",
         "0",
         "0"
        ],
        [
         "ODI # 2595",
         "14*",
         "14",
         "11",
         "2",
         "0"
        ],
        [
         "ODI # 2608",
         "DNB",
         "-",
         "-",
         "-",
         "-"
        ],
        [
         "ODI # 2611",
         "19",
         "19",
         "60",
         "1",
         "0"
        ],
        [
         "ODI # 2613",
         "21",
         "21",
         "18",
         "3",
         "0"
        ],
        [
         "ODI # 2616",
         "13",
         "13",
         "20",
         "0",
         "0"
        ],
        [
         "ODI # 2617",
         "13",
         "13",
         "18",
         "1",
         "0"
        ],
        [
         "ODI # 2618",
         "24",
         "24",
         "17",
         "3",
         "0"
        ],
        [
         "ODI # 2619",
         "35",
         "35",
         "37",
         "3",
         "0"
        ],
        [
         "ODI # 2620",
         "50",
         "50",
         "72",
         "4",
         "1"
        ],
        [
         "ODI # 2621",
         "DNB",
         "-",
         "-",
         "-",
         "-"
        ],
        [
         "ODI # 2623",
         "58",
         "58",
         "88",
         "2",
         "2"
        ],
        [
         "ODI # 2625",
         "33",
         "33",
         "37",
         "4",
         "0"
        ],
        [
         "ODI # 2627",
         "50*",
         "50",
         "35",
         "5",
         "1"
        ],
        [
         "ODI # 2629",
         "4",
         "4",
         "7",
         "1",
         "0"
        ],
        [
         "ODI # 2631",
         "26",
         "26",
         "29",
         "2",
         "1"
        ],
        [
         "ODI # 2632",
         "5",
         "5",
         "11",
         "1",
         "0"
        ],
        [
         "ODI # 2643",
         "63",
         "63",
         "77",
         "8",
         "0"
        ],
        [
         "ODI # 2644",
         "4",
         "4",
         "10",
         "0",
         "0"
        ],
        [
         "ODI # 2645",
         "49",
         "49",
         "52",
         "4",
         "2"
        ],
        [
         "ODI # 2646",
         "45*",
         "45",
         "45",
         "3",
         "1"
        ],
        [
         "ODI # 2647",
         "24",
         "24",
         "32",
         "1",
         "0"
        ],
        [
         "ODI # 2670",
         "37",
         "37",
         "61",
         "1",
         "0"
        ],
        [
         "ODI # 2672",
         "88*",
         "88",
         "95",
         "5",
         "1"
        ],
        [
         "ODI # 2675",
         "17*",
         "17",
         "54",
         "0",
         "0"
        ],
        [
         "ODI # 2676",
         "31",
         "31",
         "26",
         "3",
         "0"
        ],
        [
         "ODI # 2680",
         "37",
         "37",
         "50",
         "1",
         "0"
        ],
        [
         "ODI # 2681",
         "50*",
         "50",
         "68",
         "0",
         "0"
        ],
        [
         "ODI # 2685",
         "36",
         "36",
         "66",
         "4",
         "0"
        ],
        [
         "ODI # 2686",
         "DNB",
         "-",
         "-",
         "-",
         "-"
        ],
        [
         "ODI # 2688",
         "15*",
         "15",
         "12",
         "3",
         "0"
        ],
        [
         "ODI # 2689",
         "36",
         "36",
         "37",
         "2",
         "1"
        ],
        [
         "ODI # 2705",
         "24",
         "24",
         "23",
         "5",
         "0"
        ],
        [
         "ODI # 2706",
         "DNB",
         "-",
         "-",
         "-",
         "-"
        ],
        [
         "ODI # 2707",
         "64",
         "64",
         "59",
         "3",
         "2"
        ],
        [
         "ODI # 2716",
         "109*",
         "109",
         "96",
         "6",
         "6"
        ],
        [
         "ODI # 2717",
         "26*",
         "26",
         "30",
         "0",
         "1"
        ],
        [
         "ODI # 2721",
         "DNB",
         "-",
         "-",
         "-",
         "-"
        ],
        [
         "ODI # 2730",
         "76",
         "76",
         "96",
         "4",
         "0"
        ],
        [
         "ODI # 2732",
         "67",
         "67",
         "62",
         "5",
         "1"
        ],
        [
         "ODI # 2735",
         "49",
         "49",
         "74",
         "4",
         "0"
        ],
        [
         "ODI # 2742",
         "6",
         "6",
         "28",
         "0",
         "0"
        ],
        [
         "ODI # 2745",
         "39",
         "39",
         "54",
         "3",
         "0"
        ],
        [
         "ODI # 2750",
         "76",
         "76",
         "80",
         "8",
         "0"
        ],
        [
         "ODI # 2755",
         "71",
         "71",
         "80",
         "4",
         "0"
        ],
        [
         "ODI # 2756",
         "1",
         "1",
         "7",
         "0",
         "0"
        ],
        [
         "ODI # 2774",
         "39",
         "39",
         "32",
         "3",
         "1"
        ],
        [
         "ODI # 2777",
         "15",
         "15",
         "26",
         "1",
         "0"
        ],
        [
         "ODI # 2778",
         "29*",
         "29",
         "51",
         "4",
         "0"
        ],
        [
         "ODI # 2781",
         "9",
         "9",
         "5",
         "0",
         "1"
        ],
        [
         "ODI # 2783",
         "50",
         "50",
         "61",
         "5",
         "0"
        ],
        [
         "ODI # 2806",
         "61*",
         "61",
         "65",
         "5",
         "0"
        ],
        [
         "ODI # 2810",
         "23",
         "23",
         "35",
         "0",
         "0"
        ],
        [
         "ODI # 2813",
         "35*",
         "35",
         "45",
         "1",
         "0"
        ],
        [
         "ODI # 2815",
         "94",
         "94",
         "96",
         "4",
         "2"
        ],
        [
         "ODI # 2818",
         "53",
         "53",
         "58",
         "1",
         "2"
        ],
        [
         "ODI # 2821",
         "84*",
         "84",
         "89",
         "6",
         "0"
        ],
        [
         "ODI # 2822",
         "23*",
         "23",
         "19",
         "2",
         "0"
        ],
        [
         "ODI # 2823",
         "68",
         "68",
         "58",
         "5",
         "2"
        ],
        [
         "ODI # 2824",
         "DNB",
         "-",
         "-",
         "-",
         "-"
        ],
        [
         "ODI # 2825",
         "9",
         "9",
         "21",
         "1",
         "0"
        ],
        [
         "ODI # 2852",
         "41",
         "41",
         "46",
         "2",
         "1"
        ],
        [
         "ODI # 2853",
         "95",
         "95",
         "130",
         "6",
         "2"
        ],
        [
         "ODI # 2854",
         "46*",
         "46",
         "34",
         "2",
         "1"
        ],
        [
         "ODI # 2855",
         "TDNB",
         "-",
         "-",
         "-",
         "-"
        ],
        [
         "ODI # 2886",
         "35*",
         "35",
         "65",
         "4",
         "0"
        ],
        [
         "ODI # 2887",
         "8",
         "8",
         "18",
         "0",
         "0"
        ],
        [
         "ODI # 2889",
         "56",
         "56",
         "62",
         "3",
         "0"
        ],
        [
         "ODI # 2898",
         "3",
         "3",
         "9",
         "0",
         "0"
        ],
        [
         "ODI # 2901",
         "TDNB",
         "-",
         "-",
         "-",
         "-"
        ],
        [
         "ODI # 2904",
         "DNB",
         "-",
         "-",
         "-",
         "-"
        ],
        [
         "ODI # 2913",
         "34",
         "34",
         "46",
         "4",
         "0"
        ],
        [
         "ODI # 2915",
         "124",
         "124",
         "107",
         "9",
         "3"
        ],
        [
         "ODI # 2918",
         "71*",
         "71",
         "95",
         "6",
         "0"
        ],
        [
         "ODI # 2919",
         "26",
         "26",
         "46",
         "2",
         "0"
        ],
        [
         "ODI # 2923",
         "6",
         "6",
         "15",
         "0",
         "0"
        ],
        [
         "ODI # 2925",
         "24",
         "24",
         "77",
         "1",
         "0"
        ],
        [
         "ODI # 2932",
         "72",
         "72",
         "53",
         "7",
         "3"
        ],
        [
         "ODI # 2933",
         "107",
         "107",
         "111",
         "8",
         "2"
        ],
        [
         "ODI # 2936",
         "TDNB",
         "-",
         "-",
         "-",
         "-"
        ],
        [
         "ODI # 2938",
         "37",
         "37",
         "70",
         "3",
         "0"
        ],
        [
         "ODI # 2939",
         "101*",
         "101",
         "107",
         "9",
         "0"
        ],
        [
         "ODI # 2941",
         "DNB",
         "-",
         "-",
         "-",
         "-"
        ],
        [
         "ODI # 2942",
         "32",
         "32",
         "35",
         "3",
         "0"
        ],
        [
         "ODI # 2943",
         "14",
         "14",
         "19",
         "3",
         "0"
        ],
        [
         "ODI # 2961",
         "26",
         "26",
         "29",
         "2",
         "0"
        ],
        [
         "ODI # 2962",
         "68*",
         "68",
         "35",
         "7",
         "4"
        ],
        [
         "ODI # 2963",
         "9",
         "9",
         "7",
         "0",
         "1"
        ],
        [
         "ODI # 2993",
         "38*",
         "38",
         "45",
         "3",
         "1"
        ],
        [
         "ODI # 2996",
         "56",
         "56",
         "71",
         "2",
         "1"
        ],
        [
         "ODI # 2999",
         "41",
         "41",
         "53",
         "6",
         "0"
        ],
        [
         "ODI # 3001",
         "38",
         "38",
         "50",
         "2",
         "1"
        ],
        [
         "ODI # 3030",
         "2",
         "2",
         "9",
         "0",
         "0"
        ],
        [
         "ODI # 3032",
         "23*",
         "23",
         "38",
         "2",
         "0"
        ],
        [
         "ODI # 3038",
         "10",
         "10",
         "16",
         "2",
         "0"
        ],
        [
         "ODI # 3039",
         "38",
         "38",
         "75",
         "3",
         "0"
        ],
        [
         "ODI # 3040",
         "67",
         "67",
         "100",
         "5",
         "1"
        ],
        [
         "ODI # 3060",
         "0",
         "0",
         "1",
         "0",
         "0"
        ],
        [
         "ODI # 3079",
         "25",
         "25",
         "35",
         "1",
         "0"
        ],
        [
         "ODI # 3080",
         "38",
         "38",
         "61",
         "1",
         "0"
        ],
        [
         "ODI # 3082",
         "5",
         "5",
         "12",
         "1",
         "0"
        ],
        [
         "ODI # 3084",
         "2",
         "2",
         "8",
         "0",
         "0"
        ],
        [
         "ODI # 3087",
         "5",
         "5",
         "10",
         "1",
         "0"
        ],
        [
         "ODI # 3100",
         "DNB",
         "-",
         "-",
         "-",
         "-"
        ],
        [
         "ODI # 3110",
         "31",
         "31",
         "25",
         "3",
         "1"
        ],
        [
         "ODI # 3121",
         "34",
         "34",
         "50",
         "2",
         "0"
        ],
        [
         "ODI # 3124",
         "19*",
         "19",
         "40",
         "2",
         "0"
        ],
        [
         "ODI # 3128",
         "12*",
         "12",
         "21",
         "0",
         "0"
        ],
        [
         "ODI # 3141",
         "22",
         "22",
         "30",
         "1",
         "0"
        ],
        [
         "ODI # 3143",
         "7",
         "7",
         "8",
         "1",
         "0"
        ],
        [
         "ODI # 3147",
         "25",
         "25",
         "42",
         "2",
         "0"
        ],
        [
         "ODI # 3148",
         "91*",
         "91",
         "79",
         "8",
         "2"
        ],
        [
         "ODI # 3186",
         "33",
         "33",
         "36",
         "2",
         "0"
        ],
        [
         "ODI # 3187",
         "6",
         "6",
         "5",
         "1",
         "0"
        ],
        [
         "ODI # 3189",
         "69",
         "69",
         "103",
         "5",
         "0"
        ],
        [
         "ODI # 3191",
         "78*",
         "78",
         "71",
         "6",
         "3"
        ],
        [
         "ODI # 3195",
         "50*",
         "50",
         "26",
         "5",
         "2"
        ],
        [
         "ODI # 3199",
         "87*",
         "87",
         "70",
         "10",
         "1"
        ],
        [
         "ODI # 3201",
         "DNB",
         "-",
         "-",
         "-",
         "-"
        ],
        [
         "ODI # 3205",
         "35*",
         "35",
         "31",
         "3",
         "0"
        ],
        [
         "ODI # 3207",
         "15*",
         "15",
         "18",
         "1",
         "1"
        ],
        [
         "ODI # 3210",
         "75*",
         "75",
         "69",
         "3",
         "4"
        ],
        [
         "ODI # 3231",
         "29",
         "29",
         "38",
         "1",
         "0"
        ],
        [
         "ODI # 3233",
         "4",
         "4",
         "5",
         "1",
         "0"
        ],
        [
         "ODI # 3237",
         "44*",
         "44",
         "58",
         "0",
         "1"
        ],
        [
         "ODI # 3239",
         "58*",
         "58",
         "69",
         "3",
         "1"
        ],
        [
         "ODI # 3244",
         "56",
         "56",
         "84",
         "2",
         "1"
        ],
        [
         "ODI # 3250",
         "14",
         "14",
         "49",
         "0",
         "0"
        ],
        [
         "ODI # 3251",
         "DNB",
         "-",
         "-",
         "-",
         "-"
        ],
        [
         "ODI # 3259",
         "46*",
         "46",
         "26",
         "6",
         "1"
        ],
        [
         "ODI # 3261",
         "21*",
         "21",
         "11",
         "2",
         "0"
        ],
        [
         "ODI # 3263",
         "4*",
         "4",
         "1",
         "1",
         "0"
        ],
        [
         "ODI # 3291",
         "35",
         "35",
         "29",
         "3",
         "1"
        ],
        [
         "ODI # 3292",
         "11",
         "11",
         "16",
         "2",
         "0"
        ],
        [
         "ODI # 3293",
         "31",
         "31",
         "49",
         "1",
         "0"
        ],
        [
         "ODI # 3294",
         "DNB",
         "-",
         "-",
         "-",
         "-"
        ],
        [
         "ODI # 3295",
         "58",
         "58",
         "38",
         "8",
         "1"
        ],
        [
         "ODI # 3314",
         "113*",
         "113",
         "125",
         "7",
         "3"
        ],
        [
         "ODI # 3315",
         "54*",
         "54",
         "89",
         "4",
         "1"
        ],
        [
         "ODI # 3316",
         "36",
         "36",
         "55",
         "1",
         "3"
        ],
        [
         "ODI # 3318",
         "32",
         "32",
         "25",
         "0",
         "4"
        ],
        [
         "ODI # 3320",
         "72",
         "72",
         "66",
         "7",
         "2"
        ],
        [
         "ODI # 3322",
         "10*",
         "10",
         "12",
         "2",
         "0"
        ],
        [
         "ODI # 3327",
         "19",
         "19",
         "21",
         "2",
         "0"
        ],
        [
         "ODI # 3329",
         "15",
         "15",
         "23",
         "2",
         "0"
        ],
        [
         "ODI # 3363",
         "27",
         "27",
         "26",
         "3",
         "0"
        ],
        [
         "ODI # 3368",
         "DNB",
         "-",
         "-",
         "-",
         "-"
        ],
        [
         "ODI # 3372",
         "DNB",
         "-",
         "-",
         "-",
         "-"
        ],
        [
         "ODI # 3376",
         "DNB",
         "-",
         "-",
         "-",
         "-"
        ],
        [
         "ODI # 3377",
         "0",
         "0",
         "4",
         "0",
         "0"
        ],
        [
         "ODI # 3380",
         "27",
         "27",
         "35",
         "1",
         "0"
        ],
        [
         "ODI # 3388",
         "45*",
         "45",
         "52",
         "5",
         "2"
        ],
        [
         "ODI # 3419",
         "19",
         "19",
         "22",
         "2",
         "0"
        ],
        [
         "ODI # 3420",
         "DNB",
         "-",
         "-",
         "-",
         "-"
        ],
        [
         "ODI # 3421",
         "139*",
         "139",
         "121",
         "12",
         "5"
        ],
        [
         "ODI # 3422",
         "DNB",
         "-",
         "-",
         "-",
         "-"
        ],
        [
         "ODI # 3424",
         "25*",
         "25",
         "23",
         "2",
         "0"
        ],
        [
         "ODI # 3428",
         "62",
         "62",
         "38",
         "7",
         "2"
        ],
        [
         "ODI # 3436",
         "13*",
         "13",
         "7",
         "3",
         "0"
        ],
        [
         "ODI # 3437",
         "51*",
         "51",
         "40",
         "3",
         "4"
        ],
        [
         "ODI # 3439",
         "23*",
         "23",
         "23",
         "3",
         "0"
        ],
        [
         "ODI # 3442",
         "65",
         "65",
         "71",
         "8",
         "1"
        ],
        [
         "ODI # 3443",
         "19",
         "19",
         "31",
         "0",
         "0"
        ],
        [
         "ODI # 3444",
         "TDNB",
         "-",
         "-",
         "-",
         "-"
        ],
        [
         "ODI # 3456",
         "40",
         "40",
         "46",
         "2",
         "2"
        ],
        [
         "ODI # 3458",
         "56",
         "56",
         "44",
         "7",
         "1"
        ],
        [
         "ODI # 3462",
         "50",
         "50",
         "60",
         "2",
         "3"
        ],
        [
         "ODI # 3465",
         "79*",
         "79",
         "73",
         "6",
         "3"
        ],
        [
         "ODI # 3467",
         "47",
         "47",
         "72",
         "3",
         "0"
        ],
        [
         "ODI # 3517",
         "52",
         "52",
         "51",
         "6",
         "0"
        ],
        [
         "ODI # 3520",
         "DNB",
         "-",
         "-",
         "-",
         "-"
        ],
        [
         "ODI # 3523",
         "DNB",
         "-",
         "-",
         "-",
         "-"
        ],
        [
         "ODI # 3525",
         "29",
         "29",
         "42",
         "1",
         "1"
        ],
        [
         "ODI # 3531",
         "8",
         "8",
         "21",
         "0",
         "0"
        ],
        [
         "ODI # 3533",
         "51*",
         "51",
         "40",
         "5",
         "1"
        ],
        [
         "ODI # 3535",
         "6",
         "6",
         "5",
         "0",
         "0"
        ],
        [
         "ODI # 3582",
         "19",
         "19",
         "31",
         "2",
         "0"
        ],
        [
         "ODI # 3586",
         "34",
         "34",
         "61",
         "1",
         "0"
        ],
        [
         "ODI # 3592",
         "DNB",
         "-",
         "-",
         "-",
         "-"
        ],
        [
         "ODI # 3595",
         "17",
         "17",
         "32",
         "3",
         "0"
        ],
        [
         "ODI # 3602",
         "18",
         "18",
         "13",
         "1",
         "1"
        ],
        [
         "ODI # 3610",
         "18",
         "18",
         "11",
         "3",
         "0"
        ],
        [
         "ODI # 3618",
         "DNB",
         "-",
         "-",
         "-",
         "-"
        ],
        [
         "ODI # 3625",
         "45*",
         "45",
         "56",
         "3",
         "1"
        ],
        [
         "ODI # 3631",
         "DNB",
         "-",
         "-",
         "-",
         "-"
        ],
        [
         "ODI # 3636",
         "85*",
         "85",
         "76",
         "8",
         "2"
        ],
        [
         "ODI # 3641",
         "6",
         "6",
         "11",
         "0",
         "0"
        ],
        [
         "ODI # 3645",
         "65",
         "65",
         "65",
         "3",
         "2"
        ],
        [
         "ODI # 3658",
         "5",
         "5",
         "7",
         "0",
         "0"
        ],
        [
         "ODI # 3660",
         "47",
         "47",
         "75",
         "3",
         "0"
        ],
        [
         "ODI # 3661",
         "69",
         "69",
         "77",
         "6",
         "1"
        ],
        [
         "ODI # 3689",
         "31",
         "31",
         "30",
         "1",
         "0"
        ],
        [
         "ODI # 3692",
         "92*",
         "92",
         "86",
         "7",
         "4"
        ],
        [
         "ODI # 3695",
         "47",
         "47",
         "61",
         "5",
         "0"
        ],
        [
         "ODI # 3698",
         "15",
         "15",
         "16",
         "1",
         "0"
        ],
        [
         "ODI # 3700",
         "27",
         "27",
         "29",
         "3",
         "0"
        ],
        [
         "ODI # 3723",
         "18",
         "18",
         "13",
         "1",
         "1"
        ],
        [
         "ODI # 3724",
         "11",
         "11",
         "10",
         "0",
         "0"
        ],
        [
         "ODI # 3725",
         "23",
         "23",
         "9",
         "2",
         "2"
        ],
        [
         "ODI # 3726",
         "0",
         "0",
         "3",
         "0",
         "0"
        ],
        [
         "ODI # 3727",
         "34",
         "34",
         "42",
         "1",
         "1"
        ],
        [
         "ODI # 3742",
         "DNB",
         "-",
         "-",
         "-",
         "-"
        ],
        [
         "ODI # 3744",
         "DNB",
         "-",
         "-",
         "-",
         "-"
        ],
        [
         "ODI # 3746",
         "DNB",
         "-",
         "-",
         "-",
         "-"
        ],
        [
         "ODI # 3796",
         "21",
         "21",
         "24",
         "1",
         "1"
        ],
        [
         "ODI # 3797",
         "39",
         "39",
         "65",
         "3",
         "0"
        ],
        [
         "ODI # 3798",
         "80",
         "80",
         "91",
         "6",
         "3"
        ],
        [
         "ODI # 3799",
         "11",
         "11",
         "31",
         "0",
         "0"
        ],
        [
         "ODI # 3800",
         "41",
         "41",
         "59",
         "4",
         "1"
        ],
        [
         "ODI # 3819",
         "6",
         "6",
         "6",
         "1",
         "0"
        ],
        [
         "ODI # 3821",
         "134",
         "134",
         "122",
         "10",
         "6"
        ],
        [
         "ODI # 3824",
         "25",
         "25",
         "36",
         "1",
         "1"
        ],
        [
         "ODI # 3878",
         "DNB",
         "-",
         "-",
         "-",
         "-"
        ],
        [
         "ODI # 3882",
         "63",
         "63",
         "52",
         "7",
         "2"
        ],
        [
         "ODI # 3886",
         "DNB",
         "-",
         "-",
         "-",
         "-"
        ],
        [
         "ODI # 3891",
         "DNB",
         "-",
         "-",
         "-",
         "-"
        ],
        [
         "ODI # 3894",
         "4",
         "4",
         "16",
         "0",
         "0"
        ],
        [
         "ODI # 3895",
         "9*",
         "9",
         "9",
         "1",
         "0"
        ],
        [
         "ODI # 3896",
         "13*",
         "13",
         "13",
         "1",
         "0"
        ],
        [
         "ODI # 3898",
         "78*",
         "78",
         "79",
         "4",
         "2"
        ],
        [
         "ODI # 3900",
         "54",
         "54",
         "114",
         "1",
         "0"
        ],
        [
         "ODI # 3902",
         "DNB",
         "-",
         "-",
         "-",
         "-"
        ],
        [
         "ODI # 3905",
         "DNB",
         "-",
         "-",
         "-",
         "-"
        ],
        [
         "ODI # 3906",
         "45*",
         "45",
         "68",
         "1",
         "0"
        ],
        [
         "ODI # 3907",
         "67*",
         "67",
         "86",
         "4",
         "1"
        ],
        [
         "ODI # 3908",
         "49*",
         "49",
         "42",
         "5",
         "1"
        ],
        [
         "ODI # 3909",
         "1*",
         "1",
         "1",
         "0",
         "0"
        ],
        [
         "ODI # 3910",
         "79",
         "79",
         "88",
         "4",
         "2"
        ],
        [
         "ODI # 3912",
         "5",
         "5",
         "10",
         "1",
         "0"
        ],
        [
         "ODI # 3914",
         "3*",
         "3",
         "6",
         "0",
         "0"
        ],
        [
         "ODI # 3917",
         "13",
         "13",
         "10",
         "1",
         "1"
        ],
        [
         "ODI # 3919",
         "DNB",
         "-",
         "-",
         "-",
         "-"
        ],
        [
         "ODI # 3928",
         "25",
         "25",
         "42",
         "2",
         "0"
        ],
        [
         "ODI # 3931",
         "18*",
         "18",
         "21",
         "3",
         "0"
        ],
        [
         "ODI # 3932",
         "25",
         "25",
         "17",
         "3",
         "0"
        ],
        [
         "ODI # 3939",
         "65",
         "65",
         "87",
         "10",
         "2"
        ],
        [
         "ODI # 3941",
         "7",
         "7",
         "5",
         "0",
         "1"
        ],
        [
         "ODI # 3942",
         "DNB",
         "-",
         "-",
         "-",
         "-"
        ],
        [
         "ODI # 3969",
         "4*",
         "4",
         "3",
         "1",
         "0"
        ],
        [
         "ODI # 3970",
         "DNB",
         "-",
         "-",
         "-",
         "-"
        ],
        [
         "ODI # 3971",
         "10",
         "10",
         "22",
         "0",
         "0"
        ],
        [
         "ODI # 3973",
         "42*",
         "42",
         "43",
         "3",
         "1"
        ],
        [
         "ODI # 3976",
         "13",
         "13",
         "17",
         "1",
         "0"
        ],
        [
         "ODI # 3978",
         "DNB",
         "-",
         "-",
         "-",
         "-"
        ],
        [
         "ODI # 4014",
         "DNB",
         "-",
         "-",
         "-",
         "-"
        ],
        [
         "ODI # 4016",
         "37",
         "37",
         "59",
         "2",
         "0"
        ],
        [
         "ODI # 4018",
         "42",
         "42",
         "66",
         "4",
         "0"
        ],
        [
         "ODI # 4039",
         "0",
         "0",
         "3",
         "0",
         "0"
        ],
        [
         "ODI # 4040",
         "DNB",
         "-",
         "-",
         "-",
         "-"
        ],
        [
         "ODI # 4042",
         "33",
         "33",
         "37",
         "3",
         "0"
        ],
        [
         "ODI # 4044",
         "DNB",
         "-",
         "-",
         "-",
         "-"
        ],
        [
         "ODI # 4046",
         "8",
         "8",
         "17",
         "0",
         "0"
        ],
        [
         "ODI # 4048",
         "36",
         "36",
         "67",
         "3",
         "0"
        ],
        [
         "ODI # 4056",
         "DNB",
         "-",
         "-",
         "-",
         "-"
        ],
        [
         "ODI # 4059",
         "20",
         "20",
         "25",
         "0",
         "1"
        ],
        [
         "ODI # 4062",
         "7",
         "7",
         "11",
         "0",
         "0"
        ],
        [
         "ODI # 4063",
         "23",
         "23",
         "15",
         "2",
         "0"
        ],
        [
         "ODI # 4064",
         "DNB",
         "-",
         "-",
         "-",
         "-"
        ],
        [
         "ODI # 4077",
         "51",
         "51",
         "96",
         "3",
         "1"
        ],
        [
         "ODI # 4078",
         "55*",
         "55",
         "54",
         "0",
         "2"
        ],
        [
         "ODI # 4079",
         "87*",
         "87",
         "114",
         "6",
         "0"
        ],
        [
         "ODI # 4082",
         "DNB",
         "-",
         "-",
         "-",
         "-"
        ],
        [
         "ODI # 4085",
         "48*",
         "48",
         "33",
         "5",
         "1"
        ],
        [
         "ODI # 4092",
         "1",
         "1",
         "6",
         "0",
         "0"
        ],
        [
         "ODI # 4102",
         "59*",
         "59",
         "72",
         "6",
         "1"
        ],
        [
         "ODI # 4106",
         "0",
         "0",
         "1",
         "0",
         "0"
        ],
        [
         "ODI # 4109",
         "26",
         "26",
         "42",
         "2",
         "1"
        ],
        [
         "ODI # 4150",
         "34",
         "34",
         "46",
         "2",
         "0"
        ],
        [
         "ODI # 4155",
         "27",
         "27",
         "14",
         "3",
         "1"
        ],
        [
         "ODI # 4161",
         "1",
         "1",
         "2",
         "0",
         "0"
        ],
        [
         "ODI # 4169",
         "28",
         "28",
         "52",
         "3",
         "0"
        ],
        [
         "ODI # 4175",
         "56*",
         "56",
         "61",
         "3",
         "2"
        ],
        [
         "ODI # 4179",
         "42*",
         "42",
         "31",
         "4",
         "1"
        ],
        [
         "ODI # 4182",
         "35",
         "35",
         "33",
         "4",
         "0"
        ],
        [
         "ODI # 4187",
         "DNB",
         "-",
         "-",
         "-",
         "-"
        ],
        [
         "ODI # 4190",
         "50",
         "50",
         "72",
         "1",
         "1"
        ]
       ],
       "datasetInfos": [],
       "dbfsResultPath": null,
       "isJsonSchema": true,
       "metadata": {},
       "overflow": false,
       "plotOptions": {
        "customPlotOptions": {},
        "displayType": "table",
        "pivotAggregation": null,
        "pivotColumns": null,
        "xColumns": null,
        "yColumns": null
       },
       "removedWidgets": [],
       "schema": [
        {
         "metadata": "{}",
         "name": "odi_number",
         "type": "\"string\""
        },
        {
         "metadata": "{}",
         "name": "score",
         "type": "\"string\""
        },
        {
         "metadata": "{}",
         "name": "runs_scored",
         "type": "\"string\""
        },
        {
         "metadata": "{}",
         "name": "balls_faced",
         "type": "\"string\""
        },
        {
         "metadata": "{}",
         "name": "fours",
         "type": "\"string\""
        },
        {
         "metadata": "{}",
         "name": "sixes",
         "type": "\"string\""
        }
       ],
       "type": "table"
      }
     },
     "output_type": "display_data"
    }
   ],
   "source": [
    "right_dt=dt.select('odi_number','score','runs_scored','balls_faced','fours','sixes')\n",
    "display(right_dt)"
   ]
  },
  {
   "cell_type": "code",
   "execution_count": 0,
   "metadata": {
    "application/vnd.databricks.v1+cell": {
     "cellMetadata": {},
     "inputWidgets": {},
     "nuid": "8fd9c007-f3e8-4611-902f-80625e733d5d",
     "showTitle": false,
     "title": ""
    }
   },
   "outputs": [],
   "source": [
    "join_dt=left_dt.join(right_dt,left_dt.odi_number==right_dt.odi_number,how='inner')"
   ]
  },
  {
   "cell_type": "code",
   "execution_count": 0,
   "metadata": {
    "application/vnd.databricks.v1+cell": {
     "cellMetadata": {},
     "inputWidgets": {},
     "nuid": "ffd27674-b598-45b5-be58-657eb1a454f8",
     "showTitle": false,
     "title": ""
    }
   },
   "outputs": [
    {
     "data": {
      "text/plain": [
       "Out[58]: 297"
      ]
     },
     "metadata": {
      "application/vnd.databricks.v1+output": {
       "addedWidgets": {},
       "arguments": {},
       "data": "Out[58]: 297",
       "datasetInfos": [],
       "metadata": {},
       "removedWidgets": [],
       "type": "ansi"
      }
     },
     "output_type": "display_data"
    }
   ],
   "source": [
    "join_dt.filter((join_dt.score != 'DNB') & (join_dt.score != 'TDNB')).count()"
   ]
  },
  {
   "cell_type": "code",
   "execution_count": 0,
   "metadata": {
    "application/vnd.databricks.v1+cell": {
     "cellMetadata": {},
     "inputWidgets": {},
     "nuid": "bb873a23-5eb2-4413-9593-8f4d43293036",
     "showTitle": false,
     "title": ""
    }
   },
   "outputs": [],
   "source": []
  },
  {
   "cell_type": "code",
   "execution_count": 0,
   "metadata": {
    "application/vnd.databricks.v1+cell": {
     "cellMetadata": {},
     "inputWidgets": {},
     "nuid": "1bb6d323-5dea-4755-829f-657593493e2e",
     "showTitle": false,
     "title": ""
    }
   },
   "outputs": [],
   "source": []
  },
  {
   "cell_type": "code",
   "execution_count": 0,
   "metadata": {
    "application/vnd.databricks.v1+cell": {
     "cellMetadata": {},
     "inputWidgets": {},
     "nuid": "d0cda2c1-ab41-4ccc-a16b-12ef1a5114db",
     "showTitle": false,
     "title": ""
    }
   },
   "outputs": [],
   "source": []
  },
  {
   "cell_type": "code",
   "execution_count": 0,
   "metadata": {
    "application/vnd.databricks.v1+cell": {
     "cellMetadata": {},
     "inputWidgets": {},
     "nuid": "640eea47-27c2-4fee-8264-ac5abecb521b",
     "showTitle": false,
     "title": ""
    }
   },
   "outputs": [],
   "source": []
  }
 ],
 "metadata": {
  "application/vnd.databricks.v1+notebook": {
   "dashboards": [],
   "language": "python",
   "notebookMetadata": {
    "pythonIndentUnit": 4
   },
   "notebookName": "cricket",
   "notebookOrigID": 4207019292631766,
   "widgets": {}
  },
  "kernelspec": {
   "display_name": "Python 3",
   "language": "python",
   "name": "python3"
  },
  "language_info": {
   "codemirror_mode": {
    "name": "ipython",
    "version": 3
   },
   "file_extension": ".py",
   "mimetype": "text/x-python",
   "name": "python",
   "nbconvert_exporter": "python",
   "pygments_lexer": "ipython3",
   "version": "3.8.5"
  }
 },
 "nbformat": 4,
 "nbformat_minor": 1
}
