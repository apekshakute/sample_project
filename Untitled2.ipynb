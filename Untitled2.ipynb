{
 "cells": [
  {
   "cell_type": "code",
   "execution_count": 35,
   "metadata": {},
   "outputs": [
    {
     "name": "stdout",
     "output_type": "stream",
     "text": [
      "prime 9\n",
      "not prime 9\n"
     ]
    }
   ],
   "source": [
    "val=9\n",
    "for i in range(2,val-1):\n",
    "    if val%i == 0:\n",
    "        break\n",
    "        #print(\"not prime\",val)\n",
    "\n",
    "    else :\n",
    "        print(\"prime\",val)\n",
    "    "
   ]
  },
  {
   "cell_type": "code",
   "execution_count": 51,
   "metadata": {},
   "outputs": [
    {
     "name": "stdout",
     "output_type": "stream",
     "text": [
      "['2', '1', '0']\n"
     ]
    }
   ],
   "source": [
    "val=\"120\"\n",
    "lst=[]\n",
    "for i in val:\n",
    "    lst.append(i)\n",
    "\n",
    "revser_str=sorted(lst,reverse=True))\n",
    "if val == revser_str:\n",
    "    print(\"match\")\n",
    "else:\n",
    "    print(\"not match\")\n",
    "    \n",
    "#\n",
    "val[0:len(val),1]"
   ]
  },
  {
   "cell_type": "code",
   "execution_count": 63,
   "metadata": {},
   "outputs": [
    {
     "data": {
      "text/plain": [
       "'021'"
      ]
     },
     "execution_count": 63,
     "metadata": {},
     "output_type": "execute_result"
    }
   ],
   "source": [
    "val=\"120\"\n",
    "val[::-1]\n",
    "if for "
   ]
  },
  {
   "cell_type": "code",
   "execution_count": 54,
   "metadata": {},
   "outputs": [
    {
     "name": "stdout",
     "output_type": "stream",
     "text": [
      "Enter Number : 5\n",
      "5 is a prime number\n"
     ]
    }
   ],
   "source": [
    "num=int(input(\"Enter Number : \"))\n",
    "for i in range(2,num):\n",
    "    if num%i == 0:\n",
    "        print(num, \"is not a prime number and can be divided by \", i)\n",
    "        break\n",
    "else:\n",
    "    print(num, \"is a prime number\")"
   ]
  },
  {
   "cell_type": "code",
   "execution_count": 58,
   "metadata": {},
   "outputs": [
    {
     "name": "stdout",
     "output_type": "stream",
     "text": [
      "021\n",
      "120is not palindrome\n"
     ]
    }
   ],
   "source": [
    "s=\"120\"\n",
    "s1=s[::-1]\n",
    "print(s1)\n",
    "if (s== s1):\n",
    "    print(s + \" is palindrome\")\n",
    "else:\n",
    "    print(s + \"is not palindrome\")"
   ]
  },
  {
   "cell_type": "code",
   "execution_count": null,
   "metadata": {},
   "outputs": [],
   "source": []
  }
 ],
 "metadata": {
  "kernelspec": {
   "display_name": "Python 3",
   "language": "python",
   "name": "python3"
  },
  "language_info": {
   "codemirror_mode": {
    "name": "ipython",
    "version": 3
   },
   "file_extension": ".py",
   "mimetype": "text/x-python",
   "name": "python",
   "nbconvert_exporter": "python",
   "pygments_lexer": "ipython3",
   "version": "3.8.5"
  }
 },
 "nbformat": 4,
 "nbformat_minor": 4
}
