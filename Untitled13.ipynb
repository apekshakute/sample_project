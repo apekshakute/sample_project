{
 "cells": [
  {
   "cell_type": "code",
   "execution_count": 5,
   "metadata": {},
   "outputs": [
    {
     "name": "stdout",
     "output_type": "stream",
     "text": [
      "not a prime\n"
     ]
    }
   ],
   "source": [
    "input_num=4\n",
    "\n",
    "i=2\n",
    "\n",
    "for i in range(2,input_num):\n",
    "    if (input_num%i == 0):\n",
    "        print(\"not a prime\") \n",
    "        prime_flag=\"true\"\n",
    "        break\n",
    "\n",
    "if () \n",
    "#print (\"prime_num\",input_num)\n",
    "\n"
   ]
  },
  {
   "cell_type": "code",
   "execution_count": 11,
   "metadata": {},
   "outputs": [
    {
     "name": "stdout",
     "output_type": "stream",
     "text": [
      "inpit is not palindrome \n"
     ]
    }
   ],
   "source": [
    "str='aba'\n",
    "#print(str[::-1])\n",
    "revr_str = str[::-1] \n",
    "if (str == revr_str):\n",
    "    print(\"input is  palindrome\")\n",
    "else:\n",
    "    print(\"inpit is not palindrome \")"
   ]
  },
  {
   "cell_type": "code",
   "execution_count": null,
   "metadata": {},
   "outputs": [],
   "source": [
    "*\n",
    "**\n",
    "***\n",
    "****\n",
    "*****"
   ]
  },
  {
   "cell_type": "code",
   "execution_count": null,
   "metadata": {},
   "outputs": [],
   "source": [
    "j=0\n",
    "for i in range(1,5): \n",
    "    for j in range(1,5):\n",
    "        print('*'')"
   ]
  },
  {
   "cell_type": "code",
   "execution_count": null,
   "metadata": {},
   "outputs": [],
   "source": [
    "np"
   ]
  }
 ],
 "metadata": {
  "kernelspec": {
   "display_name": "Python 3",
   "language": "python",
   "name": "python3"
  },
  "language_info": {
   "codemirror_mode": {
    "name": "ipython",
    "version": 3
   },
   "file_extension": ".py",
   "mimetype": "text/x-python",
   "name": "python",
   "nbconvert_exporter": "python",
   "pygments_lexer": "ipython3",
   "version": "3.8.5"
  }
 },
 "nbformat": 4,
 "nbformat_minor": 4
}
