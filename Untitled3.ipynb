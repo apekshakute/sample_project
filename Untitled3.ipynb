{
 "cells": [
  {
   "cell_type": "code",
   "execution_count": 11,
   "metadata": {},
   "outputs": [],
   "source": [
    "lst=[100,80,99,1,20,3,29,4] "
   ]
  },
  {
   "cell_type": "code",
   "execution_count": null,
   "metadata": {},
   "outputs": [],
   "source": []
  },
  {
   "cell_type": "code",
   "execution_count": 12,
   "metadata": {},
   "outputs": [
    {
     "name": "stdout",
     "output_type": "stream",
     "text": [
      "min 1\n",
      "index of min 3\n",
      "mx 100\n",
      "index of mx 0\n"
     ]
    }
   ],
   "source": [
    "minimum=lst[0]\n",
    "mx = lst[0]\n",
    "for i in lst:\n",
    "    if i < minimum:\n",
    "        minimum = i\n",
    "    if i > mx:\n",
    "        mx = i\n",
    "\n",
    "print(f\"min {minimum}\")\n",
    "print (f\"index of min {lst.index(minimum)}\")\n",
    "\n",
    "print(f\"mx {mx}\")\n",
    "print (f\"index of mx {lst.index(mx)}\")"
   ]
  },
  {
   "cell_type": "code",
   "execution_count": 31,
   "metadata": {},
   "outputs": [
    {
     "name": "stdout",
     "output_type": "stream",
     "text": [
      "Collecting word2numberNote: you may need to restart the kernel to use updated packages.\n",
      "\n",
      "  Downloading word2number-1.1.zip (9.7 kB)\n",
      "Building wheels for collected packages: word2number\n",
      "  Building wheel for word2number (setup.py): started\n",
      "  Building wheel for word2number (setup.py): finished with status 'done'\n",
      "  Created wheel for word2number: filename=word2number-1.1-py3-none-any.whl size=5591 sha256=153bfd3395387ff12f1667f93f2d6c62273a8c742e742c70feee92beb2b64a6a\n",
      "  Stored in directory: c:\\users\\akute\\appdata\\local\\pip\\cache\\wheels\\cb\\f3\\5a\\d88198fdeb46781ddd7e7f2653061af83e7adb2a076d8886d6\n",
      "Successfully built word2number\n",
      "Installing collected packages: word2number\n",
      "Successfully installed word2number-1.1\n"
     ]
    }
   ],
   "source": [
    "pip install word2number"
   ]
  },
  {
   "cell_type": "code",
   "execution_count": 34,
   "metadata": {},
   "outputs": [],
   "source": [
    "#clean data \n",
    "\n",
    "student_marks={\"ram\":\"5'9\",\n",
    "              \"sham\":\"twenty nine\",\n",
    "              \"tom\":\"9!0\",\n",
    "             \"manu\":\"6$$$5\"}"
   ]
  },
  {
   "cell_type": "code",
   "execution_count": 35,
   "metadata": {},
   "outputs": [
    {
     "name": "stdout",
     "output_type": "stream",
     "text": [
      "item is ram\n",
      "item is sham\n",
      "item is tom\n",
      "item is manu\n"
     ]
    },
    {
     "data": {
      "text/plain": [
       "dict_values([59, 29, 90, 65])"
      ]
     },
     "execution_count": 35,
     "metadata": {},
     "output_type": "execute_result"
    }
   ],
   "source": [
    "from word2number import w2n\n",
    "for item in student_marks:\n",
    "    print(f\"item is {item}\")\n",
    "    val=student_marks[item]\n",
    "    val=val.replace(\"'\",\"\").replace(\"!\",\"\").replace(\"$\",\"\")\n",
    "    #val=val.replace(\"!\",\"\")\n",
    "    val = w2n.word_to_num(val)\n",
    "    student_marks[item]=val\n",
    "    \n",
    "\n",
    "student_marks.values()"
   ]
  }
 ],
 "metadata": {
  "kernelspec": {
   "display_name": "Python 3",
   "language": "python",
   "name": "python3"
  },
  "language_info": {
   "codemirror_mode": {
    "name": "ipython",
    "version": 3
   },
   "file_extension": ".py",
   "mimetype": "text/x-python",
   "name": "python",
   "nbconvert_exporter": "python",
   "pygments_lexer": "ipython3",
   "version": "3.8.5"
  }
 },
 "nbformat": 4,
 "nbformat_minor": 4
}
