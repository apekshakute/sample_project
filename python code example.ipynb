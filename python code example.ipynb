{
 "cells": [
  {
   "cell_type": "code",
   "execution_count": 8,
   "metadata": {},
   "outputs": [
    {
     "name": "stdout",
     "output_type": "stream",
     "text": [
      "aba\n",
      "aba is palindrome\n"
     ]
    }
   ],
   "source": [
    "str = 'aba'\n",
    "\n",
    "def palindrome(s):\n",
    "    s1=s[::-1]\n",
    "    print(s1)\n",
    "    if (s== s1):\n",
    "        print(s + \" is palindrome\")\n",
    "    else:\n",
    "        print(s + \"is not palindrome\")\n",
    "palindrome('aba')"
   ]
  },
  {
   "cell_type": "code",
   "execution_count": 45,
   "metadata": {},
   "outputs": [
    {
     "name": "stdout",
     "output_type": "stream",
     "text": [
      "abc\n",
      "None\n",
      "[(5, 'abc'), (3, 'ghf'), (8, 'hdj')]\n"
     ]
    }
   ],
   "source": [
    "\n",
    "#sort this based on second element using lambda or sort\n",
    "tup_list = [(5,'abc'), (3,'ghf'), (8, 'hdj')]\n",
    "#print(list[0][1])\n",
    "\n",
    "def sorting(tup_list):\n",
    "    key=lambda x : print(x[1])\n",
    "    print(key(tup_list[0]))\n",
    "    tup_list.sort(key= lambda x : x[1])\n",
    "\n",
    "sorting(tup_list)\n",
    "print(tup_list)"
   ]
  },
  {
   "cell_type": "code",
   "execution_count": 46,
   "metadata": {},
   "outputs": [],
   "source": [
    "#write a program on no.of occurances of a string from a list.\n",
    "#ex: l1 = ['Dilip','Voruganti','kumar','Dilip']\n",
    "#output should be: No. of occurrences of Dilip is : 2, No.of occ of Voruganti is: 1 etc\n",
    "l1 = ['Dilip','Voruganti','kumar','Dilip']"
   ]
  },
  {
   "cell_type": "code",
   "execution_count": 47,
   "metadata": {},
   "outputs": [],
   "source": [
    "l1.sort()"
   ]
  },
  {
   "cell_type": "code",
   "execution_count": 52,
   "metadata": {},
   "outputs": [
    {
     "data": {
      "text/plain": [
       "2"
      ]
     },
     "execution_count": 52,
     "metadata": {},
     "output_type": "execute_result"
    }
   ],
   "source": [
    "l1\n",
    "l1.count('Dilip')"
   ]
  },
  {
   "cell_type": "code",
   "execution_count": 55,
   "metadata": {},
   "outputs": [
    {
     "name": "stdout",
     "output_type": "stream",
     "text": [
      "Dilip   2\n",
      "Dilip   2\n",
      "Voruganti   1\n",
      "kumar   1\n"
     ]
    }
   ],
   "source": [
    "dict1={}\n",
    "for item in l1:\n",
    "    print(item , \" \" , l1.count(item))\n",
    "    dict1[item]=l1.count(item)"
   ]
  },
  {
   "cell_type": "code",
   "execution_count": 56,
   "metadata": {},
   "outputs": [
    {
     "data": {
      "text/plain": [
       "{'Dilip': 2, 'Voruganti': 1, 'kumar': 1}"
      ]
     },
     "execution_count": 56,
     "metadata": {},
     "output_type": "execute_result"
    }
   ],
   "source": [
    "dict1"
   ]
  }
 ],
 "metadata": {
  "kernelspec": {
   "display_name": "Python 3",
   "language": "python",
   "name": "python3"
  },
  "language_info": {
   "codemirror_mode": {
    "name": "ipython",
    "version": 3
   },
   "file_extension": ".py",
   "mimetype": "text/x-python",
   "name": "python",
   "nbconvert_exporter": "python",
   "pygments_lexer": "ipython3",
   "version": "3.8.5"
  }
 },
 "nbformat": 4,
 "nbformat_minor": 4
}
