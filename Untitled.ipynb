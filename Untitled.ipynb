{
 "cells": [
  {
   "cell_type": "code",
   "execution_count": 1,
   "metadata": {},
   "outputs": [
    {
     "name": "stdout",
     "output_type": "stream",
     "text": [
      "5 6\n"
     ]
    }
   ],
   "source": [
    "class X:\n",
    "    def __init__(self):\n",
    "        self.__num1 = 5\n",
    "        self.num2 = 2\n",
    "\n",
    "    def display_values(self):\n",
    "        print(self.__num1, self.num2)\n",
    "class Y(X):\n",
    "    def __init__(self):\n",
    "        super().__init__()\n",
    "        self.__num1 = 1\n",
    "        self.num2 = 6 \n",
    "obj = Y()\n",
    "obj.display_values()\n",
    "\n"
   ]
  },
  {
   "cell_type": "code",
   "execution_count": 5,
   "metadata": {},
   "outputs": [
    {
     "name": "stdout",
     "output_type": "stream",
     "text": [
      "3\n",
      "dict_items([('Key1', 2), ('Key2', 2), ('Key3', 1)])\n"
     ]
    }
   ],
   "source": [
    "main_dict={}\n",
    "def insert_item(item):\n",
    "   if item in main_dict:\n",
    "       main_dict[item] += 1\n",
    "   else:\n",
    "       main_dict[item] = 1\n",
    "#Driver code\n",
    "insert_item('Key1')\n",
    "insert_item('Key2')\n",
    "insert_item('Key2')\n",
    "insert_item('Key3')\n",
    "insert_item('Key1')\n",
    "print (len(main_dict))\n",
    "print(main_dict.items())"
   ]
  },
  {
   "cell_type": "code",
   "execution_count": 7,
   "metadata": {},
   "outputs": [
    {
     "name": "stdout",
     "output_type": "stream",
     "text": [
      "0     2\n",
      "1    18\n",
      "2     2\n",
      "3    13\n",
      "4     8\n",
      "5     4\n",
      "6     4\n",
      "dtype: int32\n"
     ]
    }
   ],
   "source": [
    "import numpy as np\n",
    "import pandas as pd\n",
    "series_data = pd.Series(np.random.randint(1, 20, 7))\n",
    "print(series_data)"
   ]
  },
  {
   "cell_type": "code",
   "execution_count": 9,
   "metadata": {},
   "outputs": [
    {
     "name": "stdout",
     "output_type": "stream",
     "text": [
      "Mr Employee True IB007\n"
     ]
    }
   ],
   "source": [
    "class Human(object):\n",
    "   def __init__(self, name):\n",
    "       self.human_name = name\n",
    "         \n",
    "   def getHumanName(self):\n",
    "       return self.human_name\n",
    "     \n",
    "   def isEmployee(self):\n",
    "       return False\n",
    " \n",
    "class IBEmployee(Human):\n",
    "   def __init__(self, name, emp_id): \n",
    "       super(IBEmployee, self).__init__(name)\n",
    "       self.emp_id = emp_id\n",
    "         \n",
    "   def isEmployee(self):\n",
    "       return True\n",
    "         \n",
    "   def get_emp_id(self):\n",
    "       return self.emp_id\n",
    " \n",
    "# Driver code\n",
    "employee = IBEmployee(\"Mr Employee\", \"IB007\") \n",
    "print(employee.getHumanName(), employee.isEmployee(), employee.get_emp_id())\n",
    "\n"
   ]
  },
  {
   "cell_type": "code",
   "execution_count": 20,
   "metadata": {},
   "outputs": [
    {
     "name": "stdout",
     "output_type": "stream",
     "text": [
      "4\n",
      "8\n",
      "24\n"
     ]
    }
   ],
   "source": [
    "class A(object):\n",
    "   def __init__(self, a):\n",
    "       self.num = a\n",
    "   def mul_two(self):\n",
    "       self.num *= 2\n",
    " \n",
    "class B(A):\n",
    "   def __init__(self, a):\n",
    "        super(B,self).__init__(a)\n",
    "   def mul_three(self):\n",
    "       self.num *= 3\n",
    " \n",
    "obj = B(4)\n",
    "print(obj.num)\n",
    " \n",
    "obj.mul_two()\n",
    "print(obj.num)\n",
    " \n",
    "obj.mul_three()\n",
    "print(obj.num)"
   ]
  },
  {
   "cell_type": "code",
   "execution_count": 21,
   "metadata": {},
   "outputs": [
    {
     "data": {
      "text/plain": [
       "['sa', 'ra', 'an', 'sh']"
      ]
     },
     "execution_count": 21,
     "metadata": {},
     "output_type": "execute_result"
    }
   ],
   "source": [
    "list1 = ['s', 'r', 'a', 's'] \n",
    "list2 = ['a', 'a', 'n', 'h']\n",
    "[\"\".join([i, j]) for i, j in zip(list1, list2)]"
   ]
  },
  {
   "cell_type": "markdown",
   "metadata": {},
   "source": [
    "d1 = {'key1': 50, 'key2': 100, 'key3':200}\n",
    "for key,val in d1.items():\n",
    "    print (f\"{key}{val})\n"
   ]
  },
  {
   "cell_type": "code",
   "execution_count": 24,
   "metadata": {},
   "outputs": [
    {
     "name": "stdout",
     "output_type": "stream",
     "text": [
      "key150\n",
      "key2100\n",
      "key3200\n"
     ]
    }
   ],
   "source": [
    "d1 = {'key1': 50, 'key2': 100, 'key3':200} \n",
    "for key,val in d1.items(): \n",
    "    print (f\"{key}{val}\")"
   ]
  },
  {
   "cell_type": "code",
   "execution_count": 29,
   "metadata": {},
   "outputs": [
    {
     "name": "stdout",
     "output_type": "stream",
     "text": [
      "08:2021\n"
     ]
    },
    {
     "ename": "AttributeError",
     "evalue": "type object 'datetime.datetime' has no attribute 'datetime'",
     "output_type": "error",
     "traceback": [
      "\u001b[1;31m---------------------------------------------------------------------------\u001b[0m",
      "\u001b[1;31mAttributeError\u001b[0m                            Traceback (most recent call last)",
      "\u001b[1;32m<ipython-input-29-b6ae8dde0c5b>\u001b[0m in \u001b[0;36m<module>\u001b[1;34m\u001b[0m\n\u001b[0;32m      2\u001b[0m \u001b[0mnew_date\u001b[0m \u001b[1;33m=\u001b[0m \u001b[0mdatetime\u001b[0m\u001b[1;33m.\u001b[0m\u001b[0mstrptime\u001b[0m\u001b[1;33m(\u001b[0m\u001b[1;34m\"2021-08-01\"\u001b[0m\u001b[1;33m,\u001b[0m \u001b[1;34m\"%Y-%m-%d\"\u001b[0m\u001b[1;33m)\u001b[0m\u001b[1;33m.\u001b[0m\u001b[0mstrftime\u001b[0m\u001b[1;33m(\u001b[0m\u001b[1;34m\"%m:%Y\"\u001b[0m\u001b[1;33m)\u001b[0m\u001b[1;33m\u001b[0m\u001b[1;33m\u001b[0m\u001b[0m\n\u001b[0;32m      3\u001b[0m \u001b[0mprint\u001b[0m\u001b[1;33m(\u001b[0m\u001b[0mnew_date\u001b[0m\u001b[1;33m)\u001b[0m\u001b[1;33m\u001b[0m\u001b[1;33m\u001b[0m\u001b[0m\n\u001b[1;32m----> 4\u001b[1;33m \u001b[0mprint\u001b[0m\u001b[1;33m(\u001b[0m\u001b[0mdatetime\u001b[0m\u001b[1;33m.\u001b[0m\u001b[0mdatetime\u001b[0m\u001b[1;33m)\u001b[0m\u001b[1;33m\u001b[0m\u001b[1;33m\u001b[0m\u001b[0m\n\u001b[0m",
      "\u001b[1;31mAttributeError\u001b[0m: type object 'datetime.datetime' has no attribute 'datetime'"
     ]
    }
   ],
   "source": [
    "from datetime import datetime\n",
    "new_date = datetime.strptime(\"2021-08-01\", \"%Y-%m-%d\").strftime(\"%m:%Y\")\n",
    "print(new_date)\n",
    "print(datetime.datetime)"
   ]
  },
  {
   "cell_type": "code",
   "execution_count": 2,
   "metadata": {},
   "outputs": [
    {
     "name": "stdout",
     "output_type": "stream",
     "text": [
      "{'a': 1, 'b': 2, 'c': 3, 'd': 4, 'e': 5}\n"
     ]
    }
   ],
   "source": [
    "B0 = dict(zip(('a','b','c','d','e'),(1,2,3,4,5)))\n",
    "print(B0)"
   ]
  },
  {
   "cell_type": "code",
   "execution_count": 7,
   "metadata": {},
   "outputs": [
    {
     "name": "stdout",
     "output_type": "stream",
     "text": [
      "range(0, 10)\n"
     ]
    }
   ],
   "source": [
    "B1 = range(10)\n",
    "print(B1)"
   ]
  },
  {
   "cell_type": "code",
   "execution_count": 10,
   "metadata": {},
   "outputs": [
    {
     "name": "stdout",
     "output_type": "stream",
     "text": [
      "[]\n"
     ]
    }
   ],
   "source": [
    "B2 = [i for i in range(10) if i in B0]\n",
    "print(B2)"
   ]
  },
  {
   "cell_type": "code",
   "execution_count": 11,
   "metadata": {},
   "outputs": [
    {
     "name": "stdout",
     "output_type": "stream",
     "text": [
      "{0: 0, 1: 1, 2: 4, 3: 9, 4: 16, 5: 25, 6: 36, 7: 49, 8: 64, 9: 81}\n"
     ]
    }
   ],
   "source": [
    "B5 = {i:i*i for i in B1}\n",
    "print(B5)"
   ]
  },
  {
   "cell_type": "code",
   "execution_count": 13,
   "metadata": {},
   "outputs": [
    {
     "name": "stdout",
     "output_type": "stream",
     "text": [
      "[[0, 0], [1, 1], [2, 4], [3, 9], [4, 16], [5, 25], [6, 36], [7, 49], [8, 64], [9, 81]]\n"
     ]
    }
   ],
   "source": [
    "B6 = [[i,i*i] for i in B1]\n",
    "print(B6)"
   ]
  },
  {
   "cell_type": "code",
   "execution_count": 15,
   "metadata": {},
   "outputs": [
    {
     "name": "stdout",
     "output_type": "stream",
     "text": [
      "[1, 2, 3, 4, 5]\n"
     ]
    }
   ],
   "source": [
    "B3 = sorted([B0[s] for s in B0])\n",
    "print(B3)"
   ]
  },
  {
   "cell_type": "code",
   "execution_count": 17,
   "metadata": {},
   "outputs": [
    {
     "name": "stdout",
     "output_type": "stream",
     "text": [
      "a\n",
      "b\n",
      "c\n",
      "d\n",
      "e\n"
     ]
    }
   ],
   "source": [
    "for s in B0:\n",
    "    print(s)"
   ]
  },
  {
   "cell_type": "code",
   "execution_count": 18,
   "metadata": {},
   "outputs": [
    {
     "name": "stdout",
     "output_type": "stream",
     "text": [
      "{'a': 1, 'b': 2, 'c': 3, 'd': 4, 'e': 5}\n"
     ]
    }
   ],
   "source": [
    "print(B0)"
   ]
  },
  {
   "cell_type": "code",
   "execution_count": 19,
   "metadata": {},
   "outputs": [
    {
     "name": "stdout",
     "output_type": "stream",
     "text": [
      "[1, 2, 3, 4, 5]\n"
     ]
    }
   ],
   "source": [
    "B4 = [i for i in B1 if i in B3]\n",
    "print(B4)"
   ]
  },
  {
   "cell_type": "code",
   "execution_count": 24,
   "metadata": {},
   "outputs": [
    {
     "name": "stdout",
     "output_type": "stream",
     "text": [
      "range(0, 10)\n",
      "{'a': 1, 'b': 2, 'c': 3, 'd': 4, 'e': 5}\n",
      "0\n",
      "1\n",
      "2\n",
      "3\n",
      "4\n",
      "5\n",
      "6\n",
      "7\n",
      "8\n",
      "9\n"
     ]
    }
   ],
   "source": [
    "print(B1)\n",
    "print(B0)\n",
    "for i in B1:\n",
    "    print(i)\n",
    "    if i in B0:\n",
    "        print(i)\n",
    "        "
   ]
  },
  {
   "cell_type": "code",
   "execution_count": 10,
   "metadata": {},
   "outputs": [
    {
     "name": "stdout",
     "output_type": "stream",
     "text": [
      "6\n"
     ]
    }
   ],
   "source": [
    "list1=[1,2,3,4,5,6]\n",
    "\n",
    "print(len(list1))"
   ]
  },
  {
   "cell_type": "code",
   "execution_count": 37,
   "metadata": {},
   "outputs": [
    {
     "name": "stdout",
     "output_type": "stream",
     "text": [
      "11\n",
      "0 86  [75, 23, 12, 5, 24, 23, 76, 86, 24, 86, 24]\n",
      "1 86  [24, 75, 23, 12, 5, 24, 23, 76, 86, 24, 86]\n",
      "[24, 75, 23, 12, 5, 24, 23, 76, 86, 24, 86]\n"
     ]
    }
   ],
   "source": [
    "right shift array by 2 position\n",
    "list1=[23, 12, 5, 24, 23, 76, 86, 24, 86, 24, 75]  \n",
    "list2=[]\n",
    "print(len(list1))\n",
    "for index in range(0,2):  \n",
    "#for index,item in enumerate(list1):\n",
    "    temp1=list1[-1]\n",
    "    list1.pop(-1)\n",
    "    list1.insert(0,temp1)\n",
    "    print(f\"{index} {item}  {list1}\")\n",
    "        \n",
    "print(f\"{list1}\")"
   ]
  },
  {
   "cell_type": "code",
   "execution_count": 18,
   "metadata": {},
   "outputs": [
    {
     "data": {
      "text/plain": [
       "[24, 75, 23, 12, 5, 24, 23, 76, 86, 24, 86]"
      ]
     },
     "execution_count": 18,
     "metadata": {},
     "output_type": "execute_result"
    }
   ],
   "source": [
    "[24, 75, 23, 12, 5, 24, 23, 76, 86, 24, 86]"
   ]
  },
  {
   "cell_type": "code",
   "execution_count": 38,
   "metadata": {},
   "outputs": [
    {
     "name": "stdout",
     "output_type": "stream",
     "text": [
      "[75, 24, 86, 24, 86, 76, 23, 24, 5, 12, 23]\n"
     ]
    }
   ],
   "source": [
    "#reverse a given list\n",
    "array = [23, 12, 5, 24, 23, 76, 86, 24, 86, 24, 75]  \n",
    "print(array[::-1])"
   ]
  },
  {
   "cell_type": "code",
   "execution_count": 48,
   "metadata": {},
   "outputs": [
    {
     "name": "stdout",
     "output_type": "stream",
     "text": [
      "a\n",
      "a\n",
      "o\n",
      "i\n",
      "Jvtpnt\n"
     ]
    }
   ],
   "source": [
    "#removes vowels from a string\n",
    "string = 'Javatpoint' \n",
    "result=\"\"\n",
    "for s in string:\n",
    "    if s in ('aeiouAEIOU'):\n",
    "        print(s)\n",
    "    else:\n",
    "        result += s\n",
    "print(result)"
   ]
  },
  {
   "cell_type": "code",
   "execution_count": 30,
   "metadata": {},
   "outputs": [
    {
     "name": "stdout",
     "output_type": "stream",
     "text": [
      "input  :117\n",
      "palindrome: 121\n",
      "palindrome: 111\n",
      "4\n",
      "6\n",
      "near palindrome:121\n"
     ]
    }
   ],
   "source": [
    "ip=int(input(\"input  :\"))\n",
    "input_1=ip\n",
    "found=False\n",
    "while(found==False):\n",
    "    str1=str(input_1)[::-1]\n",
    "    if str1 == str(input_1):\n",
    "        found=True\n",
    "        print(f\"palindrome: {str1}\")\n",
    "        next_palindrome=str1\n",
    "        break\n",
    "    else:\n",
    "        input_1 += 1\n",
    "\n",
    "input_1=ip\n",
    "found=False\n",
    "while(found==False):\n",
    "    str1=str(input_1)[::-1]\n",
    "    if str1 == str(input_1):\n",
    "        found=True\n",
    "        print(f\"palindrome: {str1}\")\n",
    "        prev_palindrome=str1\n",
    "        break\n",
    "    else:\n",
    "        input_1 = input_1- 1\n",
    "near_palindrome=\"\"  \n",
    "print(int(next_palindrome) - int(ip))\n",
    "print(int(ip) - int(prev_palindrome))\n",
    "if (int(next_palindrome) - int(ip)) > (int(ip) - int(prev_palindrome)):\n",
    "    near_palindrome=prev_palindrome\n",
    "else:\n",
    "    near_palindrome=next_palindrome\n",
    "print(f\"near palindrome:{near_palindrome}\")"
   ]
  },
  {
   "cell_type": "code",
   "execution_count": 25,
   "metadata": {},
   "outputs": [
    {
     "name": "stdout",
     "output_type": "stream",
     "text": [
      "Enter number :9\n",
      "9 is not prime\n"
     ]
    }
   ],
   "source": [
    "#prime number\n",
    "num=int(input(\"Enter number :\"))\n",
    "for i in range(2,num-1):\n",
    "    if (num%i == 0):\n",
    "         print(f\"{num} is not prime\")\n",
    "         break\n",
    "else:\n",
    "    print(f\"{num} is prime\")"
   ]
  },
  {
   "cell_type": "code",
   "execution_count": 26,
   "metadata": {},
   "outputs": [
    {
     "name": "stdout",
     "output_type": "stream",
     "text": [
      "554321\n"
     ]
    }
   ],
   "source": [
    "#Write a program to reverse an integer in Python\n",
    "num=\"123455\"\n",
    "print(num[::-1])"
   ]
  },
  {
   "cell_type": "code",
   "execution_count": 48,
   "metadata": {},
   "outputs": [
    {
     "name": "stdout",
     "output_type": "stream",
     "text": [
      "9474\n",
      "Armstrong number\n"
     ]
    }
   ],
   "source": [
    "#Write a program in Python to check whether an integer is Armstrong number or not. ex 371,9474\n",
    "num=str(9474)\n",
    "lst=[]\n",
    "sum1=0\n",
    "multiply=len(num)\n",
    "for i in num:\n",
    "    #lst.append(i)\n",
    "    x=int(i)\n",
    "    for j in range(1,multiply):\n",
    "        x=x*int(i)\n",
    "    lst.append(x)\n",
    "for l in lst:\n",
    "    sum1+=int(l)\n",
    "print(sum1)\n",
    "if str(sum1)==num:\n",
    "    print(\"Armstrong number\")\n",
    "else:\n",
    "    print(\"Armstrong number not\")"
   ]
  },
  {
   "cell_type": "code",
   "execution_count": 7,
   "metadata": {},
   "outputs": [
    {
     "name": "stdout",
     "output_type": "stream",
     "text": [
      "please give a number : 121\n",
      "reverse 1\n",
      "temp 12\n",
      "reverse 12\n",
      "temp 1\n",
      "reverse 121\n",
      "temp 0\n",
      "number is palindrom\n"
     ]
    }
   ],
   "source": [
    "n= int(input(\"please give a number : \"))\n",
    "reverse,temp = 0,n\n",
    "\n",
    "while temp!=0:\n",
    "    reverse = reverse*10 + temp%10;        \n",
    "    temp=temp//10;\n",
    "    print(\"reverse\",reverse)\n",
    "    print(\"temp\",temp)\n",
    "if reverse==n:\n",
    "    print(\"number is palindrom\")\n",
    "else:\n",
    "    print(\"number is not palindrom\")"
   ]
  },
  {
   "cell_type": "code",
   "execution_count": 22,
   "metadata": {},
   "outputs": [
    {
     "name": "stdout",
     "output_type": "stream",
     "text": [
      "20\n"
     ]
    }
   ],
   "source": [
    "#Write a program in Python to find greatest among three integers.\n",
    "lst=[7,1,11,2,3,8,20]\n",
    "greatest=lst[0]\n",
    "for index in range(len(lst)):\n",
    "    if lst[index] > greatest:\n",
    "        greatest=lst[index]\n",
    "print(greatest)"
   ]
  },
  {
   "cell_type": "code",
   "execution_count": 23,
   "metadata": {},
   "outputs": [
    {
     "name": "stdout",
     "output_type": "stream",
     "text": [
      "2 1\n"
     ]
    }
   ],
   "source": [
    "#Write a program in Python to swap two numbers without using third variable?\n",
    "A=1\n",
    "B=2\n",
    "A,B=B,A\n",
    "print (A,B)"
   ]
  },
  {
   "cell_type": "code",
   "execution_count": 26,
   "metadata": {},
   "outputs": [
    {
     "data": {
      "text/plain": [
       "5"
      ]
     },
     "execution_count": 26,
     "metadata": {},
     "output_type": "execute_result"
    }
   ],
   "source": [
    "#Write a program in Python to add two integer without using arithmetic operator?\n",
    "A=1\n",
    "B=4\n",
    "A^B"
   ]
  },
  {
   "cell_type": "code",
   "execution_count": null,
   "metadata": {},
   "outputs": [],
   "source": [
    "#Python Program to check the given year is a leap year or not\n"
   ]
  }
 ],
 "metadata": {
  "kernelspec": {
   "display_name": "Python 3",
   "language": "python",
   "name": "python3"
  },
  "language_info": {
   "codemirror_mode": {
    "name": "ipython",
    "version": 3
   },
   "file_extension": ".py",
   "mimetype": "text/x-python",
   "name": "python",
   "nbconvert_exporter": "python",
   "pygments_lexer": "ipython3",
   "version": "3.8.5"
  }
 },
 "nbformat": 4,
 "nbformat_minor": 4
}
